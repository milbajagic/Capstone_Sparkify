{
 "cells": [
  {
   "cell_type": "markdown",
   "metadata": {},
   "source": [
    "# Sparkify Project Workspace\n",
    "This workspace contains a tiny subset (128MB) of the full dataset available (12GB). Feel free to use this workspace to build your project, or to explore a smaller subset with Spark before deploying your cluster on the cloud. Instructions for setting up your Spark cluster is included in the last lesson of the Extracurricular Spark Course content.\n",
    "\n",
    "You can follow the steps below to guide your data analysis and model building portion of this project."
   ]
  },
  {
   "cell_type": "code",
   "execution_count": 16,
   "metadata": {},
   "outputs": [],
   "source": [
    "# import libraries\n",
    "import pyspark\n",
    "from pyspark import SparkConf\n",
    "from pyspark.sql import SparkSession\n",
    "\n",
    "from pyspark.sql.functions import avg, col, concat, desc, explode, lit, min, max, split, udf,count\\\n",
    ",when,isnan,regexp_replace,countDistinct,month,from_unixtime,to_timestamp,lead,datediff,mean\n",
    "from pyspark.sql.types import IntegerType, DateType, StringType, FloatType, TimestampType\n",
    "import datetime\n",
    "from pyspark.sql.functions import sum as Fsum\n",
    "from pyspark.sql.types import *\n",
    "from pyspark.sql.window import Window\n",
    "import pandas as pd\n",
    "import numpy as np\n",
    "import seaborn as sns\n",
    "import re\n",
    "\n",
    "\n",
    "from pyspark.ml.linalg import Vectors\n",
    "from pyspark.ml.feature import VectorAssembler\n",
    "from pyspark.ml.feature import FeatureHasher\n",
    "from pyspark.ml.feature import OneHotEncoderEstimator, StringIndexer, StandardScaler\n",
    "from pyspark.ml.evaluation import MulticlassClassificationEvaluator\n",
    "from pyspark.ml import Pipeline\n",
    "from pyspark.ml.classification import LogisticRegression, RandomForestClassifier, GBTClassifier\n",
    "\n",
    "from pyspark.ml.feature import StandardScaler, VectorAssembler\n",
    "from pyspark.ml.tuning import CrossValidator, ParamGridBuilder\n",
    "\n",
    "%matplotlib inline\n",
    "import matplotlib.pyplot as plt"
   ]
  },
  {
   "cell_type": "code",
   "execution_count": 2,
   "metadata": {},
   "outputs": [],
   "source": [
    "# create a Spark session\n",
    "spark = SparkSession \\\n",
    "    .builder \\\n",
    "    .appName(\"Spark Project\") \\\n",
    "    .getOrCreate()"
   ]
  },
  {
   "cell_type": "code",
   "execution_count": 3,
   "metadata": {},
   "outputs": [
    {
     "data": {
      "text/plain": [
       "[('spark.rdd.compress', 'True'),\n",
       " ('spark.serializer.objectStreamReset', '100'),\n",
       " ('spark.app.id', 'local-1589613108948'),\n",
       " ('spark.master', 'local[*]'),\n",
       " ('spark.executor.id', 'driver'),\n",
       " ('spark.submit.deployMode', 'client'),\n",
       " ('spark.app.name', 'Spark Project'),\n",
       " ('spark.driver.port', '40741'),\n",
       " ('spark.ui.showConsoleProgress', 'true'),\n",
       " ('spark.driver.host', 'aa01d815a3d4')]"
      ]
     },
     "execution_count": 3,
     "metadata": {},
     "output_type": "execute_result"
    }
   ],
   "source": [
    "# check if the change went through\n",
    "spark.sparkContext.getConf().getAll()"
   ]
  },
  {
   "cell_type": "code",
   "execution_count": 4,
   "metadata": {},
   "outputs": [
    {
     "data": {
      "text/html": [
       "\n",
       "            <div>\n",
       "                <p><b>SparkSession - in-memory</b></p>\n",
       "                \n",
       "        <div>\n",
       "            <p><b>SparkContext</b></p>\n",
       "\n",
       "            <p><a href=\"http://aa01d815a3d4:4040\">Spark UI</a></p>\n",
       "\n",
       "            <dl>\n",
       "              <dt>Version</dt>\n",
       "                <dd><code>v2.4.3</code></dd>\n",
       "              <dt>Master</dt>\n",
       "                <dd><code>local[*]</code></dd>\n",
       "              <dt>AppName</dt>\n",
       "                <dd><code>Spark Project</code></dd>\n",
       "            </dl>\n",
       "        </div>\n",
       "        \n",
       "            </div>\n",
       "        "
      ],
      "text/plain": [
       "<pyspark.sql.session.SparkSession at 0x7ff0273eb470>"
      ]
     },
     "execution_count": 4,
     "metadata": {},
     "output_type": "execute_result"
    }
   ],
   "source": [
    "spark"
   ]
  },
  {
   "cell_type": "markdown",
   "metadata": {},
   "source": [
    "# Load and Clean Dataset\n",
    "In this workspace, the mini-dataset file is `mini_sparkify_event_data.json`. Load and clean the dataset, checking for invalid or missing data - for example, records without userids or sessionids. "
   ]
  },
  {
   "cell_type": "code",
   "execution_count": 3,
   "metadata": {},
   "outputs": [],
   "source": [
    "path = \"mini_sparkify_event_data.json\"\n",
    "df = spark.read.json(path)"
   ]
  },
  {
   "cell_type": "code",
   "execution_count": 6,
   "metadata": {},
   "outputs": [
    {
     "name": "stdout",
     "output_type": "stream",
     "text": [
      "root\n",
      " |-- artist: string (nullable = true)\n",
      " |-- auth: string (nullable = true)\n",
      " |-- firstName: string (nullable = true)\n",
      " |-- gender: string (nullable = true)\n",
      " |-- itemInSession: long (nullable = true)\n",
      " |-- lastName: string (nullable = true)\n",
      " |-- length: double (nullable = true)\n",
      " |-- level: string (nullable = true)\n",
      " |-- location: string (nullable = true)\n",
      " |-- method: string (nullable = true)\n",
      " |-- page: string (nullable = true)\n",
      " |-- registration: long (nullable = true)\n",
      " |-- sessionId: long (nullable = true)\n",
      " |-- song: string (nullable = true)\n",
      " |-- status: long (nullable = true)\n",
      " |-- ts: long (nullable = true)\n",
      " |-- userAgent: string (nullable = true)\n",
      " |-- userId: string (nullable = true)\n",
      "\n"
     ]
    }
   ],
   "source": [
    "df.printSchema()"
   ]
  },
  {
   "cell_type": "code",
   "execution_count": 7,
   "metadata": {},
   "outputs": [
    {
     "data": {
      "text/plain": [
       "286500"
      ]
     },
     "execution_count": 7,
     "metadata": {},
     "output_type": "execute_result"
    }
   ],
   "source": [
    "# number of rows\n",
    "df.count()"
   ]
  },
  {
   "cell_type": "code",
   "execution_count": 8,
   "metadata": {},
   "outputs": [
    {
     "data": {
      "text/plain": [
       "[Row(artist='Martha Tilston', auth='Logged In', firstName='Colin', gender='M', itemInSession=50, lastName='Freeman', length=277.89016, level='paid', location='Bakersfield, CA', method='PUT', page='NextSong', registration=1538173362000, sessionId=29, song='Rockpools', status=200, ts=1538352117000, userAgent='Mozilla/5.0 (Windows NT 6.1; WOW64; rv:31.0) Gecko/20100101 Firefox/31.0', userId='30'),\n",
       " Row(artist='Five Iron Frenzy', auth='Logged In', firstName='Micah', gender='M', itemInSession=79, lastName='Long', length=236.09424, level='free', location='Boston-Cambridge-Newton, MA-NH', method='PUT', page='NextSong', registration=1538331630000, sessionId=8, song='Canada', status=200, ts=1538352180000, userAgent='\"Mozilla/5.0 (Windows NT 6.1; WOW64) AppleWebKit/537.36 (KHTML, like Gecko) Chrome/37.0.2062.103 Safari/537.36\"', userId='9'),\n",
       " Row(artist='Adam Lambert', auth='Logged In', firstName='Colin', gender='M', itemInSession=51, lastName='Freeman', length=282.8273, level='paid', location='Bakersfield, CA', method='PUT', page='NextSong', registration=1538173362000, sessionId=29, song='Time For Miracles', status=200, ts=1538352394000, userAgent='Mozilla/5.0 (Windows NT 6.1; WOW64; rv:31.0) Gecko/20100101 Firefox/31.0', userId='30'),\n",
       " Row(artist='Enigma', auth='Logged In', firstName='Micah', gender='M', itemInSession=80, lastName='Long', length=262.71302, level='free', location='Boston-Cambridge-Newton, MA-NH', method='PUT', page='NextSong', registration=1538331630000, sessionId=8, song='Knocking On Forbidden Doors', status=200, ts=1538352416000, userAgent='\"Mozilla/5.0 (Windows NT 6.1; WOW64) AppleWebKit/537.36 (KHTML, like Gecko) Chrome/37.0.2062.103 Safari/537.36\"', userId='9'),\n",
       " Row(artist='Daft Punk', auth='Logged In', firstName='Colin', gender='M', itemInSession=52, lastName='Freeman', length=223.60771, level='paid', location='Bakersfield, CA', method='PUT', page='NextSong', registration=1538173362000, sessionId=29, song='Harder Better Faster Stronger', status=200, ts=1538352676000, userAgent='Mozilla/5.0 (Windows NT 6.1; WOW64; rv:31.0) Gecko/20100101 Firefox/31.0', userId='30')]"
      ]
     },
     "execution_count": 8,
     "metadata": {},
     "output_type": "execute_result"
    }
   ],
   "source": [
    "df.take(5)"
   ]
  },
  {
   "cell_type": "code",
   "execution_count": 9,
   "metadata": {},
   "outputs": [
    {
     "name": "stdout",
     "output_type": "stream",
     "text": [
      "+-------+------------------+----------+---------+------+------------------+--------+-----------------+------+-----------------+------+-------+--------------------+-----------------+--------------------+------------------+--------------------+--------------------+-----------------+\n",
      "|summary|            artist|      auth|firstName|gender|     itemInSession|lastName|           length| level|         location|method|   page|        registration|        sessionId|                song|            status|                  ts|           userAgent|           userId|\n",
      "+-------+------------------+----------+---------+------+------------------+--------+-----------------+------+-----------------+------+-------+--------------------+-----------------+--------------------+------------------+--------------------+--------------------+-----------------+\n",
      "|  count|            228108|    286500|   278154|278154|            286500|  278154|           228108|286500|           278154|286500| 286500|              278154|           286500|              228108|            286500|              286500|              278154|           286500|\n",
      "|   mean| 551.0852017937219|      null|     null|  null|114.41421291448516|    null|249.1171819778458|  null|             null|  null|   null|1.535358834084427...|1041.526554973822|            Infinity|210.05459685863875|1.540956889810483...|                null|59682.02278593872|\n",
      "| stddev|1217.7693079161374|      null|     null|  null|129.76726201140994|    null|99.23517921058361|  null|             null|  null|   null| 3.291321616327586E9|726.7762634630741|                 NaN| 31.50507848842214|1.5075439608226302E9|                null|109091.9499991047|\n",
      "|    min|               !!!| Cancelled| Adelaida|     F|                 0|   Adams|          0.78322|  free|       Albany, OR|   GET|  About|       1521380675000|                1|\u001c",
      "ÃÂg ÃÂtti Gr...|               200|       1538352117000|\"Mozilla/5.0 (Mac...|                 |\n",
      "|    max| ÃÂlafur Arnalds|Logged Out|   Zyonna|     M|              1321|  Wright|       3024.66567|  paid|Winston-Salem, NC|   PUT|Upgrade|       1543247354000|             2474|ÃÂau hafa slopp...|               404|       1543799476000|Mozilla/5.0 (comp...|               99|\n",
      "+-------+------------------+----------+---------+------+------------------+--------+-----------------+------+-----------------+------+-------+--------------------+-----------------+--------------------+------------------+--------------------+--------------------+-----------------+\n",
      "\n"
     ]
    }
   ],
   "source": [
    "df.describe().show()"
   ]
  },
  {
   "cell_type": "markdown",
   "metadata": {},
   "source": [
    "Following columns have no missing values: \n",
    "\n",
    "auth \n",
    "\n",
    "itemInSession\n",
    "\n",
    "level\n",
    "\n",
    "method\n",
    "\n",
    "page\n",
    "\n",
    "sessionId\n",
    "\n",
    "status\n",
    "\n",
    "ts\n",
    "\n",
    "userId.\n",
    "\n",
    "Columns: artist, firstName, gender, lastName, length, location, registration, song, userAgent have less then the number of rows in the datasets, so let's investigate them further.\n",
    "\n",
    "Since there is a unique userId we can drop the columns firstName and lastName."
   ]
  },
  {
   "cell_type": "code",
   "execution_count": 10,
   "metadata": {},
   "outputs": [
    {
     "name": "stdout",
     "output_type": "stream",
     "text": [
      "+-------+-----------------+\n",
      "|summary|        sessionID|\n",
      "+-------+-----------------+\n",
      "|  count|           286500|\n",
      "|   mean|1041.526554973822|\n",
      "| stddev|726.7762634630741|\n",
      "|    min|                1|\n",
      "|    max|             2474|\n",
      "+-------+-----------------+\n",
      "\n"
     ]
    }
   ],
   "source": [
    "df.describe(\"sessionID\").show()"
   ]
  },
  {
   "cell_type": "markdown",
   "metadata": {},
   "source": [
    "There are 278154 sessionID, with values between 1 and 2474."
   ]
  },
  {
   "cell_type": "code",
   "execution_count": 11,
   "metadata": {},
   "outputs": [
    {
     "name": "stdout",
     "output_type": "stream",
     "text": [
      "+-------+------------------+\n",
      "|summary|            artist|\n",
      "+-------+------------------+\n",
      "|  count|            228108|\n",
      "|   mean| 551.0852017937219|\n",
      "| stddev|1217.7693079161374|\n",
      "|    min|               !!!|\n",
      "|    max| ÃÂlafur Arnalds|\n",
      "+-------+------------------+\n",
      "\n"
     ]
    }
   ],
   "source": [
    "df.describe(\"artist\").show()"
   ]
  },
  {
   "cell_type": "code",
   "execution_count": 12,
   "metadata": {},
   "outputs": [
    {
     "data": {
      "text/plain": [
       "154578"
      ]
     },
     "execution_count": 12,
     "metadata": {},
     "output_type": "execute_result"
    }
   ],
   "source": [
    "# how many females total \n",
    "df.filter(df.gender == 'F') \\\n",
    "    .select('userId', 'gender') \\\n",
    "    .count()"
   ]
  },
  {
   "cell_type": "code",
   "execution_count": 13,
   "metadata": {},
   "outputs": [
    {
     "data": {
      "text/plain": [
       "123576"
      ]
     },
     "execution_count": 13,
     "metadata": {},
     "output_type": "execute_result"
    }
   ],
   "source": [
    "# how many males total \n",
    "df.filter(df.gender == 'M') \\\n",
    "    .select('userId', 'gender') \\\n",
    "    .count()"
   ]
  },
  {
   "cell_type": "code",
   "execution_count": 14,
   "metadata": {},
   "outputs": [
    {
     "data": {
      "text/plain": [
       "104"
      ]
     },
     "execution_count": 14,
     "metadata": {},
     "output_type": "execute_result"
    }
   ],
   "source": [
    "# How many unique users are female\n",
    "df.filter(df.gender == 'F') \\\n",
    "    .select('userId', 'gender') \\\n",
    "    .dropDuplicates() \\\n",
    "    .count()"
   ]
  },
  {
   "cell_type": "code",
   "execution_count": 15,
   "metadata": {},
   "outputs": [
    {
     "data": {
      "text/plain": [
       "121"
      ]
     },
     "execution_count": 15,
     "metadata": {},
     "output_type": "execute_result"
    }
   ],
   "source": [
    "# How many unique users are male\n",
    "df.filter(df.gender == 'M') \\\n",
    "    .select('userId', 'gender') \\\n",
    "    .dropDuplicates() \\\n",
    "    .count()"
   ]
  },
  {
   "cell_type": "code",
   "execution_count": 16,
   "metadata": {},
   "outputs": [
    {
     "name": "stdout",
     "output_type": "stream",
     "text": [
      "+----------+------+\n",
      "|      auth| count|\n",
      "+----------+------+\n",
      "| Logged In|278102|\n",
      "|Logged Out|  8249|\n",
      "|     Guest|    97|\n",
      "| Cancelled|    52|\n",
      "+----------+------+\n",
      "\n"
     ]
    }
   ],
   "source": [
    "# Auth column\n",
    "df.groupby(\"auth\").count().orderBy(desc(\"count\")).show()"
   ]
  },
  {
   "cell_type": "markdown",
   "metadata": {},
   "source": [
    "\"Guest\" and \"Logged Out\" events are not relevant for our exploration."
   ]
  },
  {
   "cell_type": "code",
   "execution_count": 17,
   "metadata": {},
   "outputs": [
    {
     "name": "stdout",
     "output_type": "stream",
     "text": [
      "+-----+------+\n",
      "|level| count|\n",
      "+-----+------+\n",
      "| free| 58338|\n",
      "| paid|228162|\n",
      "+-----+------+\n",
      "\n"
     ]
    }
   ],
   "source": [
    "# Premium or free account\n",
    "df.groupBy(\"level\").count().orderBy(\"level\").show()"
   ]
  },
  {
   "cell_type": "code",
   "execution_count": 18,
   "metadata": {},
   "outputs": [
    {
     "name": "stdout",
     "output_type": "stream",
     "text": [
      "+-------------+-----+\n",
      "|itemInSession|count|\n",
      "+-------------+-----+\n",
      "|            0| 3278|\n",
      "|            1| 3125|\n",
      "|            2| 3067|\n",
      "|            3| 3013|\n",
      "|            4| 2977|\n",
      "|            5| 2925|\n",
      "|            6| 2886|\n",
      "|            7| 2857|\n",
      "|            8| 2816|\n",
      "|            9| 2771|\n",
      "|           10| 2717|\n",
      "|           11| 2672|\n",
      "|           12| 2636|\n",
      "|           13| 2600|\n",
      "|           14| 2561|\n",
      "|           15| 2523|\n",
      "|           16| 2497|\n",
      "|           17| 2461|\n",
      "|           18| 2417|\n",
      "|           19| 2381|\n",
      "+-------------+-----+\n",
      "only showing top 20 rows\n",
      "\n"
     ]
    }
   ],
   "source": [
    "# itemInSession\n",
    "df.groupby(\"itemInSession\").count().orderBy(desc(\"count\")).show()"
   ]
  },
  {
   "cell_type": "code",
   "execution_count": 19,
   "metadata": {},
   "outputs": [
    {
     "name": "stdout",
     "output_type": "stream",
     "text": [
      "+---------+-----+\n",
      "|   length|count|\n",
      "+---------+-----+\n",
      "|     null|58392|\n",
      "| 239.3073| 1205|\n",
      "|348.57751| 1037|\n",
      "|201.79546|  908|\n",
      "|655.77751|  730|\n",
      "|277.15873|  645|\n",
      "|219.66322|  585|\n",
      "|224.67873|  522|\n",
      "|220.89098|  511|\n",
      "|236.09424|  450|\n",
      "|252.21179|  438|\n",
      "|233.69098|  436|\n",
      "|122.04363|  412|\n",
      "|195.94404|  408|\n",
      "|181.21098|  384|\n",
      "|225.17506|  379|\n",
      "|231.81016|  378|\n",
      "|216.76363|  362|\n",
      "|302.05342|  345|\n",
      "|233.89995|  314|\n",
      "+---------+-----+\n",
      "only showing top 20 rows\n",
      "\n"
     ]
    }
   ],
   "source": [
    "df.select(\"length\").groupby(\"length\").count().orderBy(desc(\"count\")).show()"
   ]
  },
  {
   "cell_type": "code",
   "execution_count": 20,
   "metadata": {},
   "outputs": [
    {
     "name": "stdout",
     "output_type": "stream",
     "text": [
      "+-------+-----------------+\n",
      "|summary|           length|\n",
      "+-------+-----------------+\n",
      "|  count|           228108|\n",
      "|   mean|249.1171819778458|\n",
      "| stddev|99.23517921058361|\n",
      "|    min|          0.78322|\n",
      "|    max|       3024.66567|\n",
      "+-------+-----------------+\n",
      "\n"
     ]
    }
   ],
   "source": [
    "df.describe(\"length\").show()"
   ]
  },
  {
   "cell_type": "code",
   "execution_count": 21,
   "metadata": {},
   "outputs": [],
   "source": [
    "## check for NaNs and Nulls in dataframe\n",
    "## ref: https://stackoverflow.com/questions/44627386/how-to-find-count-of-null-and-nan-values-for-each-column-in-a-pyspark-dataframe\n",
    "#df.select([count(when(isnan(c) | col(c).isNull(), c)).alias(c) for c in df.columns]).show()"
   ]
  },
  {
   "cell_type": "markdown",
   "metadata": {},
   "source": [
    "There seam to be no NaN/Null values in auth, itemInSession, level, method, page, sessionID, status, ts, and userID columns.\n",
    "Artist, length and song all have the same number of missing values (58392), which would indicate that these users were interacting with other pages. firstName, gender, lastName, location, registration and userAgent all have the same number of missing values (8346) which could be users who did not register for the service and were just checking it out without making an account. These rows are not relevant for our investigation and can be removed from the data set. "
   ]
  },
  {
   "cell_type": "code",
   "execution_count": 22,
   "metadata": {},
   "outputs": [],
   "source": [
    "#df_clean = df.dropna(how = \"any\", subset = [\"firstName\", \"lastName\"])"
   ]
  },
  {
   "cell_type": "code",
   "execution_count": 23,
   "metadata": {},
   "outputs": [],
   "source": [
    "## check again\n",
    "#df_clean.select([count(when(isnan(c) | col(c).isNull(), c)).alias(c) for c in df_clean.columns]).show()"
   ]
  },
  {
   "cell_type": "code",
   "execution_count": 24,
   "metadata": {},
   "outputs": [],
   "source": [
    "## fill empty values in artist, length and song with 0\n",
    "#df_clean = df_clean.na.fill(0)\n",
    "#df_clean = df_clean.na.fill('0')"
   ]
  },
  {
   "cell_type": "code",
   "execution_count": 25,
   "metadata": {},
   "outputs": [],
   "source": [
    "## check again\n",
    "#df_clean.select([count(when(isnan(c) | col(c).isNull(), c)).alias(c) for c in df_clean.columns]).show()"
   ]
  },
  {
   "cell_type": "code",
   "execution_count": 26,
   "metadata": {},
   "outputs": [],
   "source": [
    "## check for empty strings in dataframe\n",
    "#df.select([count(when(col(c) == '', c)).alias(c) for c in df.columns]).show()"
   ]
  },
  {
   "cell_type": "code",
   "execution_count": 27,
   "metadata": {},
   "outputs": [],
   "source": [
    "## filter out records with userID empty strings\n",
    "#df_clean = df.filter(df[\"userID\"] != '')"
   ]
  },
  {
   "cell_type": "code",
   "execution_count": 28,
   "metadata": {},
   "outputs": [],
   "source": [
    "#df_clean.count()"
   ]
  },
  {
   "cell_type": "code",
   "execution_count": 29,
   "metadata": {},
   "outputs": [],
   "source": [
    "#df_clean.select([count(when(isnan(c) | col(c).isNull(), c)).alias(c) for c in df_clean.columns]).show()"
   ]
  },
  {
   "cell_type": "code",
   "execution_count": 30,
   "metadata": {},
   "outputs": [],
   "source": [
    "## put all \"cancel\" and \"cancelation confirmation\" users in one dataframe\n",
    "##df_c = df.filter(df.page == 'Cancel').dropDuplicates().toPandas()\n",
    "##df_cc = df.filter(df.page == 'Cancellation Confirmation').dropDuplicates().toPandas()\n",
    "##df_churn = pd.concat([df_c,df_cc]).drop_duplicates(keep=False)\n",
    "#df_churn = df.filter('page == \"Cancel\" and page == \"Cancellation Confirmation\"')"
   ]
  },
  {
   "cell_type": "code",
   "execution_count": 31,
   "metadata": {},
   "outputs": [],
   "source": [
    "#df_churn.count()"
   ]
  },
  {
   "cell_type": "code",
   "execution_count": 32,
   "metadata": {},
   "outputs": [],
   "source": [
    "#df_churn.shape"
   ]
  },
  {
   "cell_type": "code",
   "execution_count": 33,
   "metadata": {},
   "outputs": [],
   "source": [
    "#df_churn.isnull().sum()"
   ]
  },
  {
   "cell_type": "code",
   "execution_count": 34,
   "metadata": {},
   "outputs": [],
   "source": [
    "### put all active users (not \"cancel\" and not \"cancelation confirmation\") users in one dataframe\n",
    "#df_not_c = df.filter(df.page != 'Cancel').dropDuplicates().toPandas()\n",
    "#df_not_cc = df.filter(df.page != 'Cancellation Confirmation').dropDuplicates().toPandas()\n",
    "#df_active = pd.concat([df_not_c,df_not_cc]).drop_duplicates(keep=False)"
   ]
  },
  {
   "cell_type": "code",
   "execution_count": 35,
   "metadata": {},
   "outputs": [],
   "source": [
    "#df_active.shape"
   ]
  },
  {
   "cell_type": "markdown",
   "metadata": {},
   "source": [
    "# Exploratory Data Analysis\n",
    "When you're working with the full dataset, perform EDA by loading a small subset of the data and doing basic manipulations within Spark. In this workspace, you are already provided a small subset of data you can explore.\n",
    "\n",
    "### Define Churn\n",
    "\n",
    "Once you've done some preliminary analysis, create a column `Churn` to use as the label for your model. I suggest using the `Cancellation Confirmation` events to define your churn, which happen for both paid and free users. As a bonus task, you can also look into the `Downgrade` events.\n",
    "\n",
    "### Explore Data\n",
    "Once you've defined churn, perform some exploratory data analysis to observe the behavior for users who stayed vs users who churned. You can start by exploring aggregates on these two groups of users, observing how much of a specific action they experienced per a certain time unit or number of songs played."
   ]
  },
  {
   "cell_type": "markdown",
   "metadata": {},
   "source": [
    "Since time spent using the service is theoretically a good indicator of churn, I will next analyze the timestamp."
   ]
  },
  {
   "cell_type": "code",
   "execution_count": 36,
   "metadata": {},
   "outputs": [],
   "source": [
    "## original timestamp is in miliseconds, change to seconds\n",
    "## ref: https://stackoverflow.com/questions/45977449/convert-timestamp-to-date-in-spark-dataframe\n",
    "#get_timestamp = udf(lambda x: datetime.datetime.fromtimestamp(x / 1000.0).strftime('%Y-%m-%d %H:%M:%S'))\n",
    "\n",
    "## apply get_timestamp to 'ts' and 'registration' columns\n",
    "#df_clean = df_clean.withColumn('time', get_timestamp(df.ts)).withColumn('registration_date', get_timestamp(df.registration))\n",
    "\n",
    "## drop 'ts' and 'registration' columns\n",
    "#df_clean = df_clean.drop('ts', 'registration')"
   ]
  },
  {
   "cell_type": "code",
   "execution_count": 37,
   "metadata": {},
   "outputs": [],
   "source": [
    "#df_clean.select('registration_date').describe().show()"
   ]
  },
  {
   "cell_type": "code",
   "execution_count": 38,
   "metadata": {},
   "outputs": [],
   "source": [
    "#df_clean.select('time').describe().show()"
   ]
  },
  {
   "cell_type": "code",
   "execution_count": 4,
   "metadata": {},
   "outputs": [],
   "source": [
    "hour = udf(lambda x: datetime.datetime.fromtimestamp(x / 1000.0).hour)"
   ]
  },
  {
   "cell_type": "code",
   "execution_count": 5,
   "metadata": {},
   "outputs": [],
   "source": [
    "df = df.withColumn('hour', hour(df.ts))"
   ]
  },
  {
   "cell_type": "code",
   "execution_count": 41,
   "metadata": {},
   "outputs": [
    {
     "data": {
      "text/plain": [
       "Row(artist='Martha Tilston', auth='Logged In', firstName='Colin', gender='M', itemInSession=50, lastName='Freeman', length=277.89016, level='paid', location='Bakersfield, CA', method='PUT', page='NextSong', registration=1538173362000, sessionId=29, song='Rockpools', status=200, ts=1538352117000, userAgent='Mozilla/5.0 (Windows NT 6.1; WOW64; rv:31.0) Gecko/20100101 Firefox/31.0', userId='30', hour='0')"
      ]
     },
     "execution_count": 41,
     "metadata": {},
     "output_type": "execute_result"
    }
   ],
   "source": [
    "df.head()"
   ]
  },
  {
   "cell_type": "code",
   "execution_count": 42,
   "metadata": {},
   "outputs": [],
   "source": [
    "#songs_in_hour_pd = df.filter(df.page == \"NextSong\").groupby(df.hour).count().orderBy(df.hour.cast(\"float\")).toPandas()\n",
    "#songs_in_hour_pd.hour = pd.to_numeric(songs_in_hour_pd.hour)\n",
    "\n",
    "#plt.scatter(, songs_in_hour_pd[\"count\"])\n",
    "#plt.xlim(-1, 24);\n",
    "#plt.ylim(0.0, 1.1 * max(songs_in_hour_pd[\"count\"]))\n",
    "#plt.xlabel(\"Hour\")\n",
    "#plt.ylabel(\"Songs played\");\n",
    "\n",
    "#sns.barplot(x='hour', y='count', data=songs_in_hour_pd.hour)\n",
    "#plt.title('Songs per hour')\n",
    "#plt.show()"
   ]
  },
  {
   "cell_type": "markdown",
   "metadata": {},
   "source": [
    "# Feature Engineering\n",
    "Once you've familiarized yourself with the data, build out the features you find promising to train your model on. To work with the full dataset, you can follow the following steps.\n",
    "- Write a script to extract the necessary features from the smaller subset of data\n",
    "- Ensure that your script is scalable, using the best practices discussed in Lesson 3\n",
    "- Try your script on the full data set, debugging your script if necessary\n",
    "\n",
    "If you are working in the classroom workspace, you can just extract features based on the small subset of data contained here. Be sure to transfer over this work to the larger dataset when you work on your Spark cluster."
   ]
  },
  {
   "cell_type": "markdown",
   "metadata": {},
   "source": [
    "Churn is an event when a user downgrades from premium to free, or cancels their servise all together. Since there is an option to downgrade, submit downgrade and cacenllation confirmation, let's flag all 3 events separatly and investigate. "
   ]
  },
  {
   "cell_type": "code",
   "execution_count": 43,
   "metadata": {},
   "outputs": [],
   "source": [
    "### flag cancellation events\n",
    "##flag_cancellation_event = udf (lambda event: 1 if event == \"Cancellation Confirmation\" else 0, IntegerType ())\n",
    "### add churn column to the dataframe\n",
    "###df = df.withColumn(\"cancellation\", flag_cancellation_event(\"page\"))"
   ]
  },
  {
   "cell_type": "code",
   "execution_count": 44,
   "metadata": {},
   "outputs": [],
   "source": [
    "### flag downgrade events\n",
    "### = udf (lambda event: 1 if event == \"Downgrade\" else 0, IntegerType ())\n",
    "### add downgrade column to the dataframe\n",
    "###df = df.withColumn(\"downgrade\", flag_downgrade_event(\"page\"))"
   ]
  },
  {
   "cell_type": "code",
   "execution_count": 45,
   "metadata": {},
   "outputs": [],
   "source": [
    "### flag downgrade events\n",
    "###flag_downgrade_event = udf (lambda event: 1 if event == \"Submit Downgrade\" else 0, IntegerType ())\n",
    "#### add downgrade column to the dataframe\n",
    "### df = df.withColumn(\"submit_downgrade\", flag_downgrade_event(\"page\"))"
   ]
  },
  {
   "cell_type": "code",
   "execution_count": 46,
   "metadata": {},
   "outputs": [],
   "source": [
    "###df.head()"
   ]
  },
  {
   "cell_type": "code",
   "execution_count": 47,
   "metadata": {},
   "outputs": [],
   "source": [
    "# sort records in reverse time order, add values in downgrade column \n",
    "windowval = Window.partitionBy(\"userID\").orderBy(desc(\"ts\")).rangeBetween(Window.unboundedPreceding, 0)"
   ]
  },
  {
   "cell_type": "code",
   "execution_count": 49,
   "metadata": {},
   "outputs": [],
   "source": [
    "## add phase column, which divides events of a user based on downgrading events \n",
    "## such as that a user has a different value in the phase columns before and after downgrading\n",
    "#df = df.withColumn(\"phase\", Fsum(\"downgrade\").over(windowval))"
   ]
  },
  {
   "cell_type": "markdown",
   "metadata": {},
   "source": [
    "Phase column will play a role in further exploration of before and after patterns of downgrade event."
   ]
  },
  {
   "cell_type": "code",
   "execution_count": null,
   "metadata": {},
   "outputs": [],
   "source": [
    "# df.head()"
   ]
  },
  {
   "cell_type": "code",
   "execution_count": null,
   "metadata": {},
   "outputs": [],
   "source": [
    "## how many users hit downgrade button?\n",
    "## df.groupBy('downgrade').count().show()"
   ]
  },
  {
   "cell_type": "code",
   "execution_count": null,
   "metadata": {},
   "outputs": [],
   "source": [
    "## how many users submitted downgrade?\n",
    "## df.groupBy('submit_downgrade').count().show()"
   ]
  },
  {
   "cell_type": "code",
   "execution_count": 50,
   "metadata": {},
   "outputs": [
    {
     "name": "stdout",
     "output_type": "stream",
     "text": [
      "+--------------------+-----+\n",
      "|                page|count|\n",
      "+--------------------+-----+\n",
      "|    Submit Downgrade|   63|\n",
      "|           Downgrade| 2055|\n",
      "|Cancellation Conf...|   52|\n",
      "+--------------------+-----+\n",
      "\n"
     ]
    }
   ],
   "source": [
    "# how many users came to potential churn events?\n",
    "df.filter(\"page in ('Cancellation Confirmation','Downgrade', 'Submit Downgrade')\").groupby('page').count().show()"
   ]
  },
  {
   "cell_type": "markdown",
   "metadata": {},
   "source": [
    "Out of 286448 users, 2055 came to downgrade page, and 63 submitted a downgrade and 52 sumbitted a cancellation. Just coming to the downgrade page should not qualify as a churn event, because users could be just checking out pages or clicking by accident. Thus, I will define churn as users who sumbit a downgrade and those who submit a cancelation. "
   ]
  },
  {
   "cell_type": "code",
   "execution_count": 6,
   "metadata": {},
   "outputs": [],
   "source": [
    "def flag_churn_event(x):\n",
    "    \"\"\"\n",
    "    Churn defined as either \"Cancellation Confirmation\" and/or \"Submit Downgrade\" event\n",
    "    \"\"\"\n",
    "    if x == \"Cancellation Confirmation\":\n",
    "        return 1\n",
    "    elif x == \"Submit Downgrade\":\n",
    "        return 1\n",
    "    else:\n",
    "        return 0\n",
    "    \n",
    "churn_event = udf(lambda x : flag_churn_event(x), IntegerType())\n",
    "    \n",
    "df = df.withColumn(\"churn\", churn_event(\"page\"))"
   ]
  },
  {
   "cell_type": "code",
   "execution_count": 7,
   "metadata": {},
   "outputs": [
    {
     "name": "stdout",
     "output_type": "stream",
     "text": [
      "+-----+------+\n",
      "|churn| count|\n",
      "+-----+------+\n",
      "|    1|   115|\n",
      "|    0|286385|\n",
      "+-----+------+\n",
      "\n"
     ]
    }
   ],
   "source": [
    "df.groupBy('churn').count().show()"
   ]
  },
  {
   "cell_type": "code",
   "execution_count": 53,
   "metadata": {},
   "outputs": [
    {
     "data": {
      "text/plain": [
       "<matplotlib.axes._subplots.AxesSubplot at 0x7ff0271835f8>"
      ]
     },
     "execution_count": 53,
     "metadata": {},
     "output_type": "execute_result"
    },
    {
     "data": {
      "image/png": "[encoded data removed]",
      "text/plain": [
       "<matplotlib.figure.Figure at 0x7ff0271830b8>"
      ]
     },
     "metadata": {
      "needs_background": "light"
     },
     "output_type": "display_data"
    }
   ],
   "source": [
    "# % churn \n",
    "# Ref used: https://stackoverflow.com/questions/43968946/calculating-percentages-on-a-pyspark-dataframe\n",
    "churn_rate = df.select(['churn','userId']).distinct().groupby('churn').count().withColumn('percentage', col('count')/df.select(['userId']).distinct().count()*100).toPandas()\n",
    "sns.barplot(x='churn', y='percentage', hue='churn', data=churn_rate)\n",
    "\n"
   ]
  },
  {
   "cell_type": "code",
   "execution_count": 54,
   "metadata": {},
   "outputs": [],
   "source": [
    "# how many free users churned\n",
    "free_churn = df.filter('level == \"free\" and churn == 1').select('userId').distinct().count()\n",
    "free_stayed = df.filter('level== \"free\" and churn == 0').select('userId').distinct().count()\n",
    "# how many paid users churned\n",
    "paid_churn = df.filter('level == \"paid\" and churn == 1').select('userId').distinct().count()\n",
    "paid_stayed = df.filter('level == \"paid\" and churn == 0').select('userId').distinct().count()\n",
    "# how many female users churned\n",
    "female_churn = df.filter('gender == \"F\" and churn == 1').select('userId').distinct().count()\n",
    "female_stayed = df.filter('gender == \"F\" and churn == 0').select('userId').distinct().count()\n",
    "# how many male users churned\n",
    "male_churn = df.filter('gender == \"M\" and churn == 1').select('userId').distinct().count()\n",
    "male_stayed = df.filter('gender ==\"M\" and churn == 0').select('userId').distinct().count()"
   ]
  },
  {
   "cell_type": "code",
   "execution_count": 55,
   "metadata": {},
   "outputs": [
    {
     "name": "stdout",
     "output_type": "stream",
     "text": [
      "Number of unique users: 226\n",
      "Number of free users who churned: 21\n",
      "Number of free users who stayed: 196\n",
      "Number of paid users who churned: 76\n",
      "Number of paid users who stayed: 166\n",
      "Number of female users who churned: 43\n",
      "Number of female users who stayed: 104\n",
      "Number of male users who churned: 49\n",
      "Number of male users who stayed: 121\n"
     ]
    }
   ],
   "source": [
    "print('Number of unique users: {}'.format(df.select('userId').distinct().count()))\n",
    "print('Number of free users who churned: {}'.format(free_churn))\n",
    "print('Number of free users who stayed: {}'.format(free_stayed))\n",
    "print('Number of paid users who churned: {}'.format(paid_churn))\n",
    "print('Number of paid users who stayed: {}'.format(paid_stayed))\n",
    "print('Number of female users who churned: {}'.format(female_churn))\n",
    "print('Number of female users who stayed: {}'.format(female_stayed))\n",
    "print('Number of male users who churned: {}'.format(male_churn))\n",
    "print('Number of male users who stayed: {}'.format(male_stayed))"
   ]
  },
  {
   "cell_type": "code",
   "execution_count": 60,
   "metadata": {},
   "outputs": [],
   "source": [
    "## level before churn\n",
    "#level_before_churn = df.filter(df.churn == 1).groupby('level').count().toPandas()\n",
    "#sns.barplot(x='level', y='count', data=level_before_churn)\n",
    "#plt.title('Level before churn event')\n",
    "#plt.show()"
   ]
  },
  {
   "cell_type": "code",
   "execution_count": 56,
   "metadata": {},
   "outputs": [
    {
     "name": "stdout",
     "output_type": "stream",
     "text": [
      "+--------------------+\n",
      "|                page|\n",
      "+--------------------+\n",
      "|              Cancel|\n",
      "|    Submit Downgrade|\n",
      "|         Thumbs Down|\n",
      "|                Home|\n",
      "|           Downgrade|\n",
      "|         Roll Advert|\n",
      "|              Logout|\n",
      "|       Save Settings|\n",
      "|Cancellation Conf...|\n",
      "|               About|\n",
      "| Submit Registration|\n",
      "|            Settings|\n",
      "|               Login|\n",
      "|            Register|\n",
      "|     Add to Playlist|\n",
      "|          Add Friend|\n",
      "|            NextSong|\n",
      "|           Thumbs Up|\n",
      "|                Help|\n",
      "|             Upgrade|\n",
      "+--------------------+\n",
      "only showing top 20 rows\n",
      "\n"
     ]
    }
   ],
   "source": [
    "# get a list of possible pages that could be visited\n",
    "df.select('page').dropDuplicates().show()"
   ]
  },
  {
   "cell_type": "code",
   "execution_count": 57,
   "metadata": {},
   "outputs": [
    {
     "data": {
      "image/png": "[encoded data removed]",
      "text/plain": [
       "<matplotlib.figure.Figure at 0x7ff0270ff5c0>"
      ]
     },
     "metadata": {
      "needs_background": "light"
     },
     "output_type": "display_data"
    }
   ],
   "source": [
    "# how often are pages visited \n",
    "page_events = df.groupby('page').count().orderBy(desc('count')).toPandas()\n",
    "sns.barplot(x='count', y='page', data=page_events)\n",
    "plt.title('Frequency of page visits')\n",
    "plt.show()"
   ]
  },
  {
   "cell_type": "markdown",
   "metadata": {},
   "source": [
    "'NextSong' is the most visited page, which makes sense since most of the users are active and it's a music streaming service."
   ]
  },
  {
   "cell_type": "code",
   "execution_count": 61,
   "metadata": {},
   "outputs": [
    {
     "name": "stdout",
     "output_type": "stream",
     "text": [
      "+--------------------+-----+\n",
      "|                song|count|\n",
      "+--------------------+-----+\n",
      "|                null|58392|\n",
      "|      You're The One| 1153|\n",
      "|                Undo| 1026|\n",
      "|             Revelry|  854|\n",
      "|       Sehr kosmisch|  728|\n",
      "|Horn Concerto No....|  641|\n",
      "|Dog Days Are Over...|  574|\n",
      "|             Secrets|  466|\n",
      "|        Use Somebody|  459|\n",
      "|              Canada|  435|\n",
      "|             Invalid|  424|\n",
      "|    Ain't Misbehavin|  409|\n",
      "|       ReprÃÂ©sente|  393|\n",
      "|SinceritÃÂ© Et J...|  384|\n",
      "|Catch You Baby (S...|  373|\n",
      "|              Yellow|  343|\n",
      "|    Somebody To Love|  343|\n",
      "|    Hey_ Soul Sister|  334|\n",
      "|            The Gift|  327|\n",
      "|           Fireflies|  312|\n",
      "+--------------------+-----+\n",
      "only showing top 20 rows\n",
      "\n"
     ]
    }
   ],
   "source": [
    "df.select(\"song\").groupby(\"song\").count().orderBy(desc(\"count\")).show()"
   ]
  },
  {
   "cell_type": "code",
   "execution_count": 62,
   "metadata": {},
   "outputs": [
    {
     "name": "stdout",
     "output_type": "stream",
     "text": [
      "+------+------+\n",
      "|status| count|\n",
      "+------+------+\n",
      "|   200|259812|\n",
      "|   307| 26430|\n",
      "|   404|   258|\n",
      "+------+------+\n",
      "\n"
     ]
    }
   ],
   "source": [
    "df.select(\"status\").groupby(\"status\").count().orderBy(desc(\"count\")).show()"
   ]
  },
  {
   "cell_type": "markdown",
   "metadata": {},
   "source": [
    "Song has many missing and strange values and can be droped out of the analysis. Status seems to deal with error messages, which can be a good indicator for churn. "
   ]
  },
  {
   "cell_type": "markdown",
   "metadata": {},
   "source": [
    "### Convert features to numerical "
   ]
  },
  {
   "cell_type": "markdown",
   "metadata": {},
   "source": [
    "To churn or not to churn - it's a classification question. "
   ]
  },
  {
   "cell_type": "code",
   "execution_count": null,
   "metadata": {},
   "outputs": [],
   "source": [
    "df.dtypes"
   ]
  },
  {
   "cell_type": "markdown",
   "metadata": {},
   "source": [
    "Columns for further analysis: \n",
    "* auth: string (nullable = true) \n",
    "* gender: string (nullable = true)\n",
    "* length: double (nullable = true)\n",
    "* level: string (nullable = true) \n",
    "* location: string (nullable = true) \n",
    "* method: string (nullable = true) \n",
    "* page: string (nullable = true) \n",
    "* status: long (nullable = true) \n",
    "* userAgent: string (nullable = true) \n",
    "* hour: string (nullable = true) \n",
    "* churn: integer (nullable = true) "
   ]
  },
  {
   "cell_type": "code",
   "execution_count": 28,
   "metadata": {},
   "outputs": [],
   "source": [
    "all_features = df.select([\"auth\", \"gender\", \"location\", \"length\", \"userAgent\",\"page\", \n",
    "                              \"level\", \"method\", \"status\", 'hour', 'churn'])"
   ]
  },
  {
   "cell_type": "code",
   "execution_count": 29,
   "metadata": {},
   "outputs": [
    {
     "name": "stdout",
     "output_type": "stream",
     "text": [
      "root\n",
      " |-- auth: string (nullable = true)\n",
      " |-- gender: string (nullable = true)\n",
      " |-- location: string (nullable = true)\n",
      " |-- length: double (nullable = true)\n",
      " |-- userAgent: string (nullable = true)\n",
      " |-- page: string (nullable = true)\n",
      " |-- level: string (nullable = true)\n",
      " |-- method: string (nullable = true)\n",
      " |-- status: long (nullable = true)\n",
      " |-- hour: string (nullable = true)\n",
      " |-- churn: integer (nullable = true)\n",
      "\n"
     ]
    }
   ],
   "source": [
    "all_features.printSchema()"
   ]
  },
  {
   "cell_type": "code",
   "execution_count": null,
   "metadata": {},
   "outputs": [],
   "source": [
    "#all_features.churn.cast('string')"
   ]
  },
  {
   "cell_type": "code",
   "execution_count": null,
   "metadata": {},
   "outputs": [],
   "source": [
    "#all_features.printSchema()"
   ]
  },
  {
   "cell_type": "code",
   "execution_count": 82,
   "metadata": {},
   "outputs": [],
   "source": [
    "# change churn to string\n",
    "all_features = all_features.withColumn(\"churn\", all_features[\"churn\"].cast(StringType()))"
   ]
  },
  {
   "cell_type": "code",
   "execution_count": 83,
   "metadata": {},
   "outputs": [
    {
     "name": "stdout",
     "output_type": "stream",
     "text": [
      "root\n",
      " |-- auth: integer (nullable = true)\n",
      " |-- gender: string (nullable = true)\n",
      " |-- location: string (nullable = true)\n",
      " |-- length: double (nullable = true)\n",
      " |-- userAgent: string (nullable = true)\n",
      " |-- page: string (nullable = true)\n",
      " |-- method: string (nullable = true)\n",
      " |-- status: integer (nullable = true)\n",
      " |-- hour: integer (nullable = true)\n",
      " |-- churn: string (nullable = true)\n",
      "\n"
     ]
    }
   ],
   "source": [
    "all_features.printSchema()"
   ]
  },
  {
   "cell_type": "code",
   "execution_count": 32,
   "metadata": {},
   "outputs": [
    {
     "name": "stdout",
     "output_type": "stream",
     "text": [
      "+----+------+--------+------+---------+----+-----+------+------+----+-----+\n",
      "|auth|gender|location|length|userAgent|page|level|method|status|hour|churn|\n",
      "+----+------+--------+------+---------+----+-----+------+------+----+-----+\n",
      "|   0|  8346|    8346| 58392|     8346|   0|    0|     0|     0|   0|    0|\n",
      "+----+------+--------+------+---------+----+-----+------+------+----+-----+\n",
      "\n"
     ]
    }
   ],
   "source": [
    "# check for missing values\n",
    "all_features.select([count(when(isnan(c) | col(c).isNull(), c)).alias(c) for c in all_features.columns]).show()"
   ]
  },
  {
   "cell_type": "code",
   "execution_count": 33,
   "metadata": {},
   "outputs": [],
   "source": [
    "# fill in missing values with 0\n",
    "all_features = all_features.na.fill(0)\n",
    "all_features = all_features.na.fill('0')"
   ]
  },
  {
   "cell_type": "code",
   "execution_count": 34,
   "metadata": {},
   "outputs": [
    {
     "name": "stdout",
     "output_type": "stream",
     "text": [
      "+----+------+--------+------+---------+----+-----+------+------+----+-----+\n",
      "|auth|gender|location|length|userAgent|page|level|method|status|hour|churn|\n",
      "+----+------+--------+------+---------+----+-----+------+------+----+-----+\n",
      "|   0|     0|       0|     0|        0|   0|    0|     0|     0|   0|    0|\n",
      "+----+------+--------+------+---------+----+-----+------+------+----+-----+\n",
      "\n"
     ]
    }
   ],
   "source": [
    "# check again for missing values\n",
    "all_features.select([count(when(isnan(c) | col(c).isNull(), c)).alias(c) for c in all_features.columns]).show()"
   ]
  },
  {
   "cell_type": "code",
   "execution_count": 35,
   "metadata": {},
   "outputs": [
    {
     "name": "stdout",
     "output_type": "stream",
     "text": [
      "+----+------+--------+------+---------+----+-----+------+------+----+-----+\n",
      "|auth|gender|location|length|userAgent|page|level|method|status|hour|churn|\n",
      "+----+------+--------+------+---------+----+-----+------+------+----+-----+\n",
      "|   0|     0|       0|     0|        0|   0|    0|     0|     0|   0|    0|\n",
      "+----+------+--------+------+---------+----+-----+------+------+----+-----+\n",
      "\n"
     ]
    }
   ],
   "source": [
    "# check for empty strings in dataframe\n",
    "all_features.select([count(when(col(c) == '', c)).alias(c) for c in all_features.columns]).show()"
   ]
  },
  {
   "cell_type": "code",
   "execution_count": 17,
   "metadata": {},
   "outputs": [
    {
     "name": "stdout",
     "output_type": "stream",
     "text": [
      "+----------+------+\n",
      "|      auth| count|\n",
      "+----------+------+\n",
      "| Logged In|278102|\n",
      "|Logged Out|  8249|\n",
      "|     Guest|    97|\n",
      "| Cancelled|    52|\n",
      "+----------+------+\n",
      "\n"
     ]
    }
   ],
   "source": [
    "# Auth column\n",
    "all_features.groupby(\"auth\").count().orderBy(desc(\"count\")).show()"
   ]
  },
  {
   "cell_type": "code",
   "execution_count": 36,
   "metadata": {},
   "outputs": [],
   "source": [
    "all_features = all_features.where('auth != \"Guest\" and auth != \"Logged Out\"')"
   ]
  },
  {
   "cell_type": "code",
   "execution_count": 37,
   "metadata": {},
   "outputs": [
    {
     "name": "stdout",
     "output_type": "stream",
     "text": [
      "+---------+------+\n",
      "|     auth| count|\n",
      "+---------+------+\n",
      "|Logged In|278102|\n",
      "|Cancelled|    52|\n",
      "+---------+------+\n",
      "\n"
     ]
    }
   ],
   "source": [
    "all_features.groupby(\"auth\").count().orderBy(desc(\"count\")).show()"
   ]
  },
  {
   "cell_type": "code",
   "execution_count": 38,
   "metadata": {},
   "outputs": [],
   "source": [
    "out_path = \"all_features.csv\"\n",
    "all_features.write.mode('overwrite').save(out_path, format=\"csv\", header=True) # Save all_features to prevent out of memory issues during further calculations"
   ]
  },
  {
   "cell_type": "code",
   "execution_count": 58,
   "metadata": {},
   "outputs": [],
   "source": [
    "# If needed\n",
    "out_path = \"all_features.csv\"\n",
    "all_features = spark.read.csv(out_path, header=True, inferSchema=True)"
   ]
  },
  {
   "cell_type": "code",
   "execution_count": 4,
   "metadata": {},
   "outputs": [],
   "source": [
    "all_features = all_features.withColumn(\"churn\", all_features[\"churn\"].cast(StringType()))"
   ]
  },
  {
   "cell_type": "code",
   "execution_count": 41,
   "metadata": {},
   "outputs": [
    {
     "name": "stdout",
     "output_type": "stream",
     "text": [
      "root\n",
      " |-- auth: string (nullable = true)\n",
      " |-- gender: string (nullable = true)\n",
      " |-- location: string (nullable = true)\n",
      " |-- length: double (nullable = true)\n",
      " |-- userAgent: string (nullable = true)\n",
      " |-- page: string (nullable = true)\n",
      " |-- level: string (nullable = true)\n",
      " |-- method: string (nullable = true)\n",
      " |-- status: integer (nullable = true)\n",
      " |-- hour: integer (nullable = true)\n",
      " |-- churn: integer (nullable = true)\n",
      "\n"
     ]
    }
   ],
   "source": [
    "all_features.printSchema()"
   ]
  },
  {
   "cell_type": "code",
   "execution_count": 88,
   "metadata": {},
   "outputs": [
    {
     "data": {
      "text/plain": [
       "Row(auth='Logged In', gender='M', location='Bakersfield, CA', length=277.89016, userAgent='Mozilla/5.0 (Windows NT 6.1; WOW64; rv:31.0) Gecko/20100101 Firefox/31.0', page='NextSong', level='paid', method='PUT', status=200, hour=0, churn='0')"
      ]
     },
     "execution_count": 88,
     "metadata": {},
     "output_type": "execute_result"
    }
   ],
   "source": [
    "all_features.head()"
   ]
  },
  {
   "cell_type": "code",
   "execution_count": null,
   "metadata": {},
   "outputs": [],
   "source": [
    "## drop empty strings from userID\n",
    "#features_df = features_df.filter(features_df[\"userId\"] != \"\")"
   ]
  },
  {
   "cell_type": "code",
   "execution_count": 42,
   "metadata": {},
   "outputs": [
    {
     "name": "stdout",
     "output_type": "stream",
     "text": [
      "+---------+------+--------------------+------+--------------------+--------------------+-----+------+------+----+-----+\n",
      "|     auth|gender|            location|length|           userAgent|                page|level|method|status|hour|churn|\n",
      "+---------+------+--------------------+------+--------------------+--------------------+-----+------+------+----+-----+\n",
      "|Logged In|     M|Kingsport-Bristol...|   0.0|\"Mozilla/5.0 (Mac...|    Submit Downgrade| paid|   PUT|   307|  11|    1|\n",
      "|Logged In|     M|      Pittsburgh, PA|   0.0|\"Mozilla/5.0 (Mac...|    Submit Downgrade| paid|   PUT|   307|  21|    1|\n",
      "|Logged In|     F|           Price, UT|   0.0|\"Mozilla/5.0 (Mac...|    Submit Downgrade| paid|   PUT|   307|  14|    1|\n",
      "|Cancelled|     M|  Kansas City, MO-KS|   0.0|\"Mozilla/5.0 (Mac...|Cancellation Conf...| paid|   GET|   200|  20|    1|\n",
      "|Logged In|     M|     Bakersfield, CA|   0.0|Mozilla/5.0 (Wind...|    Submit Downgrade| paid|   PUT|   307|  10|    1|\n",
      "|Logged In|     F|Miami-Fort Lauder...|   0.0|\"Mozilla/5.0 (Win...|    Submit Downgrade| paid|   PUT|   307|  11|    1|\n",
      "|Cancelled|     M|Phoenix-Mesa-Scot...|   0.0|\"Mozilla/5.0 (iPh...|Cancellation Conf...| paid|   GET|   200|  21|    1|\n",
      "|Logged In|     F|Los Angeles-Long ...|   0.0|Mozilla/5.0 (Wind...|    Submit Downgrade| paid|   PUT|   307|   4|    1|\n",
      "|Logged In|     F|Providence-Warwic...|   0.0|Mozilla/5.0 (Wind...|    Submit Downgrade| paid|   PUT|   307|   6|    1|\n",
      "|Logged In|     M|San Francisco-Oak...|   0.0|\"Mozilla/5.0 (iPh...|    Submit Downgrade| paid|   PUT|   307|   7|    1|\n",
      "|Logged In|     M|Philadelphia-Camd...|   0.0|\"Mozilla/5.0 (Mac...|    Submit Downgrade| paid|   PUT|   307|  13|    1|\n",
      "|Cancelled|     M|  Corpus Christi, TX|   0.0|\"Mozilla/5.0 (Mac...|Cancellation Conf...| free|   GET|   200|   4|    1|\n",
      "|Logged In|     M|Los Angeles-Long ...|   0.0|\"Mozilla/5.0 (Mac...|    Submit Downgrade| paid|   PUT|   307|   9|    1|\n",
      "|Logged In|     F|Louisville/Jeffer...|   0.0|\"Mozilla/5.0 (Win...|    Submit Downgrade| paid|   PUT|   307|   9|    1|\n",
      "|Cancelled|     M|Indianapolis-Carm...|   0.0|Mozilla/5.0 (Wind...|Cancellation Conf...| paid|   GET|   200|  20|    1|\n",
      "|Cancelled|     F|Philadelphia-Camd...|   0.0|Mozilla/5.0 (Wind...|Cancellation Conf...| paid|   GET|   200|  21|    1|\n",
      "|Logged In|     F|Washington-Arling...|   0.0|\"Mozilla/5.0 (Mac...|    Submit Downgrade| paid|   PUT|   307|  21|    1|\n",
      "|Cancelled|     F|Virginia Beach-No...|   0.0|\"Mozilla/5.0 (Mac...|Cancellation Conf...| free|   GET|   200|   7|    1|\n",
      "|Logged In|     F|Spokane-Spokane V...|   0.0|Mozilla/5.0 (Wind...|    Submit Downgrade| paid|   PUT|   307|  12|    1|\n",
      "|Logged In|     F|     Gainesville, FL|   0.0|\"Mozilla/5.0 (Win...|    Submit Downgrade| paid|   PUT|   307|  12|    1|\n",
      "+---------+------+--------------------+------+--------------------+--------------------+-----+------+------+----+-----+\n",
      "only showing top 20 rows\n",
      "\n"
     ]
    }
   ],
   "source": [
    "all_features.filter(all_features.churn == '1').show()"
   ]
  },
  {
   "cell_type": "code",
   "execution_count": 80,
   "metadata": {},
   "outputs": [],
   "source": [
    "## free: 0, paid: 1\n",
    "#all_features = all_features.replace([\"free\", \"paid\"], [\"0\", \"1\"], \"level\")\n",
    "\n",
    "## male: 0, female: 1\n",
    "#all_features = all_features.replace([\"M\", \"F\"], [\"0\", \"1\"], \"gender\")\n",
    "\n",
    "## auth -> logged in: 1, cancelled: 0\n",
    "#all_features = all_features.replace([\"Cancelled\", \"Logged In\"], [\"0\", \"1\"], \"auth\")"
   ]
  },
  {
   "cell_type": "code",
   "execution_count": 77,
   "metadata": {},
   "outputs": [],
   "source": [
    "#convert_numeric = ['level', 'gender', 'length']\n",
    "#for feat in convert_numeric:\n",
    "#    featName = feat + \"_n\"\n",
    "#    all_features = all_features.withColumn(featName, all_features[feat].cast())\n",
    "#    all_features = all_features.drop(feat)"
   ]
  },
  {
   "cell_type": "code",
   "execution_count": 90,
   "metadata": {},
   "outputs": [
    {
     "name": "stdout",
     "output_type": "stream",
     "text": [
      "root\n",
      " |-- auth: string (nullable = true)\n",
      " |-- gender: string (nullable = true)\n",
      " |-- location: string (nullable = true)\n",
      " |-- length: double (nullable = true)\n",
      " |-- userAgent: string (nullable = true)\n",
      " |-- page: string (nullable = true)\n",
      " |-- level: string (nullable = true)\n",
      " |-- method: string (nullable = true)\n",
      " |-- status: integer (nullable = true)\n",
      " |-- hour: integer (nullable = true)\n",
      " |-- churn: string (nullable = true)\n",
      "\n"
     ]
    }
   ],
   "source": [
    "all_features.printSchema()"
   ]
  },
  {
   "cell_type": "code",
   "execution_count": 63,
   "metadata": {},
   "outputs": [],
   "source": [
    "# categorical columns\n",
    "#List of categorical and numeric columns \n",
    "cat_features = ['location', 'userAgent', 'page', \n",
    "                   'method', 'status', 'hour', 'auth', 'gender', 'level']\n",
    "# num_features = ['length']\n",
    "stages = []\n",
    "\n",
    "# Change the type of numerical features to integer\n",
    "for col in cat_features:\n",
    "    stringIndexer = StringIndexer(inputCol = col, outputCol = col + '_idx')\n",
    "    encoder = OneHotEncoderEstimator(inputCols=[stringIndexer.getOutputCol()], outputCols=[col + \"_class_vec\"])\n",
    "    stages += [stringIndexer, encoder]\n",
    "    \n",
    "label_idx = StringIndexer(inputCol = \"churn\", outputCol = \"label\")\n",
    "stages += [label_idx]\n",
    "\n",
    "#assemblerInputs = [c + \"class_vec\" for c in cat_features] + num_features + ['churn']\n",
    "assemblerInputs = [c + \"_class_vec\" for c in cat_features] + ['churn']\n",
    "assembler = VectorAssembler(inputCols=assemblerInputs, outputCol=\"features\").setHandleInvalid(\"skip\")\n",
    "stages += [assembler]"
   ]
  },
  {
   "cell_type": "code",
   "execution_count": 64,
   "metadata": {},
   "outputs": [],
   "source": [
    "#cols = all_features.columns\n",
    "\n",
    "pipeline = Pipeline(stages = stages)\n",
    "pipeline_model = pipeline.fit(all_features)\n",
    "model_data = pipeline_model.transform(all_features)\n",
    "selectedCols = ['label', 'features'] + all_features.columns\n",
    "model_data = model_data.select(selectedCols)\n"
   ]
  },
  {
   "cell_type": "code",
   "execution_count": 65,
   "metadata": {},
   "outputs": [
    {
     "name": "stdout",
     "output_type": "stream",
     "text": [
      "root\n",
      " |-- label: double (nullable = false)\n",
      " |-- features: vector (nullable = true)\n",
      " |-- auth: string (nullable = true)\n",
      " |-- gender: string (nullable = true)\n",
      " |-- location: string (nullable = true)\n",
      " |-- length: double (nullable = true)\n",
      " |-- userAgent: string (nullable = true)\n",
      " |-- page: string (nullable = true)\n",
      " |-- level: string (nullable = true)\n",
      " |-- method: string (nullable = true)\n",
      " |-- status: integer (nullable = true)\n",
      " |-- hour: integer (nullable = true)\n",
      " |-- churn: integer (nullable = true)\n",
      "\n"
     ]
    }
   ],
   "source": [
    "model_data.printSchema()"
   ]
  },
  {
   "cell_type": "code",
   "execution_count": 38,
   "metadata": {},
   "outputs": [
    {
     "ename": "AttributeError",
     "evalue": "'DataFrame' object has no attribute 'churn'",
     "output_type": "error",
     "traceback": [
      "\u001b[0;31m---------------------------------------------------------------------------\u001b[0m",
      "\u001b[0;31mAttributeError\u001b[0m                            Traceback (most recent call last)",
      "\u001b[0;32m<ipython-input-38-f3f2248d8da6>\u001b[0m in \u001b[0;36m<module>\u001b[0;34m()\u001b[0m\n\u001b[0;32m----> 1\u001b[0;31m \u001b[0mmodel_data\u001b[0m\u001b[0;34m.\u001b[0m\u001b[0mfilter\u001b[0m\u001b[0;34m(\u001b[0m\u001b[0mmodel_data\u001b[0m\u001b[0;34m.\u001b[0m\u001b[0mchurn\u001b[0m \u001b[0;34m==\u001b[0m \u001b[0;34m'1'\u001b[0m\u001b[0;34m)\u001b[0m\u001b[0;34m.\u001b[0m\u001b[0mshow\u001b[0m\u001b[0;34m(\u001b[0m\u001b[0;34m)\u001b[0m\u001b[0;34m\u001b[0m\u001b[0m\n\u001b[0m",
      "\u001b[0;32m/opt/spark-2.4.3-bin-hadoop2.7/python/pyspark/sql/dataframe.py\u001b[0m in \u001b[0;36m__getattr__\u001b[0;34m(self, name)\u001b[0m\n\u001b[1;32m   1298\u001b[0m         \u001b[0;32mif\u001b[0m \u001b[0mname\u001b[0m \u001b[0;32mnot\u001b[0m \u001b[0;32min\u001b[0m \u001b[0mself\u001b[0m\u001b[0;34m.\u001b[0m\u001b[0mcolumns\u001b[0m\u001b[0;34m:\u001b[0m\u001b[0;34m\u001b[0m\u001b[0m\n\u001b[1;32m   1299\u001b[0m             raise AttributeError(\n\u001b[0;32m-> 1300\u001b[0;31m                 \"'%s' object has no attribute '%s'\" % (self.__class__.__name__, name))\n\u001b[0m\u001b[1;32m   1301\u001b[0m         \u001b[0mjc\u001b[0m \u001b[0;34m=\u001b[0m \u001b[0mself\u001b[0m\u001b[0;34m.\u001b[0m\u001b[0m_jdf\u001b[0m\u001b[0;34m.\u001b[0m\u001b[0mapply\u001b[0m\u001b[0;34m(\u001b[0m\u001b[0mname\u001b[0m\u001b[0;34m)\u001b[0m\u001b[0;34m\u001b[0m\u001b[0m\n\u001b[1;32m   1302\u001b[0m         \u001b[0;32mreturn\u001b[0m \u001b[0mColumn\u001b[0m\u001b[0;34m(\u001b[0m\u001b[0mjc\u001b[0m\u001b[0;34m)\u001b[0m\u001b[0;34m\u001b[0m\u001b[0m\n",
      "\u001b[0;31mAttributeError\u001b[0m: 'DataFrame' object has no attribute 'churn'"
     ]
    }
   ],
   "source": [
    "model_data.filter(model_data.churn == '1').show()"
   ]
  },
  {
   "cell_type": "code",
   "execution_count": 39,
   "metadata": {},
   "outputs": [
    {
     "ename": "AnalysisException",
     "evalue": "\"cannot resolve '`churn`' given input columns: [features, label];;\\n'Project ['churn]\\n+- Project [features#3725, label#3663]\\n   +- Project [label#3663, features#3725, auth#2609, gender#2610, location#2611, length#2612, userAgent#2613, page#2614, level#2615, method#2616, status#2617, hour#2618, churn#2619]\\n      +- Project [auth#2609, gender#2610, location#2611, length#2612, userAgent#2613, page#2614, level#2615, method#2616, status#2617, hour#2618, churn#2619, location_idx#3267, locationclass_vec#3281, userAgent_idx#3295, userAgentclass_vec#3311, page_idx#3327, pageclass_vec#3345, method_idx#3363, methodclass_vec#3383, status_idx#3403, statusclass_vec#3425, hour_idx#3447, hourclass_vec#3471, auth_idx#3495, ... 7 more fields]\\n         +- Filter AtLeastNNulls(n, locationclass_vec#3281,userAgentclass_vec#3311,pageclass_vec#3345,methodclass_vec#3383,statusclass_vec#3425,hourclass_vec#3471,authclass_vec#3521,genderclass_vec#3575,levelclass_vec#3633,length#2612,churn#2619)\\n            +- Project [auth#2609, gender#2610, location#2611, length#2612, userAgent#2613, page#2614, level#2615, method#2616, status#2617, hour#2618, churn#2619, location_idx#3267, locationclass_vec#3281, userAgent_idx#3295, userAgentclass_vec#3311, page_idx#3327, pageclass_vec#3345, method_idx#3363, methodclass_vec#3383, status_idx#3403, statusclass_vec#3425, hour_idx#3447, hourclass_vec#3471, auth_idx#3495, ... 6 more fields]\\n               +- Project [auth#2609, gender#2610, location#2611, length#2612, userAgent#2613, page#2614, level#2615, method#2616, status#2617, hour#2618, churn#2619, location_idx#3267, locationclass_vec#3281, userAgent_idx#3295, userAgentclass_vec#3311, page_idx#3327, pageclass_vec#3345, method_idx#3363, methodclass_vec#3383, status_idx#3403, statusclass_vec#3425, hour_idx#3447, hourclass_vec#3471, auth_idx#3495, ... 5 more fields]\\n                  +- Project [auth#2609, gender#2610, location#2611, length#2612, userAgent#2613, page#2614, level#2615, method#2616, status#2617, hour#2618, churn#2619, location_idx#3267, locationclass_vec#3281, userAgent_idx#3295, userAgentclass_vec#3311, page_idx#3327, pageclass_vec#3345, method_idx#3363, methodclass_vec#3383, status_idx#3403, statusclass_vec#3425, hour_idx#3447, hourclass_vec#3471, auth_idx#3495, ... 4 more fields]\\n                     +- Project [auth#2609, gender#2610, location#2611, length#2612, userAgent#2613, page#2614, level#2615, method#2616, status#2617, hour#2618, churn#2619, location_idx#3267, locationclass_vec#3281, userAgent_idx#3295, userAgentclass_vec#3311, page_idx#3327, pageclass_vec#3345, method_idx#3363, methodclass_vec#3383, status_idx#3403, statusclass_vec#3425, hour_idx#3447, hourclass_vec#3471, auth_idx#3495, ... 3 more fields]\\n                        +- Project [auth#2609, gender#2610, location#2611, length#2612, userAgent#2613, page#2614, level#2615, method#2616, status#2617, hour#2618, churn#2619, location_idx#3267, locationclass_vec#3281, userAgent_idx#3295, userAgentclass_vec#3311, page_idx#3327, pageclass_vec#3345, method_idx#3363, methodclass_vec#3383, status_idx#3403, statusclass_vec#3425, hour_idx#3447, hourclass_vec#3471, auth_idx#3495, ... 2 more fields]\\n                           +- Project [auth#2609, gender#2610, location#2611, length#2612, userAgent#2613, page#2614, level#2615, method#2616, status#2617, hour#2618, churn#2619, location_idx#3267, locationclass_vec#3281, userAgent_idx#3295, userAgentclass_vec#3311, page_idx#3327, pageclass_vec#3345, method_idx#3363, methodclass_vec#3383, status_idx#3403, statusclass_vec#3425, hour_idx#3447, hourclass_vec#3471, auth_idx#3495, if ((isnull(cast(auth_idx#3495 as double)) || isnull(0))) null else UDF(cast(auth_idx#3495 as double), 0) AS authclass_vec#3521]\\n                              +- Project [auth#2609, gender#2610, location#2611, length#2612, userAgent#2613, page#2614, level#2615, method#2616, status#2617, hour#2618, churn#2619, location_idx#3267, locationclass_vec#3281, userAgent_idx#3295, userAgentclass_vec#3311, page_idx#3327, pageclass_vec#3345, method_idx#3363, methodclass_vec#3383, status_idx#3403, statusclass_vec#3425, hour_idx#3447, hourclass_vec#3471, UDF(cast(auth#2609 as string)) AS auth_idx#3495]\\n                                 +- Project [auth#2609, gender#2610, location#2611, length#2612, userAgent#2613, page#2614, level#2615, method#2616, status#2617, hour#2618, churn#2619, location_idx#3267, locationclass_vec#3281, userAgent_idx#3295, userAgentclass_vec#3311, page_idx#3327, pageclass_vec#3345, method_idx#3363, methodclass_vec#3383, status_idx#3403, statusclass_vec#3425, hour_idx#3447, if ((isnull(cast(hour_idx#3447 as double)) || isnull(0))) null else UDF(cast(hour_idx#3447 as double), 0) AS hourclass_vec#3471]\\n                                    +- Project [auth#2609, gender#2610, location#2611, length#2612, userAgent#2613, page#2614, level#2615, method#2616, status#2617, hour#2618, churn#2619, location_idx#3267, locationclass_vec#3281, userAgent_idx#3295, userAgentclass_vec#3311, page_idx#3327, pageclass_vec#3345, method_idx#3363, methodclass_vec#3383, status_idx#3403, statusclass_vec#3425, UDF(cast(hour#2618 as string)) AS hour_idx#3447]\\n                                       +- Project [auth#2609, gender#2610, location#2611, length#2612, userAgent#2613, page#2614, level#2615, method#2616, status#2617, hour#2618, churn#2619, location_idx#3267, locationclass_vec#3281, userAgent_idx#3295, userAgentclass_vec#3311, page_idx#3327, pageclass_vec#3345, method_idx#3363, methodclass_vec#3383, status_idx#3403, if ((isnull(cast(status_idx#3403 as double)) || isnull(0))) null else UDF(cast(status_idx#3403 as double), 0) AS statusclass_vec#3425]\\n                                          +- Project [auth#2609, gender#2610, location#2611, length#2612, userAgent#2613, page#2614, level#2615, method#2616, status#2617, hour#2618, churn#2619, location_idx#3267, locationclass_vec#3281, userAgent_idx#3295, userAgentclass_vec#3311, page_idx#3327, pageclass_vec#3345, method_idx#3363, methodclass_vec#3383, UDF(cast(status#2617 as string)) AS status_idx#3403]\\n                                             +- Project [auth#2609, gender#2610, location#2611, length#2612, userAgent#2613, page#2614, level#2615, method#2616, status#2617, hour#2618, churn#2619, location_idx#3267, locationclass_vec#3281, userAgent_idx#3295, userAgentclass_vec#3311, page_idx#3327, pageclass_vec#3345, method_idx#3363, if ((isnull(cast(method_idx#3363 as double)) || isnull(0))) null else UDF(cast(method_idx#3363 as double), 0) AS methodclass_vec#3383]\\n                                                +- Project [auth#2609, gender#2610, location#2611, length#2612, userAgent#2613, page#2614, level#2615, method#2616, status#2617, hour#2618, churn#2619, location_idx#3267, locationclass_vec#3281, userAgent_idx#3295, userAgentclass_vec#3311, page_idx#3327, pageclass_vec#3345, UDF(cast(method#2616 as string)) AS method_idx#3363]\\n                                                   +- Project [auth#2609, gender#2610, location#2611, length#2612, userAgent#2613, page#2614, level#2615, method#2616, status#2617, hour#2618, churn#2619, location_idx#3267, locationclass_vec#3281, userAgent_idx#3295, userAgentclass_vec#3311, page_idx#3327, if ((isnull(cast(page_idx#3327 as double)) || isnull(0))) null else UDF(cast(page_idx#3327 as double), 0) AS pageclass_vec#3345]\\n                                                      +- Project [auth#2609, gender#2610, location#2611, length#2612, userAgent#2613, page#2614, level#2615, method#2616, status#2617, hour#2618, churn#2619, location_idx#3267, locationclass_vec#3281, userAgent_idx#3295, userAgentclass_vec#3311, UDF(cast(page#2614 as string)) AS page_idx#3327]\\n                                                         +- Project [auth#2609, gender#2610, location#2611, length#2612, userAgent#2613, page#2614, level#2615, method#2616, status#2617, hour#2618, churn#2619, location_idx#3267, locationclass_vec#3281, userAgent_idx#3295, if ((isnull(cast(userAgent_idx#3295 as double)) || isnull(0))) null else UDF(cast(userAgent_idx#3295 as double), 0) AS userAgentclass_vec#3311]\\n                                                            +- Project [auth#2609, gender#2610, location#2611, length#2612, userAgent#2613, page#2614, level#2615, method#2616, status#2617, hour#2618, churn#2619, location_idx#3267, locationclass_vec#3281, UDF(cast(userAgent#2613 as string)) AS userAgent_idx#3295]\\n                                                               +- Project [auth#2609, gender#2610, location#2611, length#2612, userAgent#2613, page#2614, level#2615, method#2616, status#2617, hour#2618, churn#2619, location_idx#3267, if ((isnull(cast(location_idx#3267 as double)) || isnull(0))) null else UDF(cast(location_idx#3267 as double), 0) AS locationclass_vec#3281]\\n                                                                  +- Project [auth#2609, gender#2610, location#2611, length#2612, userAgent#2613, page#2614, level#2615, method#2616, status#2617, hour#2618, churn#2619, UDF(cast(location#2611 as string)) AS location_idx#3267]\\n                                                                     +- Relation[auth#2609,gender#2610,location#2611,length#2612,userAgent#2613,page#2614,level#2615,method#2616,status#2617,hour#2618,churn#2619] csv\\n\"",
     "output_type": "error",
     "traceback": [
      "\u001b[0;31m---------------------------------------------------------------------------\u001b[0m",
      "\u001b[0;31mPy4JJavaError\u001b[0m                             Traceback (most recent call last)",
      "\u001b[0;32m/opt/spark-2.4.3-bin-hadoop2.7/python/pyspark/sql/utils.py\u001b[0m in \u001b[0;36mdeco\u001b[0;34m(*a, **kw)\u001b[0m\n\u001b[1;32m     62\u001b[0m         \u001b[0;32mtry\u001b[0m\u001b[0;34m:\u001b[0m\u001b[0;34m\u001b[0m\u001b[0m\n\u001b[0;32m---> 63\u001b[0;31m             \u001b[0;32mreturn\u001b[0m \u001b[0mf\u001b[0m\u001b[0;34m(\u001b[0m\u001b[0;34m*\u001b[0m\u001b[0ma\u001b[0m\u001b[0;34m,\u001b[0m \u001b[0;34m**\u001b[0m\u001b[0mkw\u001b[0m\u001b[0;34m)\u001b[0m\u001b[0;34m\u001b[0m\u001b[0m\n\u001b[0m\u001b[1;32m     64\u001b[0m         \u001b[0;32mexcept\u001b[0m \u001b[0mpy4j\u001b[0m\u001b[0;34m.\u001b[0m\u001b[0mprotocol\u001b[0m\u001b[0;34m.\u001b[0m\u001b[0mPy4JJavaError\u001b[0m \u001b[0;32mas\u001b[0m \u001b[0me\u001b[0m\u001b[0;34m:\u001b[0m\u001b[0;34m\u001b[0m\u001b[0m\n",
      "\u001b[0;32m/opt/spark-2.4.3-bin-hadoop2.7/python/lib/py4j-0.10.7-src.zip/py4j/protocol.py\u001b[0m in \u001b[0;36mget_return_value\u001b[0;34m(answer, gateway_client, target_id, name)\u001b[0m\n\u001b[1;32m    327\u001b[0m                     \u001b[0;34m\"An error occurred while calling {0}{1}{2}.\\n\"\u001b[0m\u001b[0;34m.\u001b[0m\u001b[0;34m\u001b[0m\u001b[0m\n\u001b[0;32m--> 328\u001b[0;31m                     format(target_id, \".\", name), value)\n\u001b[0m\u001b[1;32m    329\u001b[0m             \u001b[0;32melse\u001b[0m\u001b[0;34m:\u001b[0m\u001b[0;34m\u001b[0m\u001b[0m\n",
      "\u001b[0;31mPy4JJavaError\u001b[0m: An error occurred while calling o3708.select.\n: org.apache.spark.sql.AnalysisException: cannot resolve '`churn`' given input columns: [features, label];;\n'Project ['churn]\n+- Project [features#3725, label#3663]\n   +- Project [label#3663, features#3725, auth#2609, gender#2610, location#2611, length#2612, userAgent#2613, page#2614, level#2615, method#2616, status#2617, hour#2618, churn#2619]\n      +- Project [auth#2609, gender#2610, location#2611, length#2612, userAgent#2613, page#2614, level#2615, method#2616, status#2617, hour#2618, churn#2619, location_idx#3267, locationclass_vec#3281, userAgent_idx#3295, userAgentclass_vec#3311, page_idx#3327, pageclass_vec#3345, method_idx#3363, methodclass_vec#3383, status_idx#3403, statusclass_vec#3425, hour_idx#3447, hourclass_vec#3471, auth_idx#3495, ... 7 more fields]\n         +- Filter AtLeastNNulls(n, locationclass_vec#3281,userAgentclass_vec#3311,pageclass_vec#3345,methodclass_vec#3383,statusclass_vec#3425,hourclass_vec#3471,authclass_vec#3521,genderclass_vec#3575,levelclass_vec#3633,length#2612,churn#2619)\n            +- Project [auth#2609, gender#2610, location#2611, length#2612, userAgent#2613, page#2614, level#2615, method#2616, status#2617, hour#2618, churn#2619, location_idx#3267, locationclass_vec#3281, userAgent_idx#3295, userAgentclass_vec#3311, page_idx#3327, pageclass_vec#3345, method_idx#3363, methodclass_vec#3383, status_idx#3403, statusclass_vec#3425, hour_idx#3447, hourclass_vec#3471, auth_idx#3495, ... 6 more fields]\n               +- Project [auth#2609, gender#2610, location#2611, length#2612, userAgent#2613, page#2614, level#2615, method#2616, status#2617, hour#2618, churn#2619, location_idx#3267, locationclass_vec#3281, userAgent_idx#3295, userAgentclass_vec#3311, page_idx#3327, pageclass_vec#3345, method_idx#3363, methodclass_vec#3383, status_idx#3403, statusclass_vec#3425, hour_idx#3447, hourclass_vec#3471, auth_idx#3495, ... 5 more fields]\n                  +- Project [auth#2609, gender#2610, location#2611, length#2612, userAgent#2613, page#2614, level#2615, method#2616, status#2617, hour#2618, churn#2619, location_idx#3267, locationclass_vec#3281, userAgent_idx#3295, userAgentclass_vec#3311, page_idx#3327, pageclass_vec#3345, method_idx#3363, methodclass_vec#3383, status_idx#3403, statusclass_vec#3425, hour_idx#3447, hourclass_vec#3471, auth_idx#3495, ... 4 more fields]\n                     +- Project [auth#2609, gender#2610, location#2611, length#2612, userAgent#2613, page#2614, level#2615, method#2616, status#2617, hour#2618, churn#2619, location_idx#3267, locationclass_vec#3281, userAgent_idx#3295, userAgentclass_vec#3311, page_idx#3327, pageclass_vec#3345, method_idx#3363, methodclass_vec#3383, status_idx#3403, statusclass_vec#3425, hour_idx#3447, hourclass_vec#3471, auth_idx#3495, ... 3 more fields]\n                        +- Project [auth#2609, gender#2610, location#2611, length#2612, userAgent#2613, page#2614, level#2615, method#2616, status#2617, hour#2618, churn#2619, location_idx#3267, locationclass_vec#3281, userAgent_idx#3295, userAgentclass_vec#3311, page_idx#3327, pageclass_vec#3345, method_idx#3363, methodclass_vec#3383, status_idx#3403, statusclass_vec#3425, hour_idx#3447, hourclass_vec#3471, auth_idx#3495, ... 2 more fields]\n                           +- Project [auth#2609, gender#2610, location#2611, length#2612, userAgent#2613, page#2614, level#2615, method#2616, status#2617, hour#2618, churn#2619, location_idx#3267, locationclass_vec#3281, userAgent_idx#3295, userAgentclass_vec#3311, page_idx#3327, pageclass_vec#3345, method_idx#3363, methodclass_vec#3383, status_idx#3403, statusclass_vec#3425, hour_idx#3447, hourclass_vec#3471, auth_idx#3495, if ((isnull(cast(auth_idx#3495 as double)) || isnull(0))) null else UDF(cast(auth_idx#3495 as double), 0) AS authclass_vec#3521]\n                              +- Project [auth#2609, gender#2610, location#2611, length#2612, userAgent#2613, page#2614, level#2615, method#2616, status#2617, hour#2618, churn#2619, location_idx#3267, locationclass_vec#3281, userAgent_idx#3295, userAgentclass_vec#3311, page_idx#3327, pageclass_vec#3345, method_idx#3363, methodclass_vec#3383, status_idx#3403, statusclass_vec#3425, hour_idx#3447, hourclass_vec#3471, UDF(cast(auth#2609 as string)) AS auth_idx#3495]\n                                 +- Project [auth#2609, gender#2610, location#2611, length#2612, userAgent#2613, page#2614, level#2615, method#2616, status#2617, hour#2618, churn#2619, location_idx#3267, locationclass_vec#3281, userAgent_idx#3295, userAgentclass_vec#3311, page_idx#3327, pageclass_vec#3345, method_idx#3363, methodclass_vec#3383, status_idx#3403, statusclass_vec#3425, hour_idx#3447, if ((isnull(cast(hour_idx#3447 as double)) || isnull(0))) null else UDF(cast(hour_idx#3447 as double), 0) AS hourclass_vec#3471]\n                                    +- Project [auth#2609, gender#2610, location#2611, length#2612, userAgent#2613, page#2614, level#2615, method#2616, status#2617, hour#2618, churn#2619, location_idx#3267, locationclass_vec#3281, userAgent_idx#3295, userAgentclass_vec#3311, page_idx#3327, pageclass_vec#3345, method_idx#3363, methodclass_vec#3383, status_idx#3403, statusclass_vec#3425, UDF(cast(hour#2618 as string)) AS hour_idx#3447]\n                                       +- Project [auth#2609, gender#2610, location#2611, length#2612, userAgent#2613, page#2614, level#2615, method#2616, status#2617, hour#2618, churn#2619, location_idx#3267, locationclass_vec#3281, userAgent_idx#3295, userAgentclass_vec#3311, page_idx#3327, pageclass_vec#3345, method_idx#3363, methodclass_vec#3383, status_idx#3403, if ((isnull(cast(status_idx#3403 as double)) || isnull(0))) null else UDF(cast(status_idx#3403 as double), 0) AS statusclass_vec#3425]\n                                          +- Project [auth#2609, gender#2610, location#2611, length#2612, userAgent#2613, page#2614, level#2615, method#2616, status#2617, hour#2618, churn#2619, location_idx#3267, locationclass_vec#3281, userAgent_idx#3295, userAgentclass_vec#3311, page_idx#3327, pageclass_vec#3345, method_idx#3363, methodclass_vec#3383, UDF(cast(status#2617 as string)) AS status_idx#3403]\n                                             +- Project [auth#2609, gender#2610, location#2611, length#2612, userAgent#2613, page#2614, level#2615, method#2616, status#2617, hour#2618, churn#2619, location_idx#3267, locationclass_vec#3281, userAgent_idx#3295, userAgentclass_vec#3311, page_idx#3327, pageclass_vec#3345, method_idx#3363, if ((isnull(cast(method_idx#3363 as double)) || isnull(0))) null else UDF(cast(method_idx#3363 as double), 0) AS methodclass_vec#3383]\n                                                +- Project [auth#2609, gender#2610, location#2611, length#2612, userAgent#2613, page#2614, level#2615, method#2616, status#2617, hour#2618, churn#2619, location_idx#3267, locationclass_vec#3281, userAgent_idx#3295, userAgentclass_vec#3311, page_idx#3327, pageclass_vec#3345, UDF(cast(method#2616 as string)) AS method_idx#3363]\n                                                   +- Project [auth#2609, gender#2610, location#2611, length#2612, userAgent#2613, page#2614, level#2615, method#2616, status#2617, hour#2618, churn#2619, location_idx#3267, locationclass_vec#3281, userAgent_idx#3295, userAgentclass_vec#3311, page_idx#3327, if ((isnull(cast(page_idx#3327 as double)) || isnull(0))) null else UDF(cast(page_idx#3327 as double), 0) AS pageclass_vec#3345]\n                                                      +- Project [auth#2609, gender#2610, location#2611, length#2612, userAgent#2613, page#2614, level#2615, method#2616, status#2617, hour#2618, churn#2619, location_idx#3267, locationclass_vec#3281, userAgent_idx#3295, userAgentclass_vec#3311, UDF(cast(page#2614 as string)) AS page_idx#3327]\n                                                         +- Project [auth#2609, gender#2610, location#2611, length#2612, userAgent#2613, page#2614, level#2615, method#2616, status#2617, hour#2618, churn#2619, location_idx#3267, locationclass_vec#3281, userAgent_idx#3295, if ((isnull(cast(userAgent_idx#3295 as double)) || isnull(0))) null else UDF(cast(userAgent_idx#3295 as double), 0) AS userAgentclass_vec#3311]\n                                                            +- Project [auth#2609, gender#2610, location#2611, length#2612, userAgent#2613, page#2614, level#2615, method#2616, status#2617, hour#2618, churn#2619, location_idx#3267, locationclass_vec#3281, UDF(cast(userAgent#2613 as string)) AS userAgent_idx#3295]\n                                                               +- Project [auth#2609, gender#2610, location#2611, length#2612, userAgent#2613, page#2614, level#2615, method#2616, status#2617, hour#2618, churn#2619, location_idx#3267, if ((isnull(cast(location_idx#3267 as double)) || isnull(0))) null else UDF(cast(location_idx#3267 as double), 0) AS locationclass_vec#3281]\n                                                                  +- Project [auth#2609, gender#2610, location#2611, length#2612, userAgent#2613, page#2614, level#2615, method#2616, status#2617, hour#2618, churn#2619, UDF(cast(location#2611 as string)) AS location_idx#3267]\n                                                                     +- Relation[auth#2609,gender#2610,location#2611,length#2612,userAgent#2613,page#2614,level#2615,method#2616,status#2617,hour#2618,churn#2619] csv\n\n\tat org.apache.spark.sql.catalyst.analysis.package$AnalysisErrorAt.failAnalysis(package.scala:42)\n\tat org.apache.spark.sql.catalyst.analysis.CheckAnalysis$$anonfun$checkAnalysis$1$$anonfun$apply$3.applyOrElse(CheckAnalysis.scala:110)\n\tat org.apache.spark.sql.catalyst.analysis.CheckAnalysis$$anonfun$checkAnalysis$1$$anonfun$apply$3.applyOrElse(CheckAnalysis.scala:107)\n\tat org.apache.spark.sql.catalyst.trees.TreeNode$$anonfun$transformUp$1.apply(TreeNode.scala:278)\n\tat org.apache.spark.sql.catalyst.trees.TreeNode$$anonfun$transformUp$1.apply(TreeNode.scala:278)\n\tat org.apache.spark.sql.catalyst.trees.CurrentOrigin$.withOrigin(TreeNode.scala:70)\n\tat org.apache.spark.sql.catalyst.trees.TreeNode.transformUp(TreeNode.scala:277)\n\tat org.apache.spark.sql.catalyst.plans.QueryPlan$$anonfun$transformExpressionsUp$1.apply(QueryPlan.scala:93)\n\tat org.apache.spark.sql.catalyst.plans.QueryPlan$$anonfun$transformExpressionsUp$1.apply(QueryPlan.scala:93)\n\tat org.apache.spark.sql.catalyst.plans.QueryPlan$$anonfun$1.apply(QueryPlan.scala:105)\n\tat org.apache.spark.sql.catalyst.plans.QueryPlan$$anonfun$1.apply(QueryPlan.scala:105)\n\tat org.apache.spark.sql.catalyst.trees.CurrentOrigin$.withOrigin(TreeNode.scala:70)\n\tat org.apache.spark.sql.catalyst.plans.QueryPlan.transformExpression$1(QueryPlan.scala:104)\n\tat org.apache.spark.sql.catalyst.plans.QueryPlan.org$apache$spark$sql$catalyst$plans$QueryPlan$$recursiveTransform$1(QueryPlan.scala:116)\n\tat org.apache.spark.sql.catalyst.plans.QueryPlan$$anonfun$org$apache$spark$sql$catalyst$plans$QueryPlan$$recursiveTransform$1$2.apply(QueryPlan.scala:121)\n\tat scala.collection.TraversableLike$$anonfun$map$1.apply(TraversableLike.scala:234)\n\tat scala.collection.TraversableLike$$anonfun$map$1.apply(TraversableLike.scala:234)\n\tat scala.collection.mutable.ResizableArray$class.foreach(ResizableArray.scala:59)\n\tat scala.collection.mutable.ArrayBuffer.foreach(ArrayBuffer.scala:48)\n\tat scala.collection.TraversableLike$class.map(TraversableLike.scala:234)\n\tat scala.collection.AbstractTraversable.map(Traversable.scala:104)\n\tat org.apache.spark.sql.catalyst.plans.QueryPlan.org$apache$spark$sql$catalyst$plans$QueryPlan$$recursiveTransform$1(QueryPlan.scala:121)\n\tat org.apache.spark.sql.catalyst.plans.QueryPlan$$anonfun$2.apply(QueryPlan.scala:126)\n\tat org.apache.spark.sql.catalyst.trees.TreeNode.mapProductIterator(TreeNode.scala:187)\n\tat org.apache.spark.sql.catalyst.plans.QueryPlan.mapExpressions(QueryPlan.scala:126)\n\tat org.apache.spark.sql.catalyst.plans.QueryPlan.transformExpressionsUp(QueryPlan.scala:93)\n\tat org.apache.spark.sql.catalyst.analysis.CheckAnalysis$$anonfun$checkAnalysis$1.apply(CheckAnalysis.scala:107)\n\tat org.apache.spark.sql.catalyst.analysis.CheckAnalysis$$anonfun$checkAnalysis$1.apply(CheckAnalysis.scala:85)\n\tat org.apache.spark.sql.catalyst.trees.TreeNode.foreachUp(TreeNode.scala:127)\n\tat org.apache.spark.sql.catalyst.analysis.CheckAnalysis$class.checkAnalysis(CheckAnalysis.scala:85)\n\tat org.apache.spark.sql.catalyst.analysis.Analyzer.checkAnalysis(Analyzer.scala:95)\n\tat org.apache.spark.sql.catalyst.analysis.Analyzer$$anonfun$executeAndCheck$1.apply(Analyzer.scala:108)\n\tat org.apache.spark.sql.catalyst.analysis.Analyzer$$anonfun$executeAndCheck$1.apply(Analyzer.scala:105)\n\tat org.apache.spark.sql.catalyst.plans.logical.AnalysisHelper$.markInAnalyzer(AnalysisHelper.scala:201)\n\tat org.apache.spark.sql.catalyst.analysis.Analyzer.executeAndCheck(Analyzer.scala:105)\n\tat org.apache.spark.sql.execution.QueryExecution.analyzed$lzycompute(QueryExecution.scala:57)\n\tat org.apache.spark.sql.execution.QueryExecution.analyzed(QueryExecution.scala:55)\n\tat org.apache.spark.sql.execution.QueryExecution.assertAnalyzed(QueryExecution.scala:47)\n\tat org.apache.spark.sql.Dataset$.ofRows(Dataset.scala:78)\n\tat org.apache.spark.sql.Dataset.org$apache$spark$sql$Dataset$$withPlan(Dataset.scala:3406)\n\tat org.apache.spark.sql.Dataset.select(Dataset.scala:1334)\n\tat sun.reflect.NativeMethodAccessorImpl.invoke0(Native Method)\n\tat sun.reflect.NativeMethodAccessorImpl.invoke(NativeMethodAccessorImpl.java:62)\n\tat sun.reflect.DelegatingMethodAccessorImpl.invoke(DelegatingMethodAccessorImpl.java:43)\n\tat java.lang.reflect.Method.invoke(Method.java:498)\n\tat py4j.reflection.MethodInvoker.invoke(MethodInvoker.java:244)\n\tat py4j.reflection.ReflectionEngine.invoke(ReflectionEngine.java:357)\n\tat py4j.Gateway.invoke(Gateway.java:282)\n\tat py4j.commands.AbstractCommand.invokeMethod(AbstractCommand.java:132)\n\tat py4j.commands.CallCommand.execute(CallCommand.java:79)\n\tat py4j.GatewayConnection.run(GatewayConnection.java:238)\n\tat java.lang.Thread.run(Thread.java:748)\n",
      "\nDuring handling of the above exception, another exception occurred:\n",
      "\u001b[0;31mAnalysisException\u001b[0m                         Traceback (most recent call last)",
      "\u001b[0;32m<ipython-input-39-0515b01aebe4>\u001b[0m in \u001b[0;36m<module>\u001b[0;34m()\u001b[0m\n\u001b[0;32m----> 1\u001b[0;31m \u001b[0mmodel_data\u001b[0m\u001b[0;34m.\u001b[0m\u001b[0mselect\u001b[0m\u001b[0;34m(\u001b[0m\u001b[0;34m\"churn\"\u001b[0m\u001b[0;34m)\u001b[0m\u001b[0;34m.\u001b[0m\u001b[0mshow\u001b[0m\u001b[0;34m(\u001b[0m\u001b[0;34m)\u001b[0m\u001b[0;34m\u001b[0m\u001b[0m\n\u001b[0m",
      "\u001b[0;32m/opt/spark-2.4.3-bin-hadoop2.7/python/pyspark/sql/dataframe.py\u001b[0m in \u001b[0;36mselect\u001b[0;34m(self, *cols)\u001b[0m\n\u001b[1;32m   1318\u001b[0m         \u001b[0;34m[\u001b[0m\u001b[0mRow\u001b[0m\u001b[0;34m(\u001b[0m\u001b[0mname\u001b[0m\u001b[0;34m=\u001b[0m\u001b[0;34mu'Alice'\u001b[0m\u001b[0;34m,\u001b[0m \u001b[0mage\u001b[0m\u001b[0;34m=\u001b[0m\u001b[0;36m12\u001b[0m\u001b[0;34m)\u001b[0m\u001b[0;34m,\u001b[0m \u001b[0mRow\u001b[0m\u001b[0;34m(\u001b[0m\u001b[0mname\u001b[0m\u001b[0;34m=\u001b[0m\u001b[0;34mu'Bob'\u001b[0m\u001b[0;34m,\u001b[0m \u001b[0mage\u001b[0m\u001b[0;34m=\u001b[0m\u001b[0;36m15\u001b[0m\u001b[0;34m)\u001b[0m\u001b[0;34m]\u001b[0m\u001b[0;34m\u001b[0m\u001b[0m\n\u001b[1;32m   1319\u001b[0m         \"\"\"\n\u001b[0;32m-> 1320\u001b[0;31m         \u001b[0mjdf\u001b[0m \u001b[0;34m=\u001b[0m \u001b[0mself\u001b[0m\u001b[0;34m.\u001b[0m\u001b[0m_jdf\u001b[0m\u001b[0;34m.\u001b[0m\u001b[0mselect\u001b[0m\u001b[0;34m(\u001b[0m\u001b[0mself\u001b[0m\u001b[0;34m.\u001b[0m\u001b[0m_jcols\u001b[0m\u001b[0;34m(\u001b[0m\u001b[0;34m*\u001b[0m\u001b[0mcols\u001b[0m\u001b[0;34m)\u001b[0m\u001b[0;34m)\u001b[0m\u001b[0;34m\u001b[0m\u001b[0m\n\u001b[0m\u001b[1;32m   1321\u001b[0m         \u001b[0;32mreturn\u001b[0m \u001b[0mDataFrame\u001b[0m\u001b[0;34m(\u001b[0m\u001b[0mjdf\u001b[0m\u001b[0;34m,\u001b[0m \u001b[0mself\u001b[0m\u001b[0;34m.\u001b[0m\u001b[0msql_ctx\u001b[0m\u001b[0;34m)\u001b[0m\u001b[0;34m\u001b[0m\u001b[0m\n\u001b[1;32m   1322\u001b[0m \u001b[0;34m\u001b[0m\u001b[0m\n",
      "\u001b[0;32m/opt/spark-2.4.3-bin-hadoop2.7/python/lib/py4j-0.10.7-src.zip/py4j/java_gateway.py\u001b[0m in \u001b[0;36m__call__\u001b[0;34m(self, *args)\u001b[0m\n\u001b[1;32m   1255\u001b[0m         \u001b[0manswer\u001b[0m \u001b[0;34m=\u001b[0m \u001b[0mself\u001b[0m\u001b[0;34m.\u001b[0m\u001b[0mgateway_client\u001b[0m\u001b[0;34m.\u001b[0m\u001b[0msend_command\u001b[0m\u001b[0;34m(\u001b[0m\u001b[0mcommand\u001b[0m\u001b[0;34m)\u001b[0m\u001b[0;34m\u001b[0m\u001b[0m\n\u001b[1;32m   1256\u001b[0m         return_value = get_return_value(\n\u001b[0;32m-> 1257\u001b[0;31m             answer, self.gateway_client, self.target_id, self.name)\n\u001b[0m\u001b[1;32m   1258\u001b[0m \u001b[0;34m\u001b[0m\u001b[0m\n\u001b[1;32m   1259\u001b[0m         \u001b[0;32mfor\u001b[0m \u001b[0mtemp_arg\u001b[0m \u001b[0;32min\u001b[0m \u001b[0mtemp_args\u001b[0m\u001b[0;34m:\u001b[0m\u001b[0;34m\u001b[0m\u001b[0m\n",
      "\u001b[0;32m/opt/spark-2.4.3-bin-hadoop2.7/python/pyspark/sql/utils.py\u001b[0m in \u001b[0;36mdeco\u001b[0;34m(*a, **kw)\u001b[0m\n\u001b[1;32m     67\u001b[0m                                              e.java_exception.getStackTrace()))\n\u001b[1;32m     68\u001b[0m             \u001b[0;32mif\u001b[0m \u001b[0ms\u001b[0m\u001b[0;34m.\u001b[0m\u001b[0mstartswith\u001b[0m\u001b[0;34m(\u001b[0m\u001b[0;34m'org.apache.spark.sql.AnalysisException: '\u001b[0m\u001b[0;34m)\u001b[0m\u001b[0;34m:\u001b[0m\u001b[0;34m\u001b[0m\u001b[0m\n\u001b[0;32m---> 69\u001b[0;31m                 \u001b[0;32mraise\u001b[0m \u001b[0mAnalysisException\u001b[0m\u001b[0;34m(\u001b[0m\u001b[0ms\u001b[0m\u001b[0;34m.\u001b[0m\u001b[0msplit\u001b[0m\u001b[0;34m(\u001b[0m\u001b[0;34m': '\u001b[0m\u001b[0;34m,\u001b[0m \u001b[0;36m1\u001b[0m\u001b[0;34m)\u001b[0m\u001b[0;34m[\u001b[0m\u001b[0;36m1\u001b[0m\u001b[0;34m]\u001b[0m\u001b[0;34m,\u001b[0m \u001b[0mstackTrace\u001b[0m\u001b[0;34m)\u001b[0m\u001b[0;34m\u001b[0m\u001b[0m\n\u001b[0m\u001b[1;32m     70\u001b[0m             \u001b[0;32mif\u001b[0m \u001b[0ms\u001b[0m\u001b[0;34m.\u001b[0m\u001b[0mstartswith\u001b[0m\u001b[0;34m(\u001b[0m\u001b[0;34m'org.apache.spark.sql.catalyst.analysis'\u001b[0m\u001b[0;34m)\u001b[0m\u001b[0;34m:\u001b[0m\u001b[0;34m\u001b[0m\u001b[0m\n\u001b[1;32m     71\u001b[0m                 \u001b[0;32mraise\u001b[0m \u001b[0mAnalysisException\u001b[0m\u001b[0;34m(\u001b[0m\u001b[0ms\u001b[0m\u001b[0;34m.\u001b[0m\u001b[0msplit\u001b[0m\u001b[0;34m(\u001b[0m\u001b[0;34m': '\u001b[0m\u001b[0;34m,\u001b[0m \u001b[0;36m1\u001b[0m\u001b[0;34m)\u001b[0m\u001b[0;34m[\u001b[0m\u001b[0;36m1\u001b[0m\u001b[0;34m]\u001b[0m\u001b[0;34m,\u001b[0m \u001b[0mstackTrace\u001b[0m\u001b[0;34m)\u001b[0m\u001b[0;34m\u001b[0m\u001b[0m\n",
      "\u001b[0;31mAnalysisException\u001b[0m: \"cannot resolve '`churn`' given input columns: [features, label];;\\n'Project ['churn]\\n+- Project [features#3725, label#3663]\\n   +- Project [label#3663, features#3725, auth#2609, gender#2610, location#2611, length#2612, userAgent#2613, page#2614, level#2615, method#2616, status#2617, hour#2618, churn#2619]\\n      +- Project [auth#2609, gender#2610, location#2611, length#2612, userAgent#2613, page#2614, level#2615, method#2616, status#2617, hour#2618, churn#2619, location_idx#3267, locationclass_vec#3281, userAgent_idx#3295, userAgentclass_vec#3311, page_idx#3327, pageclass_vec#3345, method_idx#3363, methodclass_vec#3383, status_idx#3403, statusclass_vec#3425, hour_idx#3447, hourclass_vec#3471, auth_idx#3495, ... 7 more fields]\\n         +- Filter AtLeastNNulls(n, locationclass_vec#3281,userAgentclass_vec#3311,pageclass_vec#3345,methodclass_vec#3383,statusclass_vec#3425,hourclass_vec#3471,authclass_vec#3521,genderclass_vec#3575,levelclass_vec#3633,length#2612,churn#2619)\\n            +- Project [auth#2609, gender#2610, location#2611, length#2612, userAgent#2613, page#2614, level#2615, method#2616, status#2617, hour#2618, churn#2619, location_idx#3267, locationclass_vec#3281, userAgent_idx#3295, userAgentclass_vec#3311, page_idx#3327, pageclass_vec#3345, method_idx#3363, methodclass_vec#3383, status_idx#3403, statusclass_vec#3425, hour_idx#3447, hourclass_vec#3471, auth_idx#3495, ... 6 more fields]\\n               +- Project [auth#2609, gender#2610, location#2611, length#2612, userAgent#2613, page#2614, level#2615, method#2616, status#2617, hour#2618, churn#2619, location_idx#3267, locationclass_vec#3281, userAgent_idx#3295, userAgentclass_vec#3311, page_idx#3327, pageclass_vec#3345, method_idx#3363, methodclass_vec#3383, status_idx#3403, statusclass_vec#3425, hour_idx#3447, hourclass_vec#3471, auth_idx#3495, ... 5 more fields]\\n                  +- Project [auth#2609, gender#2610, location#2611, length#2612, userAgent#2613, page#2614, level#2615, method#2616, status#2617, hour#2618, churn#2619, location_idx#3267, locationclass_vec#3281, userAgent_idx#3295, userAgentclass_vec#3311, page_idx#3327, pageclass_vec#3345, method_idx#3363, methodclass_vec#3383, status_idx#3403, statusclass_vec#3425, hour_idx#3447, hourclass_vec#3471, auth_idx#3495, ... 4 more fields]\\n                     +- Project [auth#2609, gender#2610, location#2611, length#2612, userAgent#2613, page#2614, level#2615, method#2616, status#2617, hour#2618, churn#2619, location_idx#3267, locationclass_vec#3281, userAgent_idx#3295, userAgentclass_vec#3311, page_idx#3327, pageclass_vec#3345, method_idx#3363, methodclass_vec#3383, status_idx#3403, statusclass_vec#3425, hour_idx#3447, hourclass_vec#3471, auth_idx#3495, ... 3 more fields]\\n                        +- Project [auth#2609, gender#2610, location#2611, length#2612, userAgent#2613, page#2614, level#2615, method#2616, status#2617, hour#2618, churn#2619, location_idx#3267, locationclass_vec#3281, userAgent_idx#3295, userAgentclass_vec#3311, page_idx#3327, pageclass_vec#3345, method_idx#3363, methodclass_vec#3383, status_idx#3403, statusclass_vec#3425, hour_idx#3447, hourclass_vec#3471, auth_idx#3495, ... 2 more fields]\\n                           +- Project [auth#2609, gender#2610, location#2611, length#2612, userAgent#2613, page#2614, level#2615, method#2616, status#2617, hour#2618, churn#2619, location_idx#3267, locationclass_vec#3281, userAgent_idx#3295, userAgentclass_vec#3311, page_idx#3327, pageclass_vec#3345, method_idx#3363, methodclass_vec#3383, status_idx#3403, statusclass_vec#3425, hour_idx#3447, hourclass_vec#3471, auth_idx#3495, if ((isnull(cast(auth_idx#3495 as double)) || isnull(0))) null else UDF(cast(auth_idx#3495 as double), 0) AS authclass_vec#3521]\\n                              +- Project [auth#2609, gender#2610, location#2611, length#2612, userAgent#2613, page#2614, level#2615, method#2616, status#2617, hour#2618, churn#2619, location_idx#3267, locationclass_vec#3281, userAgent_idx#3295, userAgentclass_vec#3311, page_idx#3327, pageclass_vec#3345, method_idx#3363, methodclass_vec#3383, status_idx#3403, statusclass_vec#3425, hour_idx#3447, hourclass_vec#3471, UDF(cast(auth#2609 as string)) AS auth_idx#3495]\\n                                 +- Project [auth#2609, gender#2610, location#2611, length#2612, userAgent#2613, page#2614, level#2615, method#2616, status#2617, hour#2618, churn#2619, location_idx#3267, locationclass_vec#3281, userAgent_idx#3295, userAgentclass_vec#3311, page_idx#3327, pageclass_vec#3345, method_idx#3363, methodclass_vec#3383, status_idx#3403, statusclass_vec#3425, hour_idx#3447, if ((isnull(cast(hour_idx#3447 as double)) || isnull(0))) null else UDF(cast(hour_idx#3447 as double), 0) AS hourclass_vec#3471]\\n                                    +- Project [auth#2609, gender#2610, location#2611, length#2612, userAgent#2613, page#2614, level#2615, method#2616, status#2617, hour#2618, churn#2619, location_idx#3267, locationclass_vec#3281, userAgent_idx#3295, userAgentclass_vec#3311, page_idx#3327, pageclass_vec#3345, method_idx#3363, methodclass_vec#3383, status_idx#3403, statusclass_vec#3425, UDF(cast(hour#2618 as string)) AS hour_idx#3447]\\n                                       +- Project [auth#2609, gender#2610, location#2611, length#2612, userAgent#2613, page#2614, level#2615, method#2616, status#2617, hour#2618, churn#2619, location_idx#3267, locationclass_vec#3281, userAgent_idx#3295, userAgentclass_vec#3311, page_idx#3327, pageclass_vec#3345, method_idx#3363, methodclass_vec#3383, status_idx#3403, if ((isnull(cast(status_idx#3403 as double)) || isnull(0))) null else UDF(cast(status_idx#3403 as double), 0) AS statusclass_vec#3425]\\n                                          +- Project [auth#2609, gender#2610, location#2611, length#2612, userAgent#2613, page#2614, level#2615, method#2616, status#2617, hour#2618, churn#2619, location_idx#3267, locationclass_vec#3281, userAgent_idx#3295, userAgentclass_vec#3311, page_idx#3327, pageclass_vec#3345, method_idx#3363, methodclass_vec#3383, UDF(cast(status#2617 as string)) AS status_idx#3403]\\n                                             +- Project [auth#2609, gender#2610, location#2611, length#2612, userAgent#2613, page#2614, level#2615, method#2616, status#2617, hour#2618, churn#2619, location_idx#3267, locationclass_vec#3281, userAgent_idx#3295, userAgentclass_vec#3311, page_idx#3327, pageclass_vec#3345, method_idx#3363, if ((isnull(cast(method_idx#3363 as double)) || isnull(0))) null else UDF(cast(method_idx#3363 as double), 0) AS methodclass_vec#3383]\\n                                                +- Project [auth#2609, gender#2610, location#2611, length#2612, userAgent#2613, page#2614, level#2615, method#2616, status#2617, hour#2618, churn#2619, location_idx#3267, locationclass_vec#3281, userAgent_idx#3295, userAgentclass_vec#3311, page_idx#3327, pageclass_vec#3345, UDF(cast(method#2616 as string)) AS method_idx#3363]\\n                                                   +- Project [auth#2609, gender#2610, location#2611, length#2612, userAgent#2613, page#2614, level#2615, method#2616, status#2617, hour#2618, churn#2619, location_idx#3267, locationclass_vec#3281, userAgent_idx#3295, userAgentclass_vec#3311, page_idx#3327, if ((isnull(cast(page_idx#3327 as double)) || isnull(0))) null else UDF(cast(page_idx#3327 as double), 0) AS pageclass_vec#3345]\\n                                                      +- Project [auth#2609, gender#2610, location#2611, length#2612, userAgent#2613, page#2614, level#2615, method#2616, status#2617, hour#2618, churn#2619, location_idx#3267, locationclass_vec#3281, userAgent_idx#3295, userAgentclass_vec#3311, UDF(cast(page#2614 as string)) AS page_idx#3327]\\n                                                         +- Project [auth#2609, gender#2610, location#2611, length#2612, userAgent#2613, page#2614, level#2615, method#2616, status#2617, hour#2618, churn#2619, location_idx#3267, locationclass_vec#3281, userAgent_idx#3295, if ((isnull(cast(userAgent_idx#3295 as double)) || isnull(0))) null else UDF(cast(userAgent_idx#3295 as double), 0) AS userAgentclass_vec#3311]\\n                                                            +- Project [auth#2609, gender#2610, location#2611, length#2612, userAgent#2613, page#2614, level#2615, method#2616, status#2617, hour#2618, churn#2619, location_idx#3267, locationclass_vec#3281, UDF(cast(userAgent#2613 as string)) AS userAgent_idx#3295]\\n                                                               +- Project [auth#2609, gender#2610, location#2611, length#2612, userAgent#2613, page#2614, level#2615, method#2616, status#2617, hour#2618, churn#2619, location_idx#3267, if ((isnull(cast(location_idx#3267 as double)) || isnull(0))) null else UDF(cast(location_idx#3267 as double), 0) AS locationclass_vec#3281]\\n                                                                  +- Project [auth#2609, gender#2610, location#2611, length#2612, userAgent#2613, page#2614, level#2615, method#2616, status#2617, hour#2618, churn#2619, UDF(cast(location#2611 as string)) AS location_idx#3267]\\n                                                                     +- Relation[auth#2609,gender#2610,location#2611,length#2612,userAgent#2613,page#2614,level#2615,method#2616,status#2617,hour#2618,churn#2619] csv\\n\""
     ]
    }
   ],
   "source": [
    "model_data.select(\"churn\").show()"
   ]
  },
  {
   "cell_type": "code",
   "execution_count": 50,
   "metadata": {},
   "outputs": [
    {
     "name": "stdout",
     "output_type": "stream",
     "text": [
      "+-----+------+\n",
      "|churn| count|\n",
      "+-----+------+\n",
      "|    0|278039|\n",
      "|    1|   115|\n",
      "+-----+------+\n",
      "\n"
     ]
    }
   ],
   "source": [
    "model_data.select(\"churn\").groupby(\"churn\").count().orderBy(desc(\"count\")).show()"
   ]
  },
  {
   "cell_type": "code",
   "execution_count": 35,
   "metadata": {},
   "outputs": [
    {
     "data": {
      "text/plain": [
       "[Row(label=0.0, features=SparseVector(216, {51: 1.0, 117: 1.0, 168: 1.0, 186: 1.0, 187: 1.0, 201: 1.0, 212: 1.0, 214: 1.0, 215: 277.8902}), auth='Logged In', gender='M', location='Bakersfield, CA', length=277.89016, userAgent='Mozilla/5.0 (Windows NT 6.1; WOW64; rv:31.0) Gecko/20100101 Firefox/31.0', page='NextSong', level='paid', method='PUT', status=200, hour=0, churn='0'),\n",
       " Row(label=0.0, features=SparseVector(216, {2: 1.0, 119: 1.0, 168: 1.0, 186: 1.0, 187: 1.0, 201: 1.0, 212: 1.0, 215: 236.0942}), auth='Logged In', gender='M', location='Boston-Cambridge-Newton, MA-NH', length=236.09424, userAgent='\"Mozilla/5.0 (Windows NT 6.1; WOW64) AppleWebKit/537.36 (KHTML, like Gecko) Chrome/37.0.2062.103 Safari/537.36\"', page='NextSong', level='free', method='PUT', status=200, hour=0, churn='0'),\n",
       " Row(label=0.0, features=SparseVector(216, {51: 1.0, 117: 1.0, 168: 1.0, 186: 1.0, 187: 1.0, 201: 1.0, 212: 1.0, 214: 1.0, 215: 282.8273}), auth='Logged In', gender='M', location='Bakersfield, CA', length=282.8273, userAgent='Mozilla/5.0 (Windows NT 6.1; WOW64; rv:31.0) Gecko/20100101 Firefox/31.0', page='NextSong', level='paid', method='PUT', status=200, hour=0, churn='0'),\n",
       " Row(label=0.0, features=SparseVector(216, {2: 1.0, 119: 1.0, 168: 1.0, 186: 1.0, 187: 1.0, 201: 1.0, 212: 1.0, 215: 262.713}), auth='Logged In', gender='M', location='Boston-Cambridge-Newton, MA-NH', length=262.71302, userAgent='\"Mozilla/5.0 (Windows NT 6.1; WOW64) AppleWebKit/537.36 (KHTML, like Gecko) Chrome/37.0.2062.103 Safari/537.36\"', page='NextSong', level='free', method='PUT', status=200, hour=0, churn='0'),\n",
       " Row(label=0.0, features=SparseVector(216, {51: 1.0, 117: 1.0, 168: 1.0, 186: 1.0, 187: 1.0, 201: 1.0, 212: 1.0, 214: 1.0, 215: 223.6077}), auth='Logged In', gender='M', location='Bakersfield, CA', length=223.60771, userAgent='Mozilla/5.0 (Windows NT 6.1; WOW64; rv:31.0) Gecko/20100101 Firefox/31.0', page='NextSong', level='paid', method='PUT', status=200, hour=0, churn='0')]"
      ]
     },
     "execution_count": 35,
     "metadata": {},
     "output_type": "execute_result"
    }
   ],
   "source": [
    "model_data.head(5)"
   ]
  },
  {
   "cell_type": "code",
   "execution_count": 66,
   "metadata": {},
   "outputs": [
    {
     "name": "stdout",
     "output_type": "stream",
     "text": [
      "root\n",
      " |-- features: vector (nullable = true)\n",
      " |-- label: double (nullable = false)\n",
      "\n"
     ]
    }
   ],
   "source": [
    "model_data = model_data.select('features', 'label')\n",
    "model_data.printSchema()"
   ]
  },
  {
   "cell_type": "code",
   "execution_count": 52,
   "metadata": {},
   "outputs": [
    {
     "data": {
      "text/plain": [
       "[Row(features=SparseVector(217, {51: 1.0, 117: 1.0, 168: 1.0, 186: 1.0, 187: 1.0, 201: 1.0, 212: 1.0, 214: 1.0, 215: 277.8902}), label=0.0),\n",
       " Row(features=SparseVector(217, {2: 1.0, 119: 1.0, 168: 1.0, 186: 1.0, 187: 1.0, 201: 1.0, 212: 1.0, 215: 236.0942}), label=0.0),\n",
       " Row(features=SparseVector(217, {51: 1.0, 117: 1.0, 168: 1.0, 186: 1.0, 187: 1.0, 201: 1.0, 212: 1.0, 214: 1.0, 215: 282.8273}), label=0.0),\n",
       " Row(features=SparseVector(217, {2: 1.0, 119: 1.0, 168: 1.0, 186: 1.0, 187: 1.0, 201: 1.0, 212: 1.0, 215: 262.713}), label=0.0),\n",
       " Row(features=SparseVector(217, {51: 1.0, 117: 1.0, 168: 1.0, 186: 1.0, 187: 1.0, 201: 1.0, 212: 1.0, 214: 1.0, 215: 223.6077}), label=0.0)]"
      ]
     },
     "execution_count": 52,
     "metadata": {},
     "output_type": "execute_result"
    }
   ],
   "source": [
    "model_data.head(5)"
   ]
  },
  {
   "cell_type": "markdown",
   "metadata": {},
   "source": [
    "# Modeling\n",
    "Split the full dataset into train, test, and validation sets. Test out several of the machine learning methods you learned. Evaluate the accuracy of the various models, tuning parameters as necessary. Determine your winning model based on test accuracy and report results on the validation set. Since the churned users are a fairly small subset, I suggest using F1 score as the metric to optimize."
   ]
  },
  {
   "cell_type": "code",
   "execution_count": 67,
   "metadata": {},
   "outputs": [],
   "source": [
    "# Split into training and testing datasets\n",
    "train_data, test_data = model_data.randomSplit([0.8, 0.2], seed=42)"
   ]
  },
  {
   "cell_type": "code",
   "execution_count": 79,
   "metadata": {},
   "outputs": [],
   "source": [
    "# Split training into train and validation datasets\n",
    "# train_data, validation_data = train_data.randomSplit([0.8, 0.2], seed=42)"
   ]
  },
  {
   "cell_type": "code",
   "execution_count": 19,
   "metadata": {},
   "outputs": [
    {
     "name": "stdout",
     "output_type": "stream",
     "text": [
      "Training set has 178639 samples.\n",
      "Testing set has 55174 samples.\n",
      "Validation set has 35423 samples.\n"
     ]
    }
   ],
   "source": [
    "# Show the results of the split\n",
    "print(\"Training set has {} samples.\".format(str(train_data.count())))\n",
    "print(\"Testing set has {} samples.\".format(str(test_data.count())))\n",
    "print(\"Validation set has {} samples.\".format(str(validation_data.count())))"
   ]
  },
  {
   "cell_type": "markdown",
   "metadata": {},
   "source": [
    "### Test classifiers"
   ]
  },
  {
   "cell_type": "code",
   "execution_count": 68,
   "metadata": {},
   "outputs": [
    {
     "name": "stdout",
     "output_type": "stream",
     "text": [
      "Baseline evaluation:\n",
      "Accuracy:0.9994381411534419\n",
      "F-1 Score: 0.9991572906736812\n"
     ]
    }
   ],
   "source": [
    "base_0 = test_data.withColumn('prediction', lit(0.0))\n",
    "\n",
    "test_eval = MulticlassClassificationEvaluator(predictionCol=\"prediction\")\n",
    "print(\"Baseline evaluation:\")\n",
    "print(\"Accuracy:{}\".format(test_eval.evaluate(base_0, \\\n",
    "                                              {test_eval.metricName: \"accuracy\"})))\n",
    "\n",
    "print(\"F-1 Score: {}\".format(test_eval.evaluate(base_0, \\\n",
    "                                                {test_eval.metricName: \"f1\"})))"
   ]
  },
  {
   "cell_type": "code",
   "execution_count": 55,
   "metadata": {},
   "outputs": [
    {
     "data": {
      "text/plain": [
       "Row(features=SparseVector(217, {0: 1.0, 114: 1.0, 168: 1.0, 186: 1.0, 187: 1.0, 189: 1.0, 212: 1.0, 214: 1.0, 215: 81.1881}), label=0.0, prediction=0.0)"
      ]
     },
     "execution_count": 55,
     "metadata": {},
     "output_type": "execute_result"
    }
   ],
   "source": [
    "base_0.head()"
   ]
  },
  {
   "cell_type": "code",
   "execution_count": 69,
   "metadata": {},
   "outputs": [
    {
     "name": "stdout",
     "output_type": "stream",
     "text": [
      "Baseline evaluation:\n",
      "Accuracy:0.0005618588465581615\n",
      "F-1 Score: 6.31016184885536e-07\n"
     ]
    }
   ],
   "source": [
    "base_1 = test_data.withColumn('prediction', lit(1.0))\n",
    "\n",
    "test_eval = MulticlassClassificationEvaluator(predictionCol=\"prediction\")\n",
    "print(\"Baseline evaluation:\")\n",
    "print(\"Accuracy:{}\".format(test_eval.evaluate(base_1, {test_eval.metricName: \"accuracy\"})))\n",
    "print(\"F-1 Score: {}\".format(test_eval.evaluate(base_1, {test_eval.metricName: \"f1\"})))"
   ]
  },
  {
   "cell_type": "code",
   "execution_count": 70,
   "metadata": {},
   "outputs": [
    {
     "data": {
      "text/plain": [
       "Row(features=SparseVector(216, {0: 1.0, 114: 1.0, 168: 1.0, 186: 1.0, 187: 1.0, 189: 1.0, 212: 1.0}), label=0.0, prediction=1.0)"
      ]
     },
     "execution_count": 70,
     "metadata": {},
     "output_type": "execute_result"
    }
   ],
   "source": [
    "base_1.head()"
   ]
  },
  {
   "cell_type": "code",
   "execution_count": 89,
   "metadata": {},
   "outputs": [],
   "source": [
    "def train_predict(classifier, train_data, test_data): \n",
    "    '''\n",
    "    inputs:\n",
    "       - classifier: the learning algorithm to be trained and predicted on\n",
    "       - train_data: features training set\n",
    "       - test_data : features test set \n",
    "    output:\n",
    "        - trained_model : trained model\n",
    "    '''    \n",
    "    # Train model with train data\n",
    "    model = classifier(labelCol=\"label\", featuresCol=\"features\")\n",
    "    model = model.fit(train_data)\n",
    "\n",
    "    # Make prediction on test data\n",
    "    predictions = model.transform(test_data)\n",
    "    \n",
    "    # Evaluate prediction in test data\n",
    "    evaluate(predictions)\n",
    "\n",
    "    return model\n",
    "\n",
    "    "
   ]
  },
  {
   "cell_type": "code",
   "execution_count": 90,
   "metadata": {},
   "outputs": [],
   "source": [
    "from pyspark.ml.evaluation import MulticlassClassificationEvaluator\n",
    "# evaluate the model with test set\n",
    "def evaluate(predictions):\n",
    "    ''' \n",
    "    input:\n",
    "    - predictions: \n",
    "    '''\n",
    "    evaluator = MulticlassClassificationEvaluator()\n",
    "#    print('Evaluting: {}'.format(classifier.__name__))\n",
    "    print('F1-Score ', evaluator.evaluate(predictions, {evaluator.metricName: 'f1'}))\n",
    "    print('Precision ', evaluator.evaluate(predictions, {evaluator.metricName: 'weightedPrecision'}))\n",
    "    print('Recall ', evaluator.evaluate(predictions, {evaluator.metricName: 'weightedRecall'}))\n",
    "    print('Accuracy ', evaluator.evaluate(predictions, {evaluator.metricName: 'accuracy'}))    "
   ]
  },
  {
   "cell_type": "code",
   "execution_count": 59,
   "metadata": {},
   "outputs": [],
   "source": [
    "# initialize classifiers\n",
    "lr = LogisticRegression(featuresCol = 'features', labelCol = 'label')\n",
    "rf = RandomForestClassifier(featuresCol = 'features', labelCol = 'label')\n",
    "\n"
   ]
  },
  {
   "cell_type": "code",
   "execution_count": 91,
   "metadata": {},
   "outputs": [
    {
     "name": "stdout",
     "output_type": "stream",
     "text": [
      "F1-Score  1.0\n",
      "Precision  1.0\n",
      "Recall  1.0\n",
      "Accuracy  1.0\n"
     ]
    }
   ],
   "source": [
    "model = train_predict(LogisticRegression, train_data, test_data)"
   ]
  },
  {
   "cell_type": "code",
   "execution_count": 68,
   "metadata": {},
   "outputs": [
    {
     "name": "stdout",
     "output_type": "stream",
     "text": [
      "F1-Score  0.9991572906736812\n",
      "Precision  0.9988765979922472\n",
      "Recall  0.9994381411534419\n",
      "Accuracy  0.9994381411534419\n"
     ]
    }
   ],
   "source": [
    "model = train_predict(RandomForestClassifier, train_data, test_data)"
   ]
  },
  {
   "cell_type": "code",
   "execution_count": 31,
   "metadata": {},
   "outputs": [],
   "source": [
    "# initialize classifier\n",
    "random_forest = RandomForestClassifier()\n",
    "\n",
    "# set evaluator\n",
    "f1_eval = MulticlassClassificationEvaluator(metricName='f1')\n",
    "\n",
    "# build paramGrid\n",
    "paramGrid = ParamGridBuilder().build()\n",
    "\n",
    "crossval_logreg = CrossValidator(estimator=random_forest,\n",
    "                          estimatorParamMaps=paramGrid,\n",
    "                          evaluator=f1_eval,\n",
    "                          numFolds=2)"
   ]
  },
  {
   "cell_type": "code",
   "execution_count": 32,
   "metadata": {},
   "outputs": [
    {
     "name": "stdout",
     "output_type": "stream",
     "text": [
      "Evaluation from Logistic Regression:\n",
      "Accuracy: 0.9999456265632363\n",
      "F-1 Score:0.9999442449272385\n"
     ]
    }
   ],
   "source": [
    "cvModel_logreg = crossval_logreg.fit(train_data)\n",
    "result_logreg = cvModel_logreg.transform(test_data)\n",
    "\n",
    "test_eval = MulticlassClassificationEvaluator(predictionCol=\"prediction\")\n",
    "\n",
    "print('Evaluation from Logistic Regression:')\n",
    "print('Accuracy: {}'.format(test_eval.evaluate(result_logreg, \\\n",
    "                                               {test_eval.metricName: \"accuracy\"})))\n",
    "\n",
    "print('F-1 Score:{}'.format(test_eval.evaluate(result_logreg, \\\n",
    "                                               {test_eval.metricName: \"f1\"})))"
   ]
  },
  {
   "cell_type": "code",
   "execution_count": 14,
   "metadata": {},
   "outputs": [
    {
     "ename": "TypeError",
     "evalue": "__init__() got an unexpected keyword argument 'scorer'",
     "output_type": "error",
     "traceback": [
      "\u001b[0;31m---------------------------------------------------------------------------\u001b[0m",
      "\u001b[0;31mTypeError\u001b[0m                                 Traceback (most recent call last)",
      "\u001b[0;32m<ipython-input-14-9f954d39248a>\u001b[0m in \u001b[0;36m<module>\u001b[0;34m()\u001b[0m\n\u001b[1;32m     20\u001b[0m \u001b[0;31m#Tune model using cross-validation pipeline\u001b[0m\u001b[0;34m\u001b[0m\u001b[0;34m\u001b[0m\u001b[0m\n\u001b[1;32m     21\u001b[0m \u001b[0;31m# clf = GridSearchCV(pipeline, hyperparameters, cv=10)\u001b[0m\u001b[0;34m\u001b[0m\u001b[0;34m\u001b[0m\u001b[0m\n\u001b[0;32m---> 22\u001b[0;31m \u001b[0mgrid_obj\u001b[0m \u001b[0;34m=\u001b[0m \u001b[0mGridSearchCV\u001b[0m\u001b[0;34m(\u001b[0m\u001b[0mclf\u001b[0m\u001b[0;34m,\u001b[0m \u001b[0mparam_grid\u001b[0m \u001b[0;34m=\u001b[0m \u001b[0mparameters\u001b[0m\u001b[0;34m,\u001b[0m \u001b[0mcv\u001b[0m \u001b[0;34m=\u001b[0m \u001b[0;36m10\u001b[0m\u001b[0;34m,\u001b[0m \u001b[0mscorer\u001b[0m \u001b[0;34m=\u001b[0m \u001b[0mscorer\u001b[0m\u001b[0;34m)\u001b[0m\u001b[0;34m\u001b[0m\u001b[0m\n\u001b[0m\u001b[1;32m     23\u001b[0m \u001b[0;34m\u001b[0m\u001b[0m\n\u001b[1;32m     24\u001b[0m \u001b[0mrf_grid_fit\u001b[0m \u001b[0;34m=\u001b[0m \u001b[0mgrid_obj\u001b[0m\u001b[0;34m.\u001b[0m\u001b[0mfit\u001b[0m\u001b[0;34m(\u001b[0m\u001b[0mtrain_data\u001b[0m\u001b[0;34m)\u001b[0m\u001b[0;34m\u001b[0m\u001b[0m\n",
      "\u001b[0;31mTypeError\u001b[0m: __init__() got an unexpected keyword argument 'scorer'"
     ]
    }
   ],
   "source": [
    "from sklearn.grid_search import GridSearchCV\n",
    "from sklearn.metrics import make_scorer\n",
    "import random\n",
    "from pyspark.ml.evaluation import MulticlassClassificationEvaluator\n",
    "\n",
    "# initialize classifier\n",
    "# lr = LogisticRegression(featuresCol = 'features', labelCol = 'label', \n",
    "#                        maxIter=5, regParam=0.3, elasticNetParam=0.8)\n",
    "\n",
    "#lr = LogisticRegression(featuresCol = 'features', labelCol = 'label')\n",
    "clf = RandomForestClassifier()\n",
    "scorer = MulticlassClassificationEvaluator()\n",
    "# fit on train data\n",
    "# lr_model = lr.fit(train_data)\n",
    "parameters = {'n_estimators': [1, 50, 100], 'max_depth': [2,20,200], 'min_samples_split': [10,100,1000]}\n",
    "#scorer = make_scorer(fbeta_score, beta = 0.5)\n",
    "#hyperparameters = { 'randomforestregressor__max_features' : ['auto', 'sqrt', 'log2'],\n",
    "#                  'randomforestregressor__max_depth': [None, 5, 3, 1]}\n",
    " \n",
    "#Tune model using cross-validation pipeline\n",
    "# clf = GridSearchCV(pipeline, hyperparameters, cv=10)\n",
    "grid_obj = GridSearchCV(clf, param_grid = parameters, cv = 10, scorer = scorer)\n",
    "\n",
    "rf_grid_fit = grid_obj.fit(train_data)\n",
    "\n",
    "best_clf = grid_fit.best_estimator_\n",
    "\n",
    "predictions = clf.transform(test_data)\n",
    "best_predictions = best_clf.predict(test_data)\n",
    " \n",
    "\n",
    "##predictions = lr_model.transform(test_data)\n",
    "predictions.show()"
   ]
  },
  {
   "cell_type": "code",
   "execution_count": 72,
   "metadata": {},
   "outputs": [
    {
     "name": "stdout",
     "output_type": "stream",
     "text": [
      "F1-Score  1.0\n",
      "Precision  1.0\n",
      "Recall  1.0\n",
      "Accuracy  1.0\n"
     ]
    }
   ],
   "source": [
    "from pyspark.ml.evaluation import MulticlassClassificationEvaluator\n",
    "\n",
    "# evaluate the model with test set\n",
    "evaluator = MulticlassClassificationEvaluator()\n",
    "\n",
    "print('F1-Score ', evaluator.evaluate(predictions, {evaluator.metricName: 'f1'}))\n",
    "print('Precision ', evaluator.evaluate(predictions, {evaluator.metricName: 'weightedPrecision'}))\n",
    "print('Recall ', evaluator.evaluate(predictions, {evaluator.metricName: 'weightedRecall'}))\n",
    "print('Accuracy ', evaluator.evaluate(predictions, {evaluator.metricName: 'accuracy'}))    "
   ]
  },
  {
   "cell_type": "markdown",
   "metadata": {},
   "source": [
    "#### Optimize Linear Regression Model "
   ]
  },
  {
   "cell_type": "code",
   "execution_count": 50,
   "metadata": {},
   "outputs": [],
   "source": [
    "from pyspark.ml.tuning import CrossValidator, ParamGridBuilder\n",
    "\n",
    "# Set different hyperparameter values \n",
    "# Using setting from the spark documentation: https://spark.apache.org/docs/latest/api/python/pyspark.ml.html#pyspark.ml.classification.LogisticRegression\n",
    "pg = ParamGridBuilder() \\\n",
    "    .addGrid(lr.regParam, [1.0, 2.0]) \\\n",
    "    .addGrid(lr.maxIter, [1, 5]) \\\n",
    "    .build()\n",
    "\n",
    "# Build cross validation classifier\n",
    "lr_cv = CrossValidator(estimator=lr,\n",
    "                    estimatorParamMaps=pg,\n",
    "                    evaluator=MulticlassClassificationEvaluator(metricName='f1'))"
   ]
  },
  {
   "cell_type": "code",
   "execution_count": null,
   "metadata": {},
   "outputs": [],
   "source": [
    "param_grid = { 'n_estimators': [200, 500, 700], 'max_features': ['auto', 'sqrt', 'log2'] } ,\n",
    "CV_rfc = GridSearchCV(estimator=rfc, param_grid=param_grid, cv= 5)"
   ]
  },
  {
   "cell_type": "markdown",
   "metadata": {},
   "source": [
    "# Final Steps\n",
    "Clean up your code, adding comments and renaming variables to make the code easier to read and maintain. Refer to the Spark Project Overview page and Data Scientist Capstone Project Rubric to make sure you are including all components of the capstone project and meet all expectations. Remember, this includes thorough documentation in a README file in a Github repository, as well as a web app or blog post."
   ]
  }
 ],
 "metadata": {
  "kernelspec": {
   "display_name": "Python 3",
   "language": "python",
   "name": "python3"
  },
  "language_info": {
   "codemirror_mode": {
    "name": "ipython",
    "version": 3
   },
   "file_extension": ".py",
   "mimetype": "text/x-python",
   "name": "python",
   "nbconvert_exporter": "python",
   "pygments_lexer": "ipython3",
   "version": "3.6.3"
  }
 },
 "nbformat": 4,
 "nbformat_minor": 2
}
