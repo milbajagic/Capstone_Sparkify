{
 "cells": [
  {
   "cell_type": "markdown",
   "metadata": {},
   "source": [
    "# Sparkify Project Workspace\n",
    "This workspace contains a tiny subset (128MB) of the full dataset available (12GB). Feel free to use this workspace to build your project, or to explore a smaller subset with Spark before deploying your cluster on the cloud. Instructions for setting up your Spark cluster is included in the last lesson of the Extracurricular Spark Course content.\n",
    "\n",
    "You can follow the steps below to guide your data analysis and model building portion of this project."
   ]
  },
  {
   "cell_type": "code",
   "execution_count": 53,
   "metadata": {},
   "outputs": [],
   "source": [
    "# import libraries\n",
    "import pyspark\n",
    "from pyspark import SparkConf\n",
    "from pyspark.sql import SparkSession\n",
    "\n",
    "from pyspark.sql.functions import avg, col, concat, desc, explode, lit, split, udf,count\\\n",
    ",when,isnan,regexp_replace,countDistinct\n",
    "from pyspark.sql.types import BooleanType, IntegerType, DateType, StringType, FloatType, TimestampType\n",
    "import datetime\n",
    "from pyspark.sql.window import Window\n",
    "import pandas as pd\n",
    "import numpy as np\n",
    "import seaborn as sns\n",
    "import re\n",
    "\n",
    "\n",
    "from pyspark.ml.linalg import Vectors\n",
    "from pyspark.ml.feature import OneHotEncoderEstimator, StringIndexer, StandardScaler\n",
    "from pyspark.ml.evaluation import MulticlassClassificationEvaluator\n",
    "from pyspark.ml import Pipeline\n",
    "from pyspark.ml.classification import LogisticRegression, RandomForestClassifier\n",
    "\n",
    "from pyspark.ml.feature import StandardScaler, VectorAssembler\n",
    "from pyspark.ml.tuning import CrossValidator, ParamGridBuilder\n",
    "\n",
    "%matplotlib inline\n",
    "import matplotlib.pyplot as plt"
   ]
  },
  {
   "cell_type": "code",
   "execution_count": 54,
   "metadata": {},
   "outputs": [],
   "source": [
    "# create a Spark session\n",
    "spark = SparkSession \\\n",
    "    .builder \\\n",
    "    .appName(\"Spark Project\") \\\n",
    "    .getOrCreate()"
   ]
  },
  {
   "cell_type": "code",
   "execution_count": 55,
   "metadata": {},
   "outputs": [
    {
     "data": {
      "text/plain": [
       "[('spark.rdd.compress', 'True'),\n",
       " ('spark.serializer.objectStreamReset', '100'),\n",
       " ('spark.master', 'local[*]'),\n",
       " ('spark.executor.id', 'driver'),\n",
       " ('spark.submit.deployMode', 'client'),\n",
       " ('spark.driver.port', '34137'),\n",
       " ('spark.app.id', 'local-1589909700223'),\n",
       " ('spark.app.name', 'Spark Project'),\n",
       " ('spark.ui.showConsoleProgress', 'true'),\n",
       " ('spark.driver.host', '664763d3be20')]"
      ]
     },
     "execution_count": 55,
     "metadata": {},
     "output_type": "execute_result"
    }
   ],
   "source": [
    "# check if the change went through\n",
    "spark.sparkContext.getConf().getAll()"
   ]
  },
  {
   "cell_type": "code",
   "execution_count": 56,
   "metadata": {},
   "outputs": [
    {
     "data": {
      "text/html": [
       "\n",
       "            <div>\n",
       "                <p><b>SparkSession - in-memory</b></p>\n",
       "                \n",
       "        <div>\n",
       "            <p><b>SparkContext</b></p>\n",
       "\n",
       "            <p><a href=\"http://664763d3be20:4040\">Spark UI</a></p>\n",
       "\n",
       "            <dl>\n",
       "              <dt>Version</dt>\n",
       "                <dd><code>v2.4.3</code></dd>\n",
       "              <dt>Master</dt>\n",
       "                <dd><code>local[*]</code></dd>\n",
       "              <dt>AppName</dt>\n",
       "                <dd><code>Spark Project</code></dd>\n",
       "            </dl>\n",
       "        </div>\n",
       "        \n",
       "            </div>\n",
       "        "
      ],
      "text/plain": [
       "<pyspark.sql.session.SparkSession at 0x7f7d32083438>"
      ]
     },
     "execution_count": 56,
     "metadata": {},
     "output_type": "execute_result"
    }
   ],
   "source": [
    "spark"
   ]
  },
  {
   "cell_type": "markdown",
   "metadata": {},
   "source": [
    "# Load and Clean Dataset\n",
    "In this workspace, the mini-dataset file is `mini_sparkify_event_data.json`. Load and clean the dataset, checking for invalid or missing data - for example, records without userids or sessionids. "
   ]
  },
  {
   "cell_type": "code",
   "execution_count": 57,
   "metadata": {},
   "outputs": [],
   "source": [
    "path = \"mini_sparkify_event_data.json\"\n",
    "df = spark.read.json(path)"
   ]
  },
  {
   "cell_type": "code",
   "execution_count": 58,
   "metadata": {},
   "outputs": [
    {
     "name": "stdout",
     "output_type": "stream",
     "text": [
      "root\n",
      " |-- artist: string (nullable = true)\n",
      " |-- auth: string (nullable = true)\n",
      " |-- firstName: string (nullable = true)\n",
      " |-- gender: string (nullable = true)\n",
      " |-- itemInSession: long (nullable = true)\n",
      " |-- lastName: string (nullable = true)\n",
      " |-- length: double (nullable = true)\n",
      " |-- level: string (nullable = true)\n",
      " |-- location: string (nullable = true)\n",
      " |-- method: string (nullable = true)\n",
      " |-- page: string (nullable = true)\n",
      " |-- registration: long (nullable = true)\n",
      " |-- sessionId: long (nullable = true)\n",
      " |-- song: string (nullable = true)\n",
      " |-- status: long (nullable = true)\n",
      " |-- ts: long (nullable = true)\n",
      " |-- userAgent: string (nullable = true)\n",
      " |-- userId: string (nullable = true)\n",
      "\n"
     ]
    }
   ],
   "source": [
    "df.printSchema()"
   ]
  },
  {
   "cell_type": "code",
   "execution_count": 59,
   "metadata": {},
   "outputs": [
    {
     "data": {
      "text/plain": [
       "286500"
      ]
     },
     "execution_count": 59,
     "metadata": {},
     "output_type": "execute_result"
    }
   ],
   "source": [
    "# number of rows\n",
    "df.count()"
   ]
  },
  {
   "cell_type": "code",
   "execution_count": 60,
   "metadata": {},
   "outputs": [
    {
     "data": {
      "text/plain": [
       "[Row(artist='Martha Tilston', auth='Logged In', firstName='Colin', gender='M', itemInSession=50, lastName='Freeman', length=277.89016, level='paid', location='Bakersfield, CA', method='PUT', page='NextSong', registration=1538173362000, sessionId=29, song='Rockpools', status=200, ts=1538352117000, userAgent='Mozilla/5.0 (Windows NT 6.1; WOW64; rv:31.0) Gecko/20100101 Firefox/31.0', userId='30'),\n",
       " Row(artist='Five Iron Frenzy', auth='Logged In', firstName='Micah', gender='M', itemInSession=79, lastName='Long', length=236.09424, level='free', location='Boston-Cambridge-Newton, MA-NH', method='PUT', page='NextSong', registration=1538331630000, sessionId=8, song='Canada', status=200, ts=1538352180000, userAgent='\"Mozilla/5.0 (Windows NT 6.1; WOW64) AppleWebKit/537.36 (KHTML, like Gecko) Chrome/37.0.2062.103 Safari/537.36\"', userId='9'),\n",
       " Row(artist='Adam Lambert', auth='Logged In', firstName='Colin', gender='M', itemInSession=51, lastName='Freeman', length=282.8273, level='paid', location='Bakersfield, CA', method='PUT', page='NextSong', registration=1538173362000, sessionId=29, song='Time For Miracles', status=200, ts=1538352394000, userAgent='Mozilla/5.0 (Windows NT 6.1; WOW64; rv:31.0) Gecko/20100101 Firefox/31.0', userId='30'),\n",
       " Row(artist='Enigma', auth='Logged In', firstName='Micah', gender='M', itemInSession=80, lastName='Long', length=262.71302, level='free', location='Boston-Cambridge-Newton, MA-NH', method='PUT', page='NextSong', registration=1538331630000, sessionId=8, song='Knocking On Forbidden Doors', status=200, ts=1538352416000, userAgent='\"Mozilla/5.0 (Windows NT 6.1; WOW64) AppleWebKit/537.36 (KHTML, like Gecko) Chrome/37.0.2062.103 Safari/537.36\"', userId='9'),\n",
       " Row(artist='Daft Punk', auth='Logged In', firstName='Colin', gender='M', itemInSession=52, lastName='Freeman', length=223.60771, level='paid', location='Bakersfield, CA', method='PUT', page='NextSong', registration=1538173362000, sessionId=29, song='Harder Better Faster Stronger', status=200, ts=1538352676000, userAgent='Mozilla/5.0 (Windows NT 6.1; WOW64; rv:31.0) Gecko/20100101 Firefox/31.0', userId='30')]"
      ]
     },
     "execution_count": 60,
     "metadata": {},
     "output_type": "execute_result"
    }
   ],
   "source": [
    "df.take(5)"
   ]
  },
  {
   "cell_type": "code",
   "execution_count": 61,
   "metadata": {},
   "outputs": [
    {
     "name": "stdout",
     "output_type": "stream",
     "text": [
      "+-------+------------------+----------+---------+------+------------------+--------+-----------------+------+-----------------+------+-------+--------------------+-----------------+--------------------+------------------+--------------------+--------------------+-----------------+\n",
      "|summary|            artist|      auth|firstName|gender|     itemInSession|lastName|           length| level|         location|method|   page|        registration|        sessionId|                song|            status|                  ts|           userAgent|           userId|\n",
      "+-------+------------------+----------+---------+------+------------------+--------+-----------------+------+-----------------+------+-------+--------------------+-----------------+--------------------+------------------+--------------------+--------------------+-----------------+\n",
      "|  count|            228108|    286500|   278154|278154|            286500|  278154|           228108|286500|           278154|286500| 286500|              278154|           286500|              228108|            286500|              286500|              278154|           286500|\n",
      "|   mean| 551.0852017937219|      null|     null|  null|114.41421291448516|    null|249.1171819778458|  null|             null|  null|   null|1.535358834084427...|1041.526554973822|            Infinity|210.05459685863875|1.540956889810483...|                null|59682.02278593872|\n",
      "| stddev|1217.7693079161374|      null|     null|  null|129.76726201140994|    null|99.23517921058361|  null|             null|  null|   null| 3.291321616327586E9|726.7762634630741|                 NaN| 31.50507848842214|1.5075439608226302E9|                null|109091.9499991047|\n",
      "|    min|               !!!| Cancelled| Adelaida|     F|                 0|   Adams|          0.78322|  free|       Albany, OR|   GET|  About|       1521380675000|                1|\u001c",
      "ÃÂg ÃÂtti Gr...|               200|       1538352117000|\"Mozilla/5.0 (Mac...|                 |\n",
      "|    max| ÃÂlafur Arnalds|Logged Out|   Zyonna|     M|              1321|  Wright|       3024.66567|  paid|Winston-Salem, NC|   PUT|Upgrade|       1543247354000|             2474|ÃÂau hafa slopp...|               404|       1543799476000|Mozilla/5.0 (comp...|               99|\n",
      "+-------+------------------+----------+---------+------+------------------+--------+-----------------+------+-----------------+------+-------+--------------------+-----------------+--------------------+------------------+--------------------+--------------------+-----------------+\n",
      "\n"
     ]
    }
   ],
   "source": [
    "df.describe().show()"
   ]
  },
  {
   "cell_type": "markdown",
   "metadata": {},
   "source": [
    "Following columns have no missing values: \n",
    "\n",
    "* auth \n",
    "* itemInSession\n",
    "* level\n",
    "* method\n",
    "* page\n",
    "* sessionId\n",
    "* status\n",
    "* ts\n",
    "* userId.\n",
    "\n",
    "Columns: artist, firstName, gender, lastName, length, location, registration, song, userAgent have less then the number of rows in the dataset."
   ]
  },
  {
   "cell_type": "code",
   "execution_count": 62,
   "metadata": {},
   "outputs": [
    {
     "name": "stdout",
     "output_type": "stream",
     "text": [
      "+-------+-----------------+\n",
      "|summary|        sessionID|\n",
      "+-------+-----------------+\n",
      "|  count|           286500|\n",
      "|   mean|1041.526554973822|\n",
      "| stddev|726.7762634630741|\n",
      "|    min|                1|\n",
      "|    max|             2474|\n",
      "+-------+-----------------+\n",
      "\n"
     ]
    }
   ],
   "source": [
    "df.describe(\"sessionID\").show()"
   ]
  },
  {
   "cell_type": "code",
   "execution_count": 71,
   "metadata": {},
   "outputs": [
    {
     "data": {
      "text/plain": [
       "2354"
      ]
     },
     "execution_count": 71,
     "metadata": {},
     "output_type": "execute_result"
    }
   ],
   "source": [
    "# how many sessionIDs \n",
    "df.select(\"sessionID\").dropDuplicates().count()"
   ]
  },
  {
   "cell_type": "markdown",
   "metadata": {},
   "source": [
    "There are 278154 sessionID, with values between 1 and 2474."
   ]
  },
  {
   "cell_type": "code",
   "execution_count": 63,
   "metadata": {},
   "outputs": [
    {
     "name": "stdout",
     "output_type": "stream",
     "text": [
      "+-------+------------------+\n",
      "|summary|            artist|\n",
      "+-------+------------------+\n",
      "|  count|            228108|\n",
      "|   mean| 551.0852017937219|\n",
      "| stddev|1217.7693079161374|\n",
      "|    min|               !!!|\n",
      "|    max| ÃÂlafur Arnalds|\n",
      "+-------+------------------+\n",
      "\n"
     ]
    }
   ],
   "source": [
    "df.describe(\"artist\").show()"
   ]
  },
  {
   "cell_type": "code",
   "execution_count": 26,
   "metadata": {},
   "outputs": [
    {
     "data": {
      "text/plain": [
       "154578"
      ]
     },
     "execution_count": 26,
     "metadata": {},
     "output_type": "execute_result"
    }
   ],
   "source": [
    "# how many females total \n",
    "df.filter(df.gender == 'F') \\\n",
    "    .select('userId', 'gender') \\\n",
    "    .count()"
   ]
  },
  {
   "cell_type": "code",
   "execution_count": 27,
   "metadata": {},
   "outputs": [
    {
     "data": {
      "text/plain": [
       "123576"
      ]
     },
     "execution_count": 27,
     "metadata": {},
     "output_type": "execute_result"
    }
   ],
   "source": [
    "# how many males total \n",
    "df.filter(df.gender == 'M') \\\n",
    "    .select('userId', 'gender') \\\n",
    "    .count()"
   ]
  },
  {
   "cell_type": "code",
   "execution_count": 28,
   "metadata": {},
   "outputs": [
    {
     "data": {
      "text/plain": [
       "104"
      ]
     },
     "execution_count": 28,
     "metadata": {},
     "output_type": "execute_result"
    }
   ],
   "source": [
    "# How many unique users are female\n",
    "df.filter(df.gender == 'F') \\\n",
    "    .select('userId', 'gender') \\\n",
    "    .dropDuplicates() \\\n",
    "    .count()"
   ]
  },
  {
   "cell_type": "code",
   "execution_count": 29,
   "metadata": {},
   "outputs": [
    {
     "data": {
      "text/plain": [
       "121"
      ]
     },
     "execution_count": 29,
     "metadata": {},
     "output_type": "execute_result"
    }
   ],
   "source": [
    "# How many unique users are male\n",
    "df.filter(df.gender == 'M') \\\n",
    "    .select('userId', 'gender') \\\n",
    "    .dropDuplicates() \\\n",
    "    .count()"
   ]
  },
  {
   "cell_type": "code",
   "execution_count": 30,
   "metadata": {},
   "outputs": [
    {
     "name": "stdout",
     "output_type": "stream",
     "text": [
      "+----------+------+\n",
      "|      auth| count|\n",
      "+----------+------+\n",
      "| Logged In|278102|\n",
      "|Logged Out|  8249|\n",
      "|     Guest|    97|\n",
      "| Cancelled|    52|\n",
      "+----------+------+\n",
      "\n"
     ]
    }
   ],
   "source": [
    "# Auth column\n",
    "df.groupby(\"auth\").count().orderBy(desc(\"count\")).show()"
   ]
  },
  {
   "cell_type": "markdown",
   "metadata": {},
   "source": [
    "\"Guest\" and \"Logged Out\" events are not relevant for our exploration."
   ]
  },
  {
   "cell_type": "code",
   "execution_count": 31,
   "metadata": {},
   "outputs": [
    {
     "name": "stdout",
     "output_type": "stream",
     "text": [
      "+-----+------+\n",
      "|level| count|\n",
      "+-----+------+\n",
      "| free| 58338|\n",
      "| paid|228162|\n",
      "+-----+------+\n",
      "\n"
     ]
    }
   ],
   "source": [
    "# Premium or free account\n",
    "df.groupBy(\"level\").count().orderBy(\"level\").show()"
   ]
  },
  {
   "cell_type": "code",
   "execution_count": 32,
   "metadata": {},
   "outputs": [
    {
     "name": "stdout",
     "output_type": "stream",
     "text": [
      "+-------------+-----+\n",
      "|itemInSession|count|\n",
      "+-------------+-----+\n",
      "|            0| 3278|\n",
      "|            1| 3125|\n",
      "|            2| 3067|\n",
      "|            3| 3013|\n",
      "|            4| 2977|\n",
      "|            5| 2925|\n",
      "|            6| 2886|\n",
      "|            7| 2857|\n",
      "|            8| 2816|\n",
      "|            9| 2771|\n",
      "|           10| 2717|\n",
      "|           11| 2672|\n",
      "|           12| 2636|\n",
      "|           13| 2600|\n",
      "|           14| 2561|\n",
      "|           15| 2523|\n",
      "|           16| 2497|\n",
      "|           17| 2461|\n",
      "|           18| 2417|\n",
      "|           19| 2381|\n",
      "+-------------+-----+\n",
      "only showing top 20 rows\n",
      "\n"
     ]
    }
   ],
   "source": [
    "# itemInSession\n",
    "df.groupby(\"itemInSession\").count().orderBy(desc(\"count\")).show()"
   ]
  },
  {
   "cell_type": "code",
   "execution_count": 33,
   "metadata": {},
   "outputs": [
    {
     "name": "stdout",
     "output_type": "stream",
     "text": [
      "+---------+-----+\n",
      "|   length|count|\n",
      "+---------+-----+\n",
      "|     null|58392|\n",
      "| 239.3073| 1205|\n",
      "|348.57751| 1037|\n",
      "|201.79546|  908|\n",
      "|655.77751|  730|\n",
      "|277.15873|  645|\n",
      "|219.66322|  585|\n",
      "|224.67873|  522|\n",
      "|220.89098|  511|\n",
      "|236.09424|  450|\n",
      "|252.21179|  438|\n",
      "|233.69098|  436|\n",
      "|122.04363|  412|\n",
      "|195.94404|  408|\n",
      "|181.21098|  384|\n",
      "|225.17506|  379|\n",
      "|231.81016|  378|\n",
      "|216.76363|  362|\n",
      "|302.05342|  345|\n",
      "|233.89995|  314|\n",
      "+---------+-----+\n",
      "only showing top 20 rows\n",
      "\n"
     ]
    }
   ],
   "source": [
    "df.select(\"length\").groupby(\"length\").count().orderBy(desc(\"count\")).show()"
   ]
  },
  {
   "cell_type": "code",
   "execution_count": 34,
   "metadata": {},
   "outputs": [
    {
     "name": "stdout",
     "output_type": "stream",
     "text": [
      "+-------+-----------------+\n",
      "|summary|           length|\n",
      "+-------+-----------------+\n",
      "|  count|           228108|\n",
      "|   mean|249.1171819778458|\n",
      "| stddev|99.23517921058361|\n",
      "|    min|          0.78322|\n",
      "|    max|       3024.66567|\n",
      "+-------+-----------------+\n",
      "\n"
     ]
    }
   ],
   "source": [
    "df.describe(\"length\").show()"
   ]
  },
  {
   "cell_type": "code",
   "execution_count": 72,
   "metadata": {},
   "outputs": [
    {
     "name": "stdout",
     "output_type": "stream",
     "text": [
      "+-------+-----------------+\n",
      "|summary|           userID|\n",
      "+-------+-----------------+\n",
      "|  count|           286500|\n",
      "|   mean|59682.02278593872|\n",
      "| stddev|109091.9499991047|\n",
      "|    min|                 |\n",
      "|    max|               99|\n",
      "+-------+-----------------+\n",
      "\n"
     ]
    }
   ],
   "source": [
    "df.describe(\"userID\").show()"
   ]
  },
  {
   "cell_type": "markdown",
   "metadata": {},
   "source": [
    "# Exploratory Data Analysis\n",
    "When you're working with the full dataset, perform EDA by loading a small subset of the data and doing basic manipulations within Spark. In this workspace, you are already provided a small subset of data you can explore.\n",
    "\n",
    "### Define Churn\n",
    "\n",
    "Once you've done some preliminary analysis, create a column `Churn` to use as the label for your model. I suggest using the `Cancellation Confirmation` events to define your churn, which happen for both paid and free users. As a bonus task, you can also look into the `Downgrade` events.\n",
    "\n",
    "### Explore Data\n",
    "Once you've defined churn, perform some exploratory data analysis to observe the behavior for users who stayed vs users who churned. You can start by exploring aggregates on these two groups of users, observing how much of a specific action they experienced per a certain time unit or number of songs played."
   ]
  },
  {
   "cell_type": "markdown",
   "metadata": {},
   "source": [
    "Since time spent using the service is theoretically a good indicator of churn, I will next analyze the timestamp."
   ]
  },
  {
   "cell_type": "code",
   "execution_count": 64,
   "metadata": {},
   "outputs": [],
   "source": [
    "hour = udf(lambda x: datetime.datetime.fromtimestamp(x / 1000.0).hour)"
   ]
  },
  {
   "cell_type": "code",
   "execution_count": 65,
   "metadata": {},
   "outputs": [],
   "source": [
    "df = df.withColumn('hour', hour(df.ts))"
   ]
  },
  {
   "cell_type": "code",
   "execution_count": 66,
   "metadata": {},
   "outputs": [
    {
     "data": {
      "text/plain": [
       "Row(artist='Martha Tilston', auth='Logged In', firstName='Colin', gender='M', itemInSession=50, lastName='Freeman', length=277.89016, level='paid', location='Bakersfield, CA', method='PUT', page='NextSong', registration=1538173362000, sessionId=29, song='Rockpools', status=200, ts=1538352117000, userAgent='Mozilla/5.0 (Windows NT 6.1; WOW64; rv:31.0) Gecko/20100101 Firefox/31.0', userId='30', hour='0')"
      ]
     },
     "execution_count": 66,
     "metadata": {},
     "output_type": "execute_result"
    }
   ],
   "source": [
    "df.head()"
   ]
  },
  {
   "cell_type": "markdown",
   "metadata": {},
   "source": [
    "# Feature Engineering\n",
    "Once you've familiarized yourself with the data, build out the features you find promising to train your model on. To work with the full dataset, you can follow the following steps.\n",
    "- Write a script to extract the necessary features from the smaller subset of data\n",
    "- Ensure that your script is scalable, using the best practices discussed in Lesson 3\n",
    "- Try your script on the full data set, debugging your script if necessary\n",
    "\n",
    "If you are working in the classroom workspace, you can just extract features based on the small subset of data contained here. Be sure to transfer over this work to the larger dataset when you work on your Spark cluster."
   ]
  },
  {
   "cell_type": "markdown",
   "metadata": {},
   "source": [
    "Churn is an event when a user downgrades from premium to free, or cancels their servise all together. Since there is an option to downgrade, submit downgrade and cacenllation confirmation, let's flag all 3 events separatly and investigate. "
   ]
  },
  {
   "cell_type": "code",
   "execution_count": 41,
   "metadata": {},
   "outputs": [],
   "source": [
    "# sort records in reverse time order, add values in downgrade column \n",
    "windowval = Window.partitionBy(\"userID\").orderBy(desc(\"ts\")).rangeBetween(Window.unboundedPreceding, 0)"
   ]
  },
  {
   "cell_type": "code",
   "execution_count": 49,
   "metadata": {},
   "outputs": [],
   "source": [
    "## add phase column, which divides events of a user based on downgrading events \n",
    "## such as that a user has a different value in the phase columns before and after downgrading\n",
    "#df = df.withColumn(\"phase\", Fsum(\"downgrade\").over(windowval))"
   ]
  },
  {
   "cell_type": "markdown",
   "metadata": {},
   "source": [
    "Phase column will play a role in further exploration of before and after patterns of downgrade event."
   ]
  },
  {
   "cell_type": "code",
   "execution_count": 70,
   "metadata": {},
   "outputs": [
    {
     "data": {
      "text/plain": [
       "226"
      ]
     },
     "execution_count": 70,
     "metadata": {},
     "output_type": "execute_result"
    }
   ],
   "source": []
  },
  {
   "cell_type": "code",
   "execution_count": 67,
   "metadata": {},
   "outputs": [
    {
     "name": "stdout",
     "output_type": "stream",
     "text": [
      "+--------------------+-----+\n",
      "|                page|count|\n",
      "+--------------------+-----+\n",
      "|    Submit Downgrade|   63|\n",
      "|           Downgrade| 2055|\n",
      "|Cancellation Conf...|   52|\n",
      "+--------------------+-----+\n",
      "\n"
     ]
    }
   ],
   "source": [
    "# how many users came to potential churn events?\n",
    "df.filter(\"page in ('Cancellation Confirmation','Downgrade', 'Submit Downgrade')\").groupby('page').count().show()"
   ]
  },
  {
   "cell_type": "markdown",
   "metadata": {},
   "source": [
    "There are 2055 records to downgrade page, and 63 submitted a downgrade and 52 sumbitted a cancellation. Just coming to the downgrade page should not qualify as a churn event, because users could be just checking out pages or clicking by accident. Thus, I will define churn as users who sumbit a downgrade and those who submit a cancelation. "
   ]
  },
  {
   "cell_type": "code",
   "execution_count": 6,
   "metadata": {},
   "outputs": [],
   "source": [
    "def flag_churn_event(x):\n",
    "    \"\"\"\n",
    "    Churn defined as either \"Cancellation Confirmation\" and/or \"Submit Downgrade\" event\n",
    "    \"\"\"\n",
    "    if x == \"Cancellation Confirmation\":\n",
    "        return 1\n",
    "    elif x == \"Submit Downgrade\":\n",
    "        return 1\n",
    "    else:\n",
    "        return 0\n",
    "    \n",
    "churn_event = udf(lambda x : flag_churn_event(x), IntegerType())\n",
    "    \n",
    "df = df.withColumn(\"churn\", churn_event(\"page\"))"
   ]
  },
  {
   "cell_type": "code",
   "execution_count": 7,
   "metadata": {},
   "outputs": [
    {
     "name": "stdout",
     "output_type": "stream",
     "text": [
      "+-----+------+\n",
      "|churn| count|\n",
      "+-----+------+\n",
      "|    1|   115|\n",
      "|    0|286385|\n",
      "+-----+------+\n",
      "\n"
     ]
    }
   ],
   "source": [
    "df.groupBy('churn').count().show()"
   ]
  },
  {
   "cell_type": "code",
   "execution_count": 8,
   "metadata": {},
   "outputs": [
    {
     "data": {
      "text/plain": [
       "<matplotlib.axes._subplots.AxesSubplot at 0x7f7d32083e48>"
      ]
     },
     "execution_count": 8,
     "metadata": {},
     "output_type": "execute_result"
    },
    {
     "data": {
      "image/png": "[encoded data removed]",
      "text/plain": [
       "<matplotlib.figure.Figure at 0x7f7d321194e0>"
      ]
     },
     "metadata": {
      "needs_background": "light"
     },
     "output_type": "display_data"
    }
   ],
   "source": [
    "# % churn \n",
    "# Ref used: https://stackoverflow.com/questions/43968946/calculating-percentages-on-a-pyspark-dataframe\n",
    "churn_rate = df.select(['churn','userId']).distinct().groupby('churn').count().withColumn('percentage', col('count')/df.select(['userId']).distinct().count()).toPandas()\n",
    "sns.barplot(x='churn', y='percentage', hue='churn', data=churn_rate)\n",
    "\n"
   ]
  },
  {
   "cell_type": "code",
   "execution_count": 47,
   "metadata": {},
   "outputs": [],
   "source": [
    "# how many free users churned\n",
    "free_churn = df.filter('level == \"free\" and churn == 1').select('userId').distinct().count()\n",
    "free_stayed = df.filter('level== \"free\" and churn == 0').select('userId').distinct().count()\n",
    "# how many paid users churned\n",
    "paid_churn = df.filter('level == \"paid\" and churn == 1').select('userId').distinct().count()\n",
    "paid_stayed = df.filter('level == \"paid\" and churn == 0').select('userId').distinct().count()\n",
    "# how many female users churned\n",
    "female_churn = df.filter('gender == \"F\" and churn == 1').select('userId').distinct().count()\n",
    "female_stayed = df.filter('gender == \"F\" and churn == 0').select('userId').distinct().count()\n",
    "# how many male users churned\n",
    "male_churn = df.filter('gender == \"M\" and churn == 1').select('userId').distinct().count()\n",
    "male_stayed = df.filter('gender ==\"M\" and churn == 0').select('userId').distinct().count()"
   ]
  },
  {
   "cell_type": "code",
   "execution_count": 48,
   "metadata": {},
   "outputs": [
    {
     "name": "stdout",
     "output_type": "stream",
     "text": [
      "Number of unique users: 226\n",
      "Number of free users who churned: 21\n",
      "Number of free users who stayed: 196\n",
      "Number of paid users who churned: 76\n",
      "Number of paid users who stayed: 166\n",
      "Number of female users who churned: 43\n",
      "Number of female users who stayed: 104\n",
      "Number of male users who churned: 49\n",
      "Number of male users who stayed: 121\n"
     ]
    }
   ],
   "source": [
    "print('Number of unique users: {}'.format(df.select('userId').distinct().count()))\n",
    "print('Number of free users who churned: {}'.format(free_churn))\n",
    "print('Number of free users who stayed: {}'.format(free_stayed))\n",
    "print('Number of paid users who churned: {}'.format(paid_churn))\n",
    "print('Number of paid users who stayed: {}'.format(paid_stayed))\n",
    "print('Number of female users who churned: {}'.format(female_churn))\n",
    "print('Number of female users who stayed: {}'.format(female_stayed))\n",
    "print('Number of male users who churned: {}'.format(male_churn))\n",
    "print('Number of male users who stayed: {}'.format(male_stayed))"
   ]
  },
  {
   "cell_type": "code",
   "execution_count": 50,
   "metadata": {},
   "outputs": [
    {
     "name": "stdout",
     "output_type": "stream",
     "text": [
      "+--------------------+\n",
      "|                page|\n",
      "+--------------------+\n",
      "|              Cancel|\n",
      "|    Submit Downgrade|\n",
      "|         Thumbs Down|\n",
      "|                Home|\n",
      "|           Downgrade|\n",
      "|         Roll Advert|\n",
      "|              Logout|\n",
      "|       Save Settings|\n",
      "|Cancellation Conf...|\n",
      "|               About|\n",
      "| Submit Registration|\n",
      "|            Settings|\n",
      "|               Login|\n",
      "|            Register|\n",
      "|     Add to Playlist|\n",
      "|          Add Friend|\n",
      "|            NextSong|\n",
      "|           Thumbs Up|\n",
      "|                Help|\n",
      "|             Upgrade|\n",
      "+--------------------+\n",
      "only showing top 20 rows\n",
      "\n"
     ]
    }
   ],
   "source": [
    "# get a list of possible pages that could be visited\n",
    "df.select('page').dropDuplicates().show()"
   ]
  },
  {
   "cell_type": "code",
   "execution_count": 51,
   "metadata": {},
   "outputs": [
    {
     "data": {
      "image/png": "[encoded data removed]",
      "text/plain": [
       "<matplotlib.figure.Figure at 0x7fecb347fef0>"
      ]
     },
     "metadata": {
      "needs_background": "light"
     },
     "output_type": "display_data"
    }
   ],
   "source": [
    "# how often are pages visited \n",
    "page_events = df.groupby('page').count().orderBy(desc('count')).toPandas()\n",
    "sns.barplot(x='count', y='page', data=page_events)\n",
    "plt.title('Frequency of page visits')\n",
    "plt.show()"
   ]
  },
  {
   "cell_type": "markdown",
   "metadata": {},
   "source": [
    "'NextSong' is the most visited page, which makes sense since most of the users are active and it's a music streaming service."
   ]
  },
  {
   "cell_type": "code",
   "execution_count": 53,
   "metadata": {},
   "outputs": [
    {
     "name": "stdout",
     "output_type": "stream",
     "text": [
      "+--------------------+-----+\n",
      "|                song|count|\n",
      "+--------------------+-----+\n",
      "|                null|58392|\n",
      "|      You're The One| 1153|\n",
      "|                Undo| 1026|\n",
      "|             Revelry|  854|\n",
      "|       Sehr kosmisch|  728|\n",
      "|Horn Concerto No....|  641|\n",
      "|Dog Days Are Over...|  574|\n",
      "|             Secrets|  466|\n",
      "|        Use Somebody|  459|\n",
      "|              Canada|  435|\n",
      "|             Invalid|  424|\n",
      "|    Ain't Misbehavin|  409|\n",
      "|       ReprÃÂ©sente|  393|\n",
      "|SinceritÃÂ© Et J...|  384|\n",
      "|Catch You Baby (S...|  373|\n",
      "|              Yellow|  343|\n",
      "|    Somebody To Love|  343|\n",
      "|    Hey_ Soul Sister|  334|\n",
      "|            The Gift|  327|\n",
      "|           Fireflies|  312|\n",
      "+--------------------+-----+\n",
      "only showing top 20 rows\n",
      "\n"
     ]
    }
   ],
   "source": [
    "df.select(\"song\").groupby(\"song\").count().orderBy(desc(\"count\")).show()"
   ]
  },
  {
   "cell_type": "code",
   "execution_count": 55,
   "metadata": {},
   "outputs": [
    {
     "name": "stdout",
     "output_type": "stream",
     "text": [
      "+------+------+\n",
      "|status| count|\n",
      "+------+------+\n",
      "|   200|259812|\n",
      "|   307| 26430|\n",
      "|   404|   258|\n",
      "+------+------+\n",
      "\n"
     ]
    }
   ],
   "source": [
    "df.select(\"status\").groupby(\"status\").count().orderBy(desc(\"count\")).show()"
   ]
  },
  {
   "cell_type": "markdown",
   "metadata": {},
   "source": [
    "Song has many missing and strange values and can be droped out of the analysis. Status seems to deal with error messages, which can be a good indicator for churn. "
   ]
  },
  {
   "cell_type": "markdown",
   "metadata": {},
   "source": [
    "To churn or not to churn - it's a classification question. "
   ]
  },
  {
   "cell_type": "code",
   "execution_count": 56,
   "metadata": {},
   "outputs": [
    {
     "data": {
      "text/plain": [
       "[('artist', 'string'),\n",
       " ('auth', 'string'),\n",
       " ('firstName', 'string'),\n",
       " ('gender', 'string'),\n",
       " ('itemInSession', 'bigint'),\n",
       " ('lastName', 'string'),\n",
       " ('length', 'double'),\n",
       " ('level', 'string'),\n",
       " ('location', 'string'),\n",
       " ('method', 'string'),\n",
       " ('page', 'string'),\n",
       " ('registration', 'bigint'),\n",
       " ('sessionId', 'bigint'),\n",
       " ('song', 'string'),\n",
       " ('status', 'bigint'),\n",
       " ('ts', 'bigint'),\n",
       " ('userAgent', 'string'),\n",
       " ('userId', 'string'),\n",
       " ('hour', 'string'),\n",
       " ('churn', 'int')]"
      ]
     },
     "execution_count": 56,
     "metadata": {},
     "output_type": "execute_result"
    }
   ],
   "source": [
    "df.dtypes"
   ]
  },
  {
   "cell_type": "markdown",
   "metadata": {},
   "source": [
    "Columns for further analysis: \n",
    "* auth: string (nullable = true) \n",
    "* gender: string (nullable = true)\n",
    "* level: double (nullable = true)\n",
    "* location: string (nullable = true) \n",
    "* method: string (nullable = true) \n",
    "* status: long (nullable = true) \n",
    "* userAgent: string (nullable = true) \n",
    "* hour: string (nullable = true) \n",
    "* churn: integer (nullable = true) "
   ]
  },
  {
   "cell_type": "code",
   "execution_count": 37,
   "metadata": {},
   "outputs": [],
   "source": [
    "all_features = df.select([\"auth\", \"gender\", \"level\", \"location\", \"userAgent\", \n",
    "                         \"method\", \"status\", 'hour', 'churn'])"
   ]
  },
  {
   "cell_type": "code",
   "execution_count": 15,
   "metadata": {},
   "outputs": [
    {
     "name": "stdout",
     "output_type": "stream",
     "text": [
      "root\n",
      " |-- auth: string (nullable = true)\n",
      " |-- gender: string (nullable = true)\n",
      " |-- location: string (nullable = true)\n",
      " |-- length: double (nullable = true)\n",
      " |-- userAgent: string (nullable = true)\n",
      " |-- method: string (nullable = true)\n",
      " |-- status: long (nullable = true)\n",
      " |-- hour: string (nullable = true)\n",
      " |-- churn: integer (nullable = true)\n",
      "\n"
     ]
    }
   ],
   "source": [
    "all_features.printSchema()"
   ]
  },
  {
   "cell_type": "code",
   "execution_count": 38,
   "metadata": {},
   "outputs": [],
   "source": [
    "# change churn to string\n",
    "all_features = all_features.withColumn(\"churn\", all_features[\"churn\"].cast(StringType()))"
   ]
  },
  {
   "cell_type": "code",
   "execution_count": 17,
   "metadata": {},
   "outputs": [
    {
     "name": "stdout",
     "output_type": "stream",
     "text": [
      "root\n",
      " |-- auth: string (nullable = true)\n",
      " |-- gender: string (nullable = true)\n",
      " |-- location: string (nullable = true)\n",
      " |-- length: double (nullable = true)\n",
      " |-- userAgent: string (nullable = true)\n",
      " |-- method: string (nullable = true)\n",
      " |-- status: long (nullable = true)\n",
      " |-- hour: string (nullable = true)\n",
      " |-- churn: string (nullable = true)\n",
      "\n"
     ]
    }
   ],
   "source": [
    "all_features.printSchema()"
   ]
  },
  {
   "cell_type": "code",
   "execution_count": 39,
   "metadata": {},
   "outputs": [],
   "source": [
    "all_features = all_features.where('auth != \"Guest\" and auth != \"Logged Out\"')"
   ]
  },
  {
   "cell_type": "code",
   "execution_count": 23,
   "metadata": {},
   "outputs": [
    {
     "name": "stdout",
     "output_type": "stream",
     "text": [
      "+----+------+--------+---------+------+------+----+-----+\n",
      "|auth|gender|location|userAgent|method|status|hour|churn|\n",
      "+----+------+--------+---------+------+------+----+-----+\n",
      "|   0|     0|       0|        0|     0|     0|   0|    0|\n",
      "+----+------+--------+---------+------+------+----+-----+\n",
      "\n"
     ]
    }
   ],
   "source": [
    "# check for missing values\n",
    "all_features.select([count(when(isnan(c) | col(c).isNull(), c)).alias(c) for c in all_features.columns]).show()"
   ]
  },
  {
   "cell_type": "code",
   "execution_count": 24,
   "metadata": {},
   "outputs": [
    {
     "name": "stdout",
     "output_type": "stream",
     "text": [
      "+----+------+--------+---------+------+------+----+-----+\n",
      "|auth|gender|location|userAgent|method|status|hour|churn|\n",
      "+----+------+--------+---------+------+------+----+-----+\n",
      "|   0|     0|       0|        0|     0|     0|   0|    0|\n",
      "+----+------+--------+---------+------+------+----+-----+\n",
      "\n"
     ]
    }
   ],
   "source": [
    "# check for empty strings in dataframe\n",
    "all_features.select([count(when(col(c) == '', c)).alias(c) for c in all_features.columns]).show()"
   ]
  },
  {
   "cell_type": "code",
   "execution_count": 40,
   "metadata": {},
   "outputs": [],
   "source": [
    "out_path = \"all_features.csv\"\n",
    "all_features.write.mode('overwrite').save(out_path, format=\"csv\", header=True) # Save all_features to prevent out of memory issues during further calculations"
   ]
  },
  {
   "cell_type": "code",
   "execution_count": 73,
   "metadata": {},
   "outputs": [],
   "source": [
    "# If needed\n",
    "out_path = \"all_features.csv\"\n",
    "all_features = spark.read.csv(out_path, header=True, inferSchema=True)"
   ]
  },
  {
   "cell_type": "code",
   "execution_count": 23,
   "metadata": {},
   "outputs": [
    {
     "name": "stdout",
     "output_type": "stream",
     "text": [
      "root\n",
      " |-- auth: string (nullable = true)\n",
      " |-- gender: string (nullable = true)\n",
      " |-- location: string (nullable = true)\n",
      " |-- length: double (nullable = true)\n",
      " |-- userAgent: string (nullable = true)\n",
      " |-- page: string (nullable = true)\n",
      " |-- level: string (nullable = true)\n",
      " |-- method: string (nullable = true)\n",
      " |-- status: integer (nullable = true)\n",
      " |-- hour: integer (nullable = true)\n",
      " |-- churn: integer (nullable = true)\n",
      "\n"
     ]
    }
   ],
   "source": [
    "all_features.printSchema()"
   ]
  },
  {
   "cell_type": "code",
   "execution_count": 42,
   "metadata": {},
   "outputs": [],
   "source": [
    "all_features = all_features.withColumn(\"churn\", all_features[\"churn\"].cast(StringType()))"
   ]
  },
  {
   "cell_type": "code",
   "execution_count": 28,
   "metadata": {},
   "outputs": [
    {
     "name": "stdout",
     "output_type": "stream",
     "text": [
      "root\n",
      " |-- auth: string (nullable = true)\n",
      " |-- gender: string (nullable = true)\n",
      " |-- location: string (nullable = true)\n",
      " |-- userAgent: string (nullable = true)\n",
      " |-- method: string (nullable = true)\n",
      " |-- status: integer (nullable = true)\n",
      " |-- hour: integer (nullable = true)\n",
      " |-- churn: string (nullable = true)\n",
      "\n"
     ]
    }
   ],
   "source": [
    "all_features.printSchema()"
   ]
  },
  {
   "cell_type": "code",
   "execution_count": 44,
   "metadata": {},
   "outputs": [
    {
     "name": "stdout",
     "output_type": "stream",
     "text": [
      "+----+------+-----+--------------------+--------------------+------+------+----+-----+\n",
      "|auth|gender|level|            location|           userAgent|method|status|hour|churn|\n",
      "+----+------+-----+--------------------+--------------------+------+------+----+-----+\n",
      "|   1|     0|    1|Kingsport-Bristol...|\"Mozilla/5.0 (Mac...|   PUT|   307|  11|    1|\n",
      "|   1|     0|    1|      Pittsburgh, PA|\"Mozilla/5.0 (Mac...|   PUT|   307|  21|    1|\n",
      "|   1|     1|    1|           Price, UT|\"Mozilla/5.0 (Mac...|   PUT|   307|  14|    1|\n",
      "|   0|     0|    1|  Kansas City, MO-KS|\"Mozilla/5.0 (Mac...|   GET|   200|  20|    1|\n",
      "|   1|     0|    1|     Bakersfield, CA|Mozilla/5.0 (Wind...|   PUT|   307|  10|    1|\n",
      "|   1|     1|    1|Miami-Fort Lauder...|\"Mozilla/5.0 (Win...|   PUT|   307|  11|    1|\n",
      "|   0|     0|    1|Phoenix-Mesa-Scot...|\"Mozilla/5.0 (iPh...|   GET|   200|  21|    1|\n",
      "|   1|     1|    1|Los Angeles-Long ...|Mozilla/5.0 (Wind...|   PUT|   307|   4|    1|\n",
      "|   1|     1|    1|Providence-Warwic...|Mozilla/5.0 (Wind...|   PUT|   307|   6|    1|\n",
      "|   1|     0|    1|San Francisco-Oak...|\"Mozilla/5.0 (iPh...|   PUT|   307|   7|    1|\n",
      "|   1|     0|    1|Philadelphia-Camd...|\"Mozilla/5.0 (Mac...|   PUT|   307|  13|    1|\n",
      "|   0|     0|    0|  Corpus Christi, TX|\"Mozilla/5.0 (Mac...|   GET|   200|   4|    1|\n",
      "|   1|     0|    1|Los Angeles-Long ...|\"Mozilla/5.0 (Mac...|   PUT|   307|   9|    1|\n",
      "|   1|     1|    1|Louisville/Jeffer...|\"Mozilla/5.0 (Win...|   PUT|   307|   9|    1|\n",
      "|   0|     0|    1|Indianapolis-Carm...|Mozilla/5.0 (Wind...|   GET|   200|  20|    1|\n",
      "|   0|     1|    1|Philadelphia-Camd...|Mozilla/5.0 (Wind...|   GET|   200|  21|    1|\n",
      "|   1|     1|    1|Washington-Arling...|\"Mozilla/5.0 (Mac...|   PUT|   307|  21|    1|\n",
      "|   0|     1|    0|Virginia Beach-No...|\"Mozilla/5.0 (Mac...|   GET|   200|   7|    1|\n",
      "|   1|     1|    1|Spokane-Spokane V...|Mozilla/5.0 (Wind...|   PUT|   307|  12|    1|\n",
      "|   1|     1|    1|     Gainesville, FL|\"Mozilla/5.0 (Win...|   PUT|   307|  12|    1|\n",
      "+----+------+-----+--------------------+--------------------+------+------+----+-----+\n",
      "only showing top 20 rows\n",
      "\n"
     ]
    }
   ],
   "source": [
    "all_features.filter(all_features.churn == '1').show()"
   ]
  },
  {
   "cell_type": "code",
   "execution_count": 43,
   "metadata": {},
   "outputs": [],
   "source": [
    "# level -> free: 0, paid: 1\n",
    "all_features = all_features.replace([\"free\", \"paid\"], [\"0\", \"1\"], \"level\")\n",
    "\n",
    "# gender -> male: 0, female: 1\n",
    "all_features = all_features.replace([\"M\", \"F\"], [\"0\", \"1\"], \"gender\")\n",
    "\n",
    "# auth -> logged in: 1, cancelled: 0\n",
    "all_features = all_features.replace([\"Cancelled\", \"Logged In\"], [\"0\", \"1\"], \"auth\")"
   ]
  },
  {
   "cell_type": "code",
   "execution_count": 34,
   "metadata": {},
   "outputs": [
    {
     "data": {
      "text/plain": [
       "[Row(auth='1', gender='0', location='Bakersfield, CA', userAgent='Mozilla/5.0 (Windows NT 6.1; WOW64; rv:31.0) Gecko/20100101 Firefox/31.0', method='PUT', status=200, hour=0, churn='0'),\n",
       " Row(auth='1', gender='0', location='Boston-Cambridge-Newton, MA-NH', userAgent='\"Mozilla/5.0 (Windows NT 6.1; WOW64) AppleWebKit/537.36 (KHTML, like Gecko) Chrome/37.0.2062.103 Safari/537.36\"', method='PUT', status=200, hour=0, churn='0'),\n",
       " Row(auth='1', gender='0', location='Bakersfield, CA', userAgent='Mozilla/5.0 (Windows NT 6.1; WOW64; rv:31.0) Gecko/20100101 Firefox/31.0', method='PUT', status=200, hour=0, churn='0')]"
      ]
     },
     "execution_count": 34,
     "metadata": {},
     "output_type": "execute_result"
    }
   ],
   "source": [
    "all_features.head(3)"
   ]
  },
  {
   "cell_type": "code",
   "execution_count": 74,
   "metadata": {},
   "outputs": [
    {
     "name": "stdout",
     "output_type": "stream",
     "text": [
      "root\n",
      " |-- auth: string (nullable = true)\n",
      " |-- gender: string (nullable = true)\n",
      " |-- location: string (nullable = true)\n",
      " |-- length: double (nullable = true)\n",
      " |-- userAgent: string (nullable = true)\n",
      " |-- page: string (nullable = true)\n",
      " |-- level: string (nullable = true)\n",
      " |-- method: string (nullable = true)\n",
      " |-- status: integer (nullable = true)\n",
      " |-- hour: integer (nullable = true)\n",
      " |-- churn: string (nullable = true)\n",
      "\n"
     ]
    }
   ],
   "source": [
    "all_features.printSchema()"
   ]
  },
  {
   "cell_type": "code",
   "execution_count": 75,
   "metadata": {},
   "outputs": [],
   "source": [
    "#List of categorical columns \n",
    "cat_features = ['location', 'userAgent', 'method', 'status', 'hour', 'auth', 'gender', 'level']\n",
    "\n",
    "stages = []\n",
    "\n",
    "# Change the type of numerical features to integer\n",
    "for col in cat_features:\n",
    "    stringIndexer = StringIndexer(inputCol = col, outputCol = col + '_idx')\n",
    "    encoder = OneHotEncoderEstimator(inputCols=[stringIndexer.getOutputCol()], outputCols=[col + \"_class_vec\"])\n",
    "    stages += [stringIndexer, encoder]\n",
    "\n",
    "# Convert target label into label indices  \n",
    "label_idx = StringIndexer(inputCol = \"churn\", outputCol = \"label\")\n",
    "stages += [label_idx]\n",
    "\n",
    "# Transform feature columns into a vector\n",
    "assemblerInputs = [c + \"_class_vec\" for c in cat_features]\n",
    "assembler = VectorAssembler(inputCols=assemblerInputs, outputCol=\"features\").setHandleInvalid(\"skip\")\n",
    "stages += [assembler]"
   ]
  },
  {
   "cell_type": "code",
   "execution_count": 76,
   "metadata": {},
   "outputs": [],
   "source": [
    "# Pipeline \n",
    "pipeline = Pipeline(stages = stages)\n",
    "\n",
    "# Fit pipeline to model\n",
    "pipeline_model = pipeline.fit(all_features)\n",
    "\n",
    "# Transform data to model data\n",
    "model_data = pipeline_model.transform(all_features)\n",
    "selectedCols = ['label', 'features'] + all_features.columns\n",
    "model_data = model_data.select(selectedCols)\n"
   ]
  },
  {
   "cell_type": "code",
   "execution_count": null,
   "metadata": {},
   "outputs": [],
   "source": [
    "model_data.printSchema()"
   ]
  },
  {
   "cell_type": "code",
   "execution_count": 78,
   "metadata": {},
   "outputs": [
    {
     "data": {
      "text/plain": [
       "[Row(label=0.0, features=SparseVector(215, {51: 1.0, 117: 1.0, 168: 1.0, 186: 1.0, 187: 1.0, 201: 1.0, 212: 1.0, 214: 1.0}), auth='1', gender='0', location='Bakersfield, CA', length=277.89016, userAgent='Mozilla/5.0 (Windows NT 6.1; WOW64; rv:31.0) Gecko/20100101 Firefox/31.0', page='NextSong', level='1', method='PUT', status=200, hour=0, churn='0'),\n",
       " Row(label=0.0, features=SparseVector(215, {2: 1.0, 119: 1.0, 168: 1.0, 186: 1.0, 187: 1.0, 201: 1.0, 212: 1.0}), auth='1', gender='0', location='Boston-Cambridge-Newton, MA-NH', length=236.09424, userAgent='\"Mozilla/5.0 (Windows NT 6.1; WOW64) AppleWebKit/537.36 (KHTML, like Gecko) Chrome/37.0.2062.103 Safari/537.36\"', page='NextSong', level='0', method='PUT', status=200, hour=0, churn='0'),\n",
       " Row(label=0.0, features=SparseVector(215, {51: 1.0, 117: 1.0, 168: 1.0, 186: 1.0, 187: 1.0, 201: 1.0, 212: 1.0, 214: 1.0}), auth='1', gender='0', location='Bakersfield, CA', length=282.8273, userAgent='Mozilla/5.0 (Windows NT 6.1; WOW64; rv:31.0) Gecko/20100101 Firefox/31.0', page='NextSong', level='1', method='PUT', status=200, hour=0, churn='0'),\n",
       " Row(label=0.0, features=SparseVector(215, {2: 1.0, 119: 1.0, 168: 1.0, 186: 1.0, 187: 1.0, 201: 1.0, 212: 1.0}), auth='1', gender='0', location='Boston-Cambridge-Newton, MA-NH', length=262.71302, userAgent='\"Mozilla/5.0 (Windows NT 6.1; WOW64) AppleWebKit/537.36 (KHTML, like Gecko) Chrome/37.0.2062.103 Safari/537.36\"', page='NextSong', level='0', method='PUT', status=200, hour=0, churn='0'),\n",
       " Row(label=0.0, features=SparseVector(215, {51: 1.0, 117: 1.0, 168: 1.0, 186: 1.0, 187: 1.0, 201: 1.0, 212: 1.0, 214: 1.0}), auth='1', gender='0', location='Bakersfield, CA', length=223.60771, userAgent='Mozilla/5.0 (Windows NT 6.1; WOW64; rv:31.0) Gecko/20100101 Firefox/31.0', page='NextSong', level='1', method='PUT', status=200, hour=0, churn='0')]"
      ]
     },
     "execution_count": 78,
     "metadata": {},
     "output_type": "execute_result"
    }
   ],
   "source": [
    "model_data.head(5)"
   ]
  },
  {
   "cell_type": "code",
   "execution_count": 47,
   "metadata": {},
   "outputs": [
    {
     "name": "stdout",
     "output_type": "stream",
     "text": [
      "+--------------------+-----+-----+\n",
      "|            features|churn|label|\n",
      "+--------------------+-----+-----+\n",
      "|(197,[46,114,168,...|    1|  1.0|\n",
      "|(197,[24,123,168,...|    1|  1.0|\n",
      "|(197,[63,156,168,...|    1|  1.0|\n",
      "|(197,[29,114,169,...|    1|  1.0|\n",
      "|(197,[51,117,168,...|    1|  1.0|\n",
      "|(197,[20,113,168,...|    1|  1.0|\n",
      "|(197,[10,127,169,...|    1|  1.0|\n",
      "|(197,[0,128,168,1...|    1|  1.0|\n",
      "|(197,[72,132,168,...|    1|  1.0|\n",
      "|(197,[28,149,168,...|    1|  1.0|\n",
      "|(197,[7,115,168,1...|    1|  1.0|\n",
      "|(197,[112,115,169...|    1|  1.0|\n",
      "|(197,[0,116,168,1...|    1|  1.0|\n",
      "|(197,[6,118,168,1...|    1|  1.0|\n",
      "|(197,[70,117,169,...|    1|  1.0|\n",
      "|(197,[7,157,169,1...|    1|  1.0|\n",
      "|(197,[23,114,168,...|    1|  1.0|\n",
      "|(197,[98,115,169,...|    1|  1.0|\n",
      "|(197,[21,134,168,...|    1|  1.0|\n",
      "|(197,[60,118,168,...|    1|  1.0|\n",
      "+--------------------+-----+-----+\n",
      "only showing top 20 rows\n",
      "\n"
     ]
    }
   ],
   "source": [
    "model_data.filter(model_data.churn == '1').select('features', 'churn', 'label').show()"
   ]
  },
  {
   "cell_type": "code",
   "execution_count": 108,
   "metadata": {
    "scrolled": true
   },
   "outputs": [
    {
     "name": "stdout",
     "output_type": "stream",
     "text": [
      "+-----+--------------------+---------+------+--------------------+------+--------------------+--------------------+-----+------+------+----+-----+\n",
      "|label|            features|     auth|gender|            location|length|           userAgent|                page|level|method|status|hour|churn|\n",
      "+-----+--------------------+---------+------+--------------------+------+--------------------+--------------------+-----+------+------+----+-----+\n",
      "|  1.0|(217,[46,114,184,...|Logged In|     M|Kingsport-Bristol...|   0.0|\"Mozilla/5.0 (Mac...|    Submit Downgrade| paid|   PUT|   307|  11|    1|\n",
      "|  1.0|(217,[24,123,184,...|Logged In|     M|      Pittsburgh, PA|   0.0|\"Mozilla/5.0 (Mac...|    Submit Downgrade| paid|   PUT|   307|  21|    1|\n",
      "|  1.0|(217,[63,156,184,...|Logged In|     F|           Price, UT|   0.0|\"Mozilla/5.0 (Mac...|    Submit Downgrade| paid|   PUT|   307|  14|    1|\n",
      "|  1.0|(217,[29,114,185,...|Cancelled|     M|  Kansas City, MO-KS|   0.0|\"Mozilla/5.0 (Mac...|Cancellation Conf...| paid|   GET|   200|  20|    1|\n",
      "|  1.0|(217,[51,117,184,...|Logged In|     M|     Bakersfield, CA|   0.0|Mozilla/5.0 (Wind...|    Submit Downgrade| paid|   PUT|   307|  10|    1|\n",
      "|  1.0|(217,[20,113,184,...|Logged In|     F|Miami-Fort Lauder...|   0.0|\"Mozilla/5.0 (Win...|    Submit Downgrade| paid|   PUT|   307|  11|    1|\n",
      "|  1.0|(217,[10,127,185,...|Cancelled|     M|Phoenix-Mesa-Scot...|   0.0|\"Mozilla/5.0 (iPh...|Cancellation Conf...| paid|   GET|   200|  21|    1|\n",
      "|  1.0|(217,[0,128,184,1...|Logged In|     F|Los Angeles-Long ...|   0.0|Mozilla/5.0 (Wind...|    Submit Downgrade| paid|   PUT|   307|   4|    1|\n",
      "|  1.0|(217,[72,132,184,...|Logged In|     F|Providence-Warwic...|   0.0|Mozilla/5.0 (Wind...|    Submit Downgrade| paid|   PUT|   307|   6|    1|\n",
      "|  1.0|(217,[28,149,184,...|Logged In|     M|San Francisco-Oak...|   0.0|\"Mozilla/5.0 (iPh...|    Submit Downgrade| paid|   PUT|   307|   7|    1|\n",
      "|  1.0|(217,[7,115,184,1...|Logged In|     M|Philadelphia-Camd...|   0.0|\"Mozilla/5.0 (Mac...|    Submit Downgrade| paid|   PUT|   307|  13|    1|\n",
      "|  1.0|(217,[112,115,185...|Cancelled|     M|  Corpus Christi, TX|   0.0|\"Mozilla/5.0 (Mac...|Cancellation Conf...| free|   GET|   200|   4|    1|\n",
      "|  1.0|(217,[0,116,184,1...|Logged In|     M|Los Angeles-Long ...|   0.0|\"Mozilla/5.0 (Mac...|    Submit Downgrade| paid|   PUT|   307|   9|    1|\n",
      "|  1.0|(217,[6,118,184,1...|Logged In|     F|Louisville/Jeffer...|   0.0|\"Mozilla/5.0 (Win...|    Submit Downgrade| paid|   PUT|   307|   9|    1|\n",
      "|  1.0|(217,[70,117,185,...|Cancelled|     M|Indianapolis-Carm...|   0.0|Mozilla/5.0 (Wind...|Cancellation Conf...| paid|   GET|   200|  20|    1|\n",
      "|  1.0|(217,[7,157,185,1...|Cancelled|     F|Philadelphia-Camd...|   0.0|Mozilla/5.0 (Wind...|Cancellation Conf...| paid|   GET|   200|  21|    1|\n",
      "|  1.0|(217,[23,114,184,...|Logged In|     F|Washington-Arling...|   0.0|\"Mozilla/5.0 (Mac...|    Submit Downgrade| paid|   PUT|   307|  21|    1|\n",
      "|  1.0|(217,[98,115,185,...|Cancelled|     F|Virginia Beach-No...|   0.0|\"Mozilla/5.0 (Mac...|Cancellation Conf...| free|   GET|   200|   7|    1|\n",
      "|  1.0|(217,[21,134,184,...|Logged In|     F|Spokane-Spokane V...|   0.0|Mozilla/5.0 (Wind...|    Submit Downgrade| paid|   PUT|   307|  12|    1|\n",
      "|  1.0|(217,[60,118,184,...|Logged In|     F|     Gainesville, FL|   0.0|\"Mozilla/5.0 (Win...|    Submit Downgrade| paid|   PUT|   307|  12|    1|\n",
      "+-----+--------------------+---------+------+--------------------+------+--------------------+--------------------+-----+------+------+----+-----+\n",
      "only showing top 20 rows\n",
      "\n"
     ]
    }
   ],
   "source": [
    "model_data.filter(model_data.churn == '1').show()"
   ]
  },
  {
   "cell_type": "code",
   "execution_count": null,
   "metadata": {},
   "outputs": [],
   "source": [
    "model_data.select(\"churn\").show()"
   ]
  },
  {
   "cell_type": "code",
   "execution_count": null,
   "metadata": {
    "scrolled": true
   },
   "outputs": [],
   "source": [
    "model_data.select(\"churn\").groupby(\"churn\").count().orderBy(desc(\"count\")).show()"
   ]
  },
  {
   "cell_type": "code",
   "execution_count": null,
   "metadata": {},
   "outputs": [],
   "source": [
    "model_data.head(5)"
   ]
  },
  {
   "cell_type": "code",
   "execution_count": 48,
   "metadata": {},
   "outputs": [
    {
     "name": "stdout",
     "output_type": "stream",
     "text": [
      "root\n",
      " |-- features: vector (nullable = true)\n",
      " |-- label: double (nullable = false)\n",
      "\n"
     ]
    }
   ],
   "source": [
    "model_data = model_data.select('features', 'label')\n",
    "model_data.printSchema()"
   ]
  },
  {
   "cell_type": "code",
   "execution_count": 87,
   "metadata": {},
   "outputs": [
    {
     "data": {
      "text/plain": [
       "[Row(features=SparseVector(215, {51: 1.0, 117: 1.0, 168: 1.0, 186: 1.0, 187: 1.0, 201: 1.0, 212: 1.0, 214: 1.0}), label=0.0),\n",
       " Row(features=SparseVector(215, {2: 1.0, 119: 1.0, 168: 1.0, 186: 1.0, 187: 1.0, 201: 1.0, 212: 1.0}), label=0.0),\n",
       " Row(features=SparseVector(215, {51: 1.0, 117: 1.0, 168: 1.0, 186: 1.0, 187: 1.0, 201: 1.0, 212: 1.0, 214: 1.0}), label=0.0),\n",
       " Row(features=SparseVector(215, {2: 1.0, 119: 1.0, 168: 1.0, 186: 1.0, 187: 1.0, 201: 1.0, 212: 1.0}), label=0.0),\n",
       " Row(features=SparseVector(215, {51: 1.0, 117: 1.0, 168: 1.0, 186: 1.0, 187: 1.0, 201: 1.0, 212: 1.0, 214: 1.0}), label=0.0)]"
      ]
     },
     "execution_count": 87,
     "metadata": {},
     "output_type": "execute_result"
    }
   ],
   "source": [
    "model_data.head(5)"
   ]
  },
  {
   "cell_type": "markdown",
   "metadata": {},
   "source": [
    "# Modeling\n",
    "Split the full dataset into train, test, and validation sets. Test out several of the machine learning methods you learned. Evaluate the accuracy of the various models, tuning parameters as necessary. Determine your winning model based on test accuracy and report results on the validation set. Since the churned users are a fairly small subset, I suggest using F1 score as the metric to optimize."
   ]
  },
  {
   "cell_type": "code",
   "execution_count": 77,
   "metadata": {},
   "outputs": [],
   "source": [
    "# Split into training and testing datasets\n",
    "train_data, test_data = model_data.randomSplit([0.8, 0.2], seed=42)"
   ]
  },
  {
   "cell_type": "code",
   "execution_count": 78,
   "metadata": {},
   "outputs": [],
   "source": [
    "# Split training into train and validation datasets\n",
    "train_data, validation_data = train_data.randomSplit([0.8, 0.2], seed=42)"
   ]
  },
  {
   "cell_type": "code",
   "execution_count": 79,
   "metadata": {},
   "outputs": [
    {
     "name": "stdout",
     "output_type": "stream",
     "text": [
      "Training set has 178639 samples.\n",
      "Testing set has 55174 samples.\n",
      "Validation set has 44341 samples.\n"
     ]
    }
   ],
   "source": [
    "# Show the results of the split\n",
    "print(\"Training set has {} samples.\".format(str(train_data.count())))\n",
    "print(\"Testing set has {} samples.\".format(str(test_data.count())))\n",
    "print(\"Validation set has {} samples.\".format(str(validation_data.count())))"
   ]
  },
  {
   "cell_type": "markdown",
   "metadata": {},
   "source": [
    "### Test classifiers"
   ]
  },
  {
   "cell_type": "code",
   "execution_count": 93,
   "metadata": {},
   "outputs": [
    {
     "name": "stdout",
     "output_type": "stream",
     "text": [
      "Naive Predictor: [Accuracy score: 0.0004, F-score: 0.0005]\n"
     ]
    }
   ],
   "source": [
    "# benchmark/naive predictor\n",
    "'''\n",
    "TN = 0 # No predicted negatives in the naive case\n",
    "FN = 0 # No predicted negatives in the naive case\n",
    "'''\n",
    "\n",
    "TP = model_data.filter(model_data.label == '1').count()\n",
    "TN = model_data.filter(model_data.label == '0').count()\n",
    "FP = 0\n",
    "FN = 0\n",
    "\n",
    "\n",
    "# Accuracy, precision and recall\n",
    "accuracy = precision = TP/model_data.count()\n",
    "recall = 1.0 * TP / (TP + FN)\n",
    "\n",
    "# F-score (beta = 0.5)\n",
    "fscore = (1 + 0.5**2)*(precision*recall)/(0.5**2 * precision + recall)\n",
    "\n",
    "# Print the results \n",
    "print(\"Naive Predictor: [Accuracy score: {:.4f}, F-score: {:.4f}]\".format(accuracy, fscore))"
   ]
  },
  {
   "cell_type": "code",
   "execution_count": 94,
   "metadata": {},
   "outputs": [],
   "source": [
    "def train_predict(classifier, train_data, test_data): \n",
    "    '''\n",
    "    inputs:\n",
    "       - classifier: the learning algorithm to be trained and predicted on\n",
    "       - train_data: features training set\n",
    "       - test_data : features test set \n",
    "    output:\n",
    "        - trained_model : trained model\n",
    "    '''    \n",
    "    # Train model with train data\n",
    "    model = classifier(labelCol=\"label\", featuresCol=\"features\")\n",
    "    model = model.fit(train_data)\n",
    "\n",
    "    # Make prediction on test data\n",
    "    predictions = model.transform(test_data)\n",
    "    \n",
    "    # Evaluate prediction in test data\n",
    "    evaluate(predictions)\n",
    "\n",
    "    return model\n",
    "\n",
    "    "
   ]
  },
  {
   "cell_type": "code",
   "execution_count": 95,
   "metadata": {},
   "outputs": [],
   "source": [
    "# evaluate the model with test set\n",
    "def evaluate(predictions):\n",
    "    evaluator = MulticlassClassificationEvaluator()\n",
    "    print('F1-Score ', evaluator.evaluate(predictions, {evaluator.metricName: 'f1'}))\n",
    "    print('Precision ', evaluator.evaluate(predictions, {evaluator.metricName: 'weightedPrecision'}))\n",
    "    print('Recall ', evaluator.evaluate(predictions, {evaluator.metricName: 'weightedRecall'}))\n",
    "    print('Accuracy ', evaluator.evaluate(predictions, {evaluator.metricName: 'accuracy'}))    "
   ]
  },
  {
   "cell_type": "code",
   "execution_count": 96,
   "metadata": {},
   "outputs": [],
   "source": [
    "# initialize classifiers\n",
    "lr = LogisticRegression(featuresCol = 'features', labelCol = 'label')\n",
    "rf = RandomForestClassifier(featuresCol = 'features', labelCol = 'label')"
   ]
  },
  {
   "cell_type": "code",
   "execution_count": 97,
   "metadata": {},
   "outputs": [
    {
     "name": "stdout",
     "output_type": "stream",
     "text": [
      "F1-Score  0.9997462671526849\n",
      "Precision  0.9997644179152154\n",
      "Recall  0.9997825062529453\n",
      "Accuracy  0.9997825062529452\n"
     ]
    }
   ],
   "source": [
    "model = train_predict(LogisticRegression, train_data, test_data)"
   ]
  },
  {
   "cell_type": "code",
   "execution_count": 99,
   "metadata": {},
   "outputs": [
    {
     "name": "stdout",
     "output_type": "stream",
     "text": [
      "F1-Score  0.9996485973361194\n",
      "Precision  0.9997106760940173\n",
      "Recall  0.9997105923210495\n",
      "Accuracy  0.9997105923210496\n"
     ]
    }
   ],
   "source": [
    "model = train_predict(RandomForestClassifier, train_data, test_data)"
   ]
  },
  {
   "cell_type": "markdown",
   "metadata": {},
   "source": [
    "# Final Steps\n",
    "Clean up your code, adding comments and renaming variables to make the code easier to read and maintain. Refer to the Spark Project Overview page and Data Scientist Capstone Project Rubric to make sure you are including all components of the capstone project and meet all expectations. Remember, this includes thorough documentation in a README file in a Github repository, as well as a web app or blog post."
   ]
  }
 ],
 "metadata": {
  "kernelspec": {
   "display_name": "Python 3",
   "language": "python",
   "name": "python3"
  },
  "language_info": {
   "codemirror_mode": {
    "name": "ipython",
    "version": 3
   },
   "file_extension": ".py",
   "mimetype": "text/x-python",
   "name": "python",
   "nbconvert_exporter": "python",
   "pygments_lexer": "ipython3",
   "version": "3.6.3"
  }
 },
 "nbformat": 4,
 "nbformat_minor": 2
}
